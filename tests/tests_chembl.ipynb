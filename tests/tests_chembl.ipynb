{
 "cells": [
  {
   "cell_type": "code",
   "execution_count": null,
   "metadata": {},
   "outputs": [],
   "source": [
    "%cd .."
   ]
  },
  {
   "cell_type": "code",
   "execution_count": null,
   "metadata": {},
   "outputs": [],
   "source": [
    "from tests.test_canonicalization import test_invariance\n",
    "from tucan.io import graph_from_smiles\n",
    "from networkx.algorithms.components import is_connected\n",
    "from time import ctime\n",
    "from collections import namedtuple\n",
    "import multiprocessing"
   ]
  },
  {
   "cell_type": "code",
   "execution_count": null,
   "metadata": {},
   "outputs": [],
   "source": [
    "NUMBER_OF_PROCESSES = multiprocessing.cpu_count() - 1\n",
    "MAX_QUEUE_SIZE = 10\n",
    "\n",
    "Molecule = namedtuple(\"Molecule\", [\"chembl_id\", \"graph\"])\n",
    "TestResult = namedtuple(\"TestResult\", [\"chembl_id\", \"status\", \"info\"])\n",
    "\n",
    "molecule_queue = multiprocessing.Queue(MAX_QUEUE_SIZE)    # cap queue size to limit memory consumption\n",
    "result_queue = multiprocessing.Queue()\n",
    "\n",
    "\n",
    "def produce_molecules(molecules, results):\n",
    "    chembl = open(\"tests/chembl_30_smiles.txt\", \"r+\")\n",
    "    chembl.readline()    # skip header\n",
    "    \n",
    "    for m in chembl:\n",
    "        chembl_id, smiles = m.split(\"\\t\")\n",
    "        try:\n",
    "            graph = graph_from_smiles(smiles)\n",
    "        except Exception as e:\n",
    "            print(f\"Cannot process {chembl_id} due to unexpected exception: {e}\")\n",
    "            results.put(TestResult(chembl_id, \"skipped\", e))\n",
    "            continue\n",
    "        if not is_connected(graph):    # only test connected graphs for now\n",
    "            # print(f\"Skipping {chembl_id} due to subgraphs\")\n",
    "            results.put(TestResult(chembl_id, \"skipped\", \"disconnected graph\"))\n",
    "            continue\n",
    "        molecules.put(Molecule(chembl_id, graph))\n",
    "    chembl.close()\n",
    "    molecules.put(\"DONE\")\n",
    "\n",
    "\n",
    "def consume_molecules(molecules, results, pid):\n",
    "    n_tested = 0\n",
    "    for m in iter(molecule_queue.get, \"DONE\"):\n",
    "        try:\n",
    "            test_invariance(m.graph)\n",
    "        except AssertionError as e:\n",
    "            print(f\"Invariance test failed with {m.chembl_id}: {e}\")\n",
    "            results.put(TestResult(m.chembl_id, \"failed\", e))\n",
    "        n_tested += 1\n",
    "        if not n_tested % 1000:\n",
    "            print(f\"{ctime()}: process {pid} tested {n_tested} molecules.\")\n",
    "    molecules.put(\"DONE\")    # tell other processes we're done\n",
    "\n",
    "print(f\"{ctime()}: distributing tests of {NUMBER_OF_PROCESSES} processes.\")\n",
    "processes = [multiprocessing.Process(target=consume_molecules,\n",
    "                                     args=(molecule_queue, result_queue, pid))\n",
    "             for pid in range(NUMBER_OF_PROCESSES)]\n",
    "for p in processes:\n",
    "    p.start()\n",
    "\n",
    "produce_molecules(molecule_queue, result_queue)\n",
    "\n",
    "for p in processes:\n",
    "    p.join()    # wait for process to finish\n",
    "    p.close()\n",
    "molecule_queue.close()\n",
    "\n",
    "with open(\"tests/ChEMBL_result.tsv\", \"w\") as f:\n",
    "    f.write(f\"ChEMBL_ID\\tstatus\\tinfo\\n\")\n",
    "    while not result_queue.empty():\n",
    "        r = result_queue.get()\n",
    "        f.write(f\"{r.chembl_id}\\t{r.status}\\t{r.info}\\n\")\n",
    "result_queue.close()\n"
   ]
  }
 ],
 "metadata": {
  "interpreter": {
   "hash": "d4d1e4263499bec80672ea0156c357c1ee493ec2b1c70f0acce89fc37c4a6abe"
  },
  "kernelspec": {
   "display_name": "Python 3.9.10 ('base')",
   "language": "python",
   "name": "python3"
  },
  "language_info": {
   "codemirror_mode": {
    "name": "ipython",
    "version": 3
   },
   "file_extension": ".py",
   "mimetype": "text/x-python",
   "name": "python",
   "nbconvert_exporter": "python",
   "pygments_lexer": "ipython3",
   "version": "3.9.10"
  },
  "orig_nbformat": 4
 },
 "nbformat": 4,
 "nbformat_minor": 2
}
