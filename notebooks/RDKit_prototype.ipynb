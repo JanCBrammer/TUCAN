{
 "cells": [
  {
   "cell_type": "markdown",
   "metadata": {
    "id": "IO2ZhxSE9b2m"
   },
   "source": [
    "# Setup"
   ]
  },
  {
   "cell_type": "markdown",
   "metadata": {
    "id": "xmZj9UdM82IG"
   },
   "source": [
    "## Installation"
   ]
  },
  {
   "cell_type": "markdown",
   "metadata": {
    "id": "ZN7SudUq860Y"
   },
   "source": [
    "## Library imports\n",
    "\n",
    "The [RDKit cheminformatics library](https://rdkit.org/) provides a convenient, robust, and well tested interface for working with molecules. For our prototype we use the library's [canonicalization algorithm](https://doi.org/10.1021/acs.jcim.5b00543) and some convenience functions for manipulating and drawing molecules."
   ]
  },
  {
   "cell_type": "code",
   "execution_count": 9,
   "metadata": {
    "id": "RXg_4dQFwKPg"
   },
   "outputs": [],
   "source": [
    "from rdkit.Chem.Draw import rdMolDraw2D\n",
    "from rdkit.Chem import CanonicalRankAtoms, RenumberAtoms, MolFromMolFile, DetectChemistryProblems\n",
    "from rdkit.Chem.rdMolDescriptors import CalcMolFormula\n",
    "from rdkit import RDLogger                                                                                                                                                               \n",
    "from tabulate import tabulate\n",
    "from pathlib import Path\n",
    "from IPython.display import SVG\n",
    "import random\n",
    "RDLogger.DisableLog('rdApp.*')\n",
    "\n",
    "MOLFILEPATH = \"../test/testfiles\""
   ]
  },
  {
   "cell_type": "markdown",
   "metadata": {
    "id": "t2x_lQo09NOS"
   },
   "source": [
    "## Function definitions\n",
    "\n"
   ]
  },
  {
   "cell_type": "code",
   "execution_count": 10,
   "metadata": {
    "id": "fzAE9qgb0oMq"
   },
   "outputs": [],
   "source": [
    "def _atomic_number_sequence(atom):\n",
    "    atomic_num = atom.GetAtomicNum()\n",
    "    atomic_nums_neighbors = sorted([n.GetAtomicNum() for n in atom.GetNeighbors()], reverse=True)\n",
    "    return [atomic_num] + atomic_nums_neighbors\n",
    "\n",
    "def _sort_molecule_by_property(m, sorting_property):\n",
    "    prop_with_idcs = [(j, i) for i, j in enumerate(sorting_property)] # [(0, 0), (2, 1), (1, 2)]\n",
    "    sorted_prop, idcs_sorted_by_prop = zip(*sorted(prop_with_idcs)) # (0, 1, 2), (0, 2, 1)\n",
    "    return RenumberAtoms(m, idcs_sorted_by_prop)\n",
    "\n",
    "def sort_molecule_by_canonical_indices(m):\n",
    "    '''https://gist.github.com/ptosco/36574d7f025a932bc1b8db221903a8d2'''\n",
    "    return _sort_molecule_by_property(m, CanonicalRankAtoms(m))\n",
    "\n",
    "def sort_molecule_by_atomic_numbers(m):\n",
    "    '''Sort atoms lexicographically by atomic number. Also, within partitions\n",
    "    where all atoms have the same atomic number, sort atoms lexicographically\n",
    "    by the decreasing atomic numbers of their neighbors.\n",
    "    '''\n",
    "    atomic_numbers = [_atomic_number_sequence(atom) for atom in m.GetAtoms()]\n",
    "    return _sort_molecule_by_property(m, atomic_numbers)\n",
    "\n",
    "def draw_molecules(m_list, caption_list):\n",
    "    n_molecules = len(m_list)\n",
    "    d = rdMolDraw2D.MolDraw2DSVG(400 * n_molecules, 400, 400, 400)\n",
    "    d.drawOptions().addAtomIndices = True\n",
    "    d.drawOptions().noAtomLabels = True\n",
    "    d.drawOptions().annotationFontScale = .8\n",
    "    d.drawOptions().multipleBondOffset = 0\n",
    "    d.DrawMolecules(m_list, legends=caption_list)\n",
    "    d.FinishDrawing()\n",
    "    return SVG(d.GetDrawingText())\n",
    "\n",
    "def print_molecule(m, caption=\"\"):\n",
    "    print(caption)\n",
    "    table = []\n",
    "    for atom in m.GetAtoms():\n",
    "        idx = atom.GetIdx()\n",
    "        num = atom.GetAtomicNum()\n",
    "        neighbors = [(n.GetIdx(), n.GetAtomicNum()) for n in atom.GetNeighbors()]\n",
    "        table.append([idx, num, neighbors])\n",
    "    print(tabulate(table, tablefmt=\"fancy_grid\",\n",
    "                   headers=[\"index\", \"atomic number\", \"neighbors (index, atomic number)\"]))\n",
    "\n",
    "def write_string_representation(m):\n",
    "    atom_tuples = [tuple(sorted((a.GetIdx(), n.GetIdx()))) for a in m.GetAtoms() for n in a.GetNeighbors()]\n",
    "    unique_atom_tuples = sorted(set((atom_tuples)))\n",
    "    return f\"{CalcMolFormula(m)}:{''.join([str(t) for t in unique_atom_tuples])}\"\n",
    "\n",
    "def permute_molecule(m):\n",
    "    permuted_indices = list(range(m.GetNumAtoms()))\n",
    "    random.shuffle(permuted_indices)\n",
    "    return RenumberAtoms(m, permuted_indices)\n"
   ]
  },
  {
   "cell_type": "markdown",
   "metadata": {
    "id": "fs66a6Vr9VUD"
   },
   "source": [
    "# Canonicalization\n",
    "\n",
    "First, we canonicalize the molecule. The canonicalization ensures that the molecules that are fed into our serialization are standardized. Otherwise, depending on the molecule's initial atom indices, there can be variations in the serialization result. The reason for this will hopefully get more clear in the remainder of this notebook."
   ]
  },
  {
   "cell_type": "code",
   "execution_count": 11,
   "metadata": {
    "id": "CFxdkgWbZcIS"
   },
   "outputs": [],
   "source": [
    "m = MolFromMolFile(f\"{MOLFILEPATH}/guanine/guanine.mol\", removeHs=False)\n",
    "m_canon = sort_molecule_by_canonical_indices(m)"
   ]
  },
  {
   "cell_type": "markdown",
   "metadata": {
    "id": "yHhJZwTJ1E05"
   },
   "source": [
    "Let's compare the atom order of the original and the canonicalized molecule."
   ]
  },
  {
   "cell_type": "code",
   "execution_count": 12,
   "metadata": {
    "colab": {
     "base_uri": "https://localhost:8080/",
     "height": 1000
    },
    "id": "eFePoQFn1i2v",
    "outputId": "d169b132-0fb6-40b5-ffc8-53b5d8d637b4"
   },
   "outputs": [
    {
     "name": "stdout",
     "output_type": "stream",
     "text": [
      "original\n",
      "╒═════════╤═════════════════╤════════════════════════════════════╕\n",
      "│   index │   atomic number │ neighbors (index, atomic number)   │\n",
      "╞═════════╪═════════════════╪════════════════════════════════════╡\n",
      "│       0 │               7 │ [(1, 6), (5, 6), (12, 1)]          │\n",
      "├─────────┼─────────────────┼────────────────────────────────────┤\n",
      "│       1 │               6 │ [(0, 7), (2, 7), (10, 7)]          │\n",
      "├─────────┼─────────────────┼────────────────────────────────────┤\n",
      "│       2 │               7 │ [(1, 6), (3, 6)]                   │\n",
      "├─────────┼─────────────────┼────────────────────────────────────┤\n",
      "│       3 │               6 │ [(2, 7), (4, 6), (6, 7)]           │\n",
      "├─────────┼─────────────────┼────────────────────────────────────┤\n",
      "│       4 │               6 │ [(3, 6), (5, 6), (8, 7)]           │\n",
      "├─────────┼─────────────────┼────────────────────────────────────┤\n",
      "│       5 │               6 │ [(4, 6), (0, 7), (9, 8)]           │\n",
      "├─────────┼─────────────────┼────────────────────────────────────┤\n",
      "│       6 │               7 │ [(3, 6), (7, 6), (11, 1)]          │\n",
      "├─────────┼─────────────────┼────────────────────────────────────┤\n",
      "│       7 │               6 │ [(6, 7), (8, 7)]                   │\n",
      "├─────────┼─────────────────┼────────────────────────────────────┤\n",
      "│       8 │               7 │ [(7, 6), (4, 6)]                   │\n",
      "├─────────┼─────────────────┼────────────────────────────────────┤\n",
      "│       9 │               8 │ [(5, 6)]                           │\n",
      "├─────────┼─────────────────┼────────────────────────────────────┤\n",
      "│      10 │               7 │ [(1, 6), (13, 1), (14, 1)]         │\n",
      "├─────────┼─────────────────┼────────────────────────────────────┤\n",
      "│      11 │               1 │ [(6, 7)]                           │\n",
      "├─────────┼─────────────────┼────────────────────────────────────┤\n",
      "│      12 │               1 │ [(0, 7)]                           │\n",
      "├─────────┼─────────────────┼────────────────────────────────────┤\n",
      "│      13 │               1 │ [(10, 7)]                          │\n",
      "├─────────┼─────────────────┼────────────────────────────────────┤\n",
      "│      14 │               1 │ [(10, 7)]                          │\n",
      "╘═════════╧═════════════════╧════════════════════════════════════╛\n",
      "canonicalized\n",
      "╒═════════╤═════════════════╤════════════════════════════════════╕\n",
      "│   index │   atomic number │ neighbors (index, atomic number)   │\n",
      "╞═════════╪═════════════════╪════════════════════════════════════╡\n",
      "│       0 │               1 │ [(12, 7)]                          │\n",
      "├─────────┼─────────────────┼────────────────────────────────────┤\n",
      "│       1 │               1 │ [(12, 7)]                          │\n",
      "├─────────┼─────────────────┼────────────────────────────────────┤\n",
      "│       2 │               1 │ [(13, 7)]                          │\n",
      "├─────────┼─────────────────┼────────────────────────────────────┤\n",
      "│       3 │               1 │ [(14, 7)]                          │\n",
      "├─────────┼─────────────────┼────────────────────────────────────┤\n",
      "│       4 │               8 │ [(9, 6)]                           │\n",
      "├─────────┼─────────────────┼────────────────────────────────────┤\n",
      "│       5 │               6 │ [(14, 7), (6, 7)]                  │\n",
      "├─────────┼─────────────────┼────────────────────────────────────┤\n",
      "│       6 │               7 │ [(5, 6), (10, 6)]                  │\n",
      "├─────────┼─────────────────┼────────────────────────────────────┤\n",
      "│       7 │               7 │ [(8, 6), (11, 6)]                  │\n",
      "├─────────┼─────────────────┼────────────────────────────────────┤\n",
      "│       8 │               6 │ [(13, 7), (7, 7), (12, 7)]         │\n",
      "├─────────┼─────────────────┼────────────────────────────────────┤\n",
      "│       9 │               6 │ [(10, 6), (13, 7), (4, 8)]         │\n",
      "├─────────┼─────────────────┼────────────────────────────────────┤\n",
      "│      10 │               6 │ [(11, 6), (9, 6), (6, 7)]          │\n",
      "├─────────┼─────────────────┼────────────────────────────────────┤\n",
      "│      11 │               6 │ [(7, 7), (10, 6), (14, 7)]         │\n",
      "├─────────┼─────────────────┼────────────────────────────────────┤\n",
      "│      12 │               7 │ [(8, 6), (0, 1), (1, 1)]           │\n",
      "├─────────┼─────────────────┼────────────────────────────────────┤\n",
      "│      13 │               7 │ [(8, 6), (9, 6), (2, 1)]           │\n",
      "├─────────┼─────────────────┼────────────────────────────────────┤\n",
      "│      14 │               7 │ [(11, 6), (5, 6), (3, 1)]          │\n",
      "╘═════════╧═════════════════╧════════════════════════════════════╛\n"
     ]
    },
    {
     "data": {
      "image/svg+xml": "<svg xmlns=\"http://www.w3.org/2000/svg\" xmlns:rdkit=\"http://www.rdkit.org/xml\" xmlns:xlink=\"http://www.w3.org/1999/xlink\" version=\"1.1\" baseProfile=\"full\" xml:space=\"preserve\" width=\"800px\" height=\"400px\" viewBox=\"0 0 800 400\">\n<!-- END OF HEADER -->\n<rect style=\"opacity:1.0;fill:#FFFFFF;stroke:none\" width=\"800.0\" height=\"400.0\" x=\"0.0\" y=\"0.0\"> </rect>\n<rect style=\"opacity:1.0;fill:#FFFFFF;stroke:none\" width=\"800.0\" height=\"400.0\" x=\"0.0\" y=\"0.0\"> </rect>\n<rect style=\"opacity:1.0;fill:#FFFFFF;stroke:none\" width=\"800.0\" height=\"400.0\" x=\"0.0\" y=\"0.0\"> </rect>\n<path class=\"bond-0 atom-0 atom-1\" d=\"M 263.0,145.7 L 263.0,179.9\" style=\"fill:none;fill-rule:evenodd;stroke:#0000FF;stroke-width:2.0px;stroke-linecap:butt;stroke-linejoin:miter;stroke-opacity:1\"/>\n<path class=\"bond-0 atom-0 atom-1\" d=\"M 263.0,179.9 L 263.0,214.2\" style=\"fill:none;fill-rule:evenodd;stroke:#000000;stroke-width:2.0px;stroke-linecap:butt;stroke-linejoin:miter;stroke-opacity:1\"/>\n<path class=\"bond-5 atom-0 atom-5\" d=\"M 263.0,145.7 L 233.3,128.6\" style=\"fill:none;fill-rule:evenodd;stroke:#0000FF;stroke-width:2.0px;stroke-linecap:butt;stroke-linejoin:miter;stroke-opacity:1\"/>\n<path class=\"bond-5 atom-0 atom-5\" d=\"M 233.3,128.6 L 203.7,111.5\" style=\"fill:none;fill-rule:evenodd;stroke:#000000;stroke-width:2.0px;stroke-linecap:butt;stroke-linejoin:miter;stroke-opacity:1\"/>\n<path class=\"bond-13 atom-0 atom-12\" d=\"M 263.0,145.7 L 292.6,128.6\" style=\"fill:none;fill-rule:evenodd;stroke:#0000FF;stroke-width:2.0px;stroke-linecap:butt;stroke-linejoin:miter;stroke-opacity:1\"/>\n<path class=\"bond-13 atom-0 atom-12\" d=\"M 292.6,128.6 L 322.3,111.4\" style=\"fill:none;fill-rule:evenodd;stroke:#000000;stroke-width:2.0px;stroke-linecap:butt;stroke-linejoin:miter;stroke-opacity:1\"/>\n<path class=\"bond-1 atom-1 atom-2\" d=\"M 263.0,214.2 L 233.3,231.3\" style=\"fill:none;fill-rule:evenodd;stroke:#000000;stroke-width:2.0px;stroke-linecap:butt;stroke-linejoin:miter;stroke-opacity:1\"/>\n<path class=\"bond-1 atom-1 atom-2\" d=\"M 233.3,231.3 L 203.7,248.5\" style=\"fill:none;fill-rule:evenodd;stroke:#0000FF;stroke-width:2.0px;stroke-linecap:butt;stroke-linejoin:miter;stroke-opacity:1\"/>\n<path class=\"bond-1 atom-1 atom-2\" d=\"M 254.1,219.3 L 233.3,231.3\" style=\"fill:none;fill-rule:evenodd;stroke:#000000;stroke-width:2.0px;stroke-linecap:butt;stroke-linejoin:miter;stroke-opacity:1\"/>\n<path class=\"bond-1 atom-1 atom-2\" d=\"M 233.3,231.3 L 212.6,243.4\" style=\"fill:none;fill-rule:evenodd;stroke:#0000FF;stroke-width:2.0px;stroke-linecap:butt;stroke-linejoin:miter;stroke-opacity:1\"/>\n<path class=\"bond-11 atom-1 atom-10\" d=\"M 263.0,214.2 L 292.7,231.3\" style=\"fill:none;fill-rule:evenodd;stroke:#000000;stroke-width:2.0px;stroke-linecap:butt;stroke-linejoin:miter;stroke-opacity:1\"/>\n<path class=\"bond-11 atom-1 atom-10\" d=\"M 292.7,231.3 L 322.5,248.5\" style=\"fill:none;fill-rule:evenodd;stroke:#0000FF;stroke-width:2.0px;stroke-linecap:butt;stroke-linejoin:miter;stroke-opacity:1\"/>\n<path class=\"bond-2 atom-2 atom-3\" d=\"M 203.7,248.5 L 174.0,231.3\" style=\"fill:none;fill-rule:evenodd;stroke:#0000FF;stroke-width:2.0px;stroke-linecap:butt;stroke-linejoin:miter;stroke-opacity:1\"/>\n<path class=\"bond-2 atom-2 atom-3\" d=\"M 174.0,231.3 L 144.3,214.2\" style=\"fill:none;fill-rule:evenodd;stroke:#000000;stroke-width:2.0px;stroke-linecap:butt;stroke-linejoin:miter;stroke-opacity:1\"/>\n<path class=\"bond-3 atom-3 atom-4\" d=\"M 144.3,214.2 L 144.3,145.7\" style=\"fill:none;fill-rule:evenodd;stroke:#000000;stroke-width:2.0px;stroke-linecap:butt;stroke-linejoin:miter;stroke-opacity:1\"/>\n<path class=\"bond-3 atom-3 atom-4\" d=\"M 144.3,203.9 L 144.3,156.0\" style=\"fill:none;fill-rule:evenodd;stroke:#000000;stroke-width:2.0px;stroke-linecap:butt;stroke-linejoin:miter;stroke-opacity:1\"/>\n<path class=\"bond-6 atom-3 atom-6\" d=\"M 144.3,214.2 L 111.8,224.7\" style=\"fill:none;fill-rule:evenodd;stroke:#000000;stroke-width:2.0px;stroke-linecap:butt;stroke-linejoin:miter;stroke-opacity:1\"/>\n<path class=\"bond-6 atom-3 atom-6\" d=\"M 111.8,224.7 L 79.2,235.3\" style=\"fill:none;fill-rule:evenodd;stroke:#0000FF;stroke-width:2.0px;stroke-linecap:butt;stroke-linejoin:miter;stroke-opacity:1\"/>\n<path class=\"bond-4 atom-4 atom-5\" d=\"M 144.3,145.7 L 203.7,111.5\" style=\"fill:none;fill-rule:evenodd;stroke:#000000;stroke-width:2.0px;stroke-linecap:butt;stroke-linejoin:miter;stroke-opacity:1\"/>\n<path class=\"bond-9 atom-4 atom-8\" d=\"M 144.3,145.7 L 111.8,135.1\" style=\"fill:none;fill-rule:evenodd;stroke:#000000;stroke-width:2.0px;stroke-linecap:butt;stroke-linejoin:miter;stroke-opacity:1\"/>\n<path class=\"bond-9 atom-4 atom-8\" d=\"M 111.8,135.1 L 79.2,124.5\" style=\"fill:none;fill-rule:evenodd;stroke:#0000FF;stroke-width:2.0px;stroke-linecap:butt;stroke-linejoin:miter;stroke-opacity:1\"/>\n<path class=\"bond-10 atom-5 atom-9\" d=\"M 203.7,111.5 L 203.7,77.2\" style=\"fill:none;fill-rule:evenodd;stroke:#000000;stroke-width:2.0px;stroke-linecap:butt;stroke-linejoin:miter;stroke-opacity:1\"/>\n<path class=\"bond-10 atom-5 atom-9\" d=\"M 203.7,77.2 L 203.7,43.0\" style=\"fill:none;fill-rule:evenodd;stroke:#FF0000;stroke-width:2.0px;stroke-linecap:butt;stroke-linejoin:miter;stroke-opacity:1\"/>\n<path class=\"bond-10 atom-5 atom-9\" d=\"M 203.7,111.5 L 203.7,77.2\" style=\"fill:none;fill-rule:evenodd;stroke:#000000;stroke-width:2.0px;stroke-linecap:butt;stroke-linejoin:miter;stroke-opacity:1\"/>\n<path class=\"bond-10 atom-5 atom-9\" d=\"M 203.7,77.2 L 203.7,43.0\" style=\"fill:none;fill-rule:evenodd;stroke:#FF0000;stroke-width:2.0px;stroke-linecap:butt;stroke-linejoin:miter;stroke-opacity:1\"/>\n<path class=\"bond-7 atom-6 atom-7\" d=\"M 79.2,235.3 L 59.1,207.6\" style=\"fill:none;fill-rule:evenodd;stroke:#0000FF;stroke-width:2.0px;stroke-linecap:butt;stroke-linejoin:miter;stroke-opacity:1\"/>\n<path class=\"bond-7 atom-6 atom-7\" d=\"M 59.1,207.6 L 38.9,179.9\" style=\"fill:none;fill-rule:evenodd;stroke:#000000;stroke-width:2.0px;stroke-linecap:butt;stroke-linejoin:miter;stroke-opacity:1\"/>\n<path class=\"bond-12 atom-6 atom-11\" d=\"M 79.2,235.3 L 68.6,267.9\" style=\"fill:none;fill-rule:evenodd;stroke:#0000FF;stroke-width:2.0px;stroke-linecap:butt;stroke-linejoin:miter;stroke-opacity:1\"/>\n<path class=\"bond-12 atom-6 atom-11\" d=\"M 68.6,267.9 L 58.1,300.5\" style=\"fill:none;fill-rule:evenodd;stroke:#000000;stroke-width:2.0px;stroke-linecap:butt;stroke-linejoin:miter;stroke-opacity:1\"/>\n<path class=\"bond-8 atom-7 atom-8\" d=\"M 38.9,179.9 L 59.1,152.2\" style=\"fill:none;fill-rule:evenodd;stroke:#000000;stroke-width:2.0px;stroke-linecap:butt;stroke-linejoin:miter;stroke-opacity:1\"/>\n<path class=\"bond-8 atom-7 atom-8\" d=\"M 59.1,152.2 L 79.2,124.5\" style=\"fill:none;fill-rule:evenodd;stroke:#0000FF;stroke-width:2.0px;stroke-linecap:butt;stroke-linejoin:miter;stroke-opacity:1\"/>\n<path class=\"bond-8 atom-7 atom-8\" d=\"M 45.0,171.6 L 59.1,152.2\" style=\"fill:none;fill-rule:evenodd;stroke:#000000;stroke-width:2.0px;stroke-linecap:butt;stroke-linejoin:miter;stroke-opacity:1\"/>\n<path class=\"bond-8 atom-7 atom-8\" d=\"M 59.1,152.2 L 73.2,132.8\" style=\"fill:none;fill-rule:evenodd;stroke:#0000FF;stroke-width:2.0px;stroke-linecap:butt;stroke-linejoin:miter;stroke-opacity:1\"/>\n<path class=\"bond-14 atom-10 atom-13\" d=\"M 322.5,248.5 L 352.2,231.4\" style=\"fill:none;fill-rule:evenodd;stroke:#0000FF;stroke-width:2.0px;stroke-linecap:butt;stroke-linejoin:miter;stroke-opacity:1\"/>\n<path class=\"bond-14 atom-10 atom-13\" d=\"M 352.2,231.4 L 381.8,214.3\" style=\"fill:none;fill-rule:evenodd;stroke:#000000;stroke-width:2.0px;stroke-linecap:butt;stroke-linejoin:miter;stroke-opacity:1\"/>\n<path class=\"bond-15 atom-10 atom-14\" d=\"M 322.5,248.5 L 322.5,282.8\" style=\"fill:none;fill-rule:evenodd;stroke:#0000FF;stroke-width:2.0px;stroke-linecap:butt;stroke-linejoin:miter;stroke-opacity:1\"/>\n<path class=\"bond-15 atom-10 atom-14\" d=\"M 322.5,282.8 L 322.5,317.0\" style=\"fill:none;fill-rule:evenodd;stroke:#000000;stroke-width:2.0px;stroke-linecap:butt;stroke-linejoin:miter;stroke-opacity:1\"/>\n<path class=\"note\" d=\"M 245.0 162.2 Q 242.8 162.2, 241.7 160.6 Q 240.7 159.0, 240.7 156.1 Q 240.7 153.2, 241.7 151.6 Q 242.8 150.0, 245.0 150.0 Q 247.2 150.0, 248.3 151.6 Q 249.4 153.2, 249.4 156.1 Q 249.4 159.0, 248.3 160.6 Q 247.2 162.2, 245.0 162.2 M 245.0 160.9 Q 246.3 160.9, 247.0 159.7 Q 247.7 158.5, 247.7 156.1 Q 247.7 153.8, 247.0 152.6 Q 246.3 151.4, 245.0 151.4 Q 243.7 151.4, 243.0 152.6 Q 242.3 153.8, 242.3 156.1 Q 242.3 158.5, 243.0 159.7 Q 243.7 160.9, 245.0 160.9 \" fill=\"#000000\"/>\n<path class=\"note\" d=\"M 242.1 208.4 L 244.7 208.4 L 244.7 199.5 L 241.8 200.4 L 241.4 199.4 L 245.1 197.8 L 246.3 198.0 L 246.3 208.4 L 248.6 208.4 L 248.6 209.8 L 242.1 209.8 L 242.1 208.4 \" fill=\"#000000\"/>\n<path class=\"note\" d=\"M 199.7 265.6 Q 200.2 264.5, 201.2 263.9 Q 202.3 263.3, 203.7 263.3 Q 205.5 263.3, 206.5 264.2 Q 207.5 265.2, 207.5 266.9 Q 207.5 268.7, 206.2 270.4 Q 204.9 272.0, 202.2 273.9 L 207.7 273.9 L 207.7 275.3 L 199.7 275.3 L 199.7 274.2 Q 201.9 272.6, 203.2 271.4 Q 204.6 270.2, 205.2 269.2 Q 205.8 268.1, 205.8 267.0 Q 205.8 265.9, 205.3 265.2 Q 204.7 264.6, 203.7 264.6 Q 202.8 264.6, 202.1 265.0 Q 201.5 265.4, 201.0 266.2 L 199.7 265.6 \" fill=\"#000000\"/>\n<path class=\"note\" d=\"M 164.0 203.5 Q 165.2 203.9, 165.7 204.6 Q 166.3 205.4, 166.3 206.5 Q 166.3 207.6, 165.8 208.3 Q 165.3 209.1, 164.4 209.6 Q 163.4 210.0, 162.2 210.0 Q 160.9 210.0, 160.0 209.5 Q 159.0 209.1, 158.3 208.2 L 159.2 207.2 Q 160.0 208.0, 160.6 208.3 Q 161.2 208.6, 162.2 208.6 Q 163.3 208.6, 164.0 208.1 Q 164.6 207.5, 164.6 206.5 Q 164.6 205.3, 163.9 204.8 Q 163.2 204.2, 161.8 204.2 L 160.9 204.2 L 160.9 203.0 L 161.7 203.0 Q 163.0 203.0, 163.7 202.4 Q 164.4 201.9, 164.4 200.8 Q 164.4 200.0, 163.8 199.6 Q 163.2 199.1, 162.2 199.1 Q 161.2 199.1, 160.6 199.5 Q 160.0 199.8, 159.5 200.7 L 158.4 200.1 Q 158.8 199.1, 159.8 198.4 Q 160.8 197.8, 162.2 197.8 Q 164.0 197.8, 165.0 198.6 Q 166.0 199.4, 166.0 200.8 Q 166.0 201.8, 165.5 202.5 Q 165.0 203.2, 164.0 203.5 \" fill=\"#000000\"/>\n<path class=\"note\" d=\"M 165.4 157.9 L 166.9 157.9 L 166.9 159.3 L 165.4 159.3 L 165.4 162.0 L 163.9 162.0 L 163.9 159.3 L 157.7 159.3 L 157.7 158.2 L 162.9 150.1 L 165.4 150.1 L 165.4 157.9 M 159.6 157.9 L 163.9 157.9 L 163.9 151.2 L 159.6 157.9 \" fill=\"#000000\"/>\n<path class=\"note\" d=\"M 204.0 130.7 Q 205.0 130.7, 205.9 131.2 Q 206.8 131.6, 207.2 132.5 Q 207.7 133.3, 207.7 134.4 Q 207.7 135.6, 207.1 136.5 Q 206.5 137.4, 205.6 137.8 Q 204.6 138.3, 203.5 138.3 Q 202.4 138.3, 201.4 137.9 Q 200.4 137.5, 199.7 136.7 L 200.7 135.7 Q 201.2 136.3, 202.0 136.6 Q 202.7 136.9, 203.5 136.9 Q 204.6 136.9, 205.3 136.3 Q 206.0 135.6, 206.0 134.4 Q 206.0 133.2, 205.3 132.6 Q 204.6 132.0, 203.4 132.0 Q 202.4 132.0, 201.2 132.4 L 200.3 132.0 L 200.9 126.3 L 207.0 126.3 L 206.8 127.6 L 202.2 127.6 L 201.9 131.1 Q 203.0 130.7, 204.0 130.7 \" fill=\"#000000\"/>\n<path class=\"note\" d=\"M 86.2 214.2 Q 87.2 214.2, 88.0 214.6 Q 88.8 215.1, 89.3 215.9 Q 89.8 216.7, 89.8 217.8 Q 89.8 218.9, 89.2 219.8 Q 88.7 220.7, 87.8 221.2 Q 86.9 221.7, 85.8 221.7 Q 83.6 221.7, 82.6 220.3 Q 81.5 218.9, 81.5 216.0 Q 81.5 212.8, 82.8 211.2 Q 84.1 209.6, 86.7 209.6 Q 87.4 209.6, 88.0 209.7 Q 88.7 209.9, 89.3 210.3 L 88.6 211.4 Q 87.8 210.9, 86.7 210.9 Q 85.0 210.9, 84.2 212.0 Q 83.3 213.1, 83.2 215.3 Q 83.8 214.8, 84.6 214.5 Q 85.3 214.2, 86.2 214.2 M 85.8 220.4 Q 86.4 220.4, 86.9 220.0 Q 87.5 219.7, 87.8 219.1 Q 88.1 218.5, 88.1 217.8 Q 88.1 216.7, 87.5 216.1 Q 86.9 215.5, 85.9 215.5 Q 85.1 215.5, 84.4 215.8 Q 83.7 216.1, 83.2 216.6 Q 83.3 218.6, 83.9 219.5 Q 84.5 220.4, 85.8 220.4 \" fill=\"#000000\"/>\n<path class=\"note\" d=\"M 20.5 175.3 L 14.2 175.3 L 14.2 174.0 L 22.1 174.0 L 22.1 175.2 L 17.3 185.9 L 15.7 185.9 L 20.5 175.3 \" fill=\"#000000\"/>\n<path class=\"note\" d=\"M 74.7 104.5 Q 75.8 105.0, 76.4 105.7 Q 77.0 106.4, 77.0 107.5 Q 77.0 108.5, 76.5 109.3 Q 76.0 110.1, 75.0 110.5 Q 74.1 111.0, 72.9 111.0 Q 70.9 111.0, 69.8 110.1 Q 68.6 109.1, 68.6 107.5 Q 68.6 106.6, 69.1 105.8 Q 69.6 105.1, 70.7 104.5 Q 69.9 104.1, 69.5 103.5 Q 69.0 102.8, 69.0 101.8 Q 69.0 100.4, 70.1 99.6 Q 71.1 98.8, 72.8 98.8 Q 74.5 98.8, 75.6 99.6 Q 76.6 100.4, 76.6 101.8 Q 76.6 102.7, 76.1 103.3 Q 75.6 104.0, 74.7 104.5 M 72.8 100.0 Q 71.8 100.0, 71.3 100.5 Q 70.7 101.0, 70.7 101.8 Q 70.7 102.4, 71.1 102.8 Q 71.5 103.2, 72.0 103.5 Q 72.5 103.7, 73.6 104.1 Q 74.3 103.6, 74.6 103.0 Q 74.9 102.5, 74.9 101.8 Q 74.9 101.0, 74.3 100.5 Q 73.8 100.0, 72.8 100.0 M 72.9 109.7 Q 74.0 109.7, 74.7 109.1 Q 75.3 108.5, 75.3 107.5 Q 75.3 106.9, 75.0 106.5 Q 74.6 106.1, 74.1 105.8 Q 73.6 105.6, 72.6 105.3 L 71.9 105.0 Q 71.0 105.5, 70.7 106.2 Q 70.3 106.7, 70.3 107.5 Q 70.3 108.5, 71.0 109.1 Q 71.7 109.7, 72.9 109.7 \" fill=\"#000000\"/>\n<path class=\"note\" d=\"M 182.8 37.0 Q 184.9 37.0, 186.0 38.4 Q 187.1 39.8, 187.1 42.7 Q 187.1 45.9, 185.8 47.5 Q 184.4 49.1, 181.9 49.1 Q 181.2 49.1, 180.5 49.0 Q 179.9 48.8, 179.3 48.4 L 180.0 47.3 Q 180.8 47.8, 181.9 47.8 Q 183.6 47.8, 184.4 46.7 Q 185.3 45.6, 185.4 43.4 Q 184.8 43.9, 184.0 44.2 Q 183.2 44.5, 182.4 44.5 Q 181.4 44.5, 180.6 44.1 Q 179.7 43.6, 179.3 42.8 Q 178.8 42.0, 178.8 40.9 Q 178.8 39.8, 179.3 38.9 Q 179.9 38.0, 180.8 37.5 Q 181.7 37.0, 182.8 37.0 M 180.5 40.9 Q 180.5 42.0, 181.1 42.6 Q 181.7 43.2, 182.7 43.2 Q 183.4 43.2, 184.2 42.9 Q 184.9 42.6, 185.4 42.1 Q 185.3 40.1, 184.7 39.2 Q 184.1 38.3, 182.8 38.3 Q 182.2 38.3, 181.6 38.7 Q 181.1 39.0, 180.8 39.6 Q 180.5 40.2, 180.5 40.9 \" fill=\"#000000\"/>\n<path class=\"note\" d=\"M 311.1 232.4 L 313.7 232.4 L 313.7 223.5 L 310.8 224.4 L 310.5 223.4 L 314.1 221.8 L 315.3 222.0 L 315.3 232.4 L 317.6 232.4 L 317.6 233.8 L 311.1 233.8 L 311.1 232.4 \" fill=\"#000000\"/>\n<path class=\"note\" d=\"M 323.0 233.9 Q 320.8 233.9, 319.7 232.3 Q 318.7 230.7, 318.7 227.8 Q 318.7 224.9, 319.7 223.3 Q 320.8 221.7, 323.0 221.7 Q 325.2 221.7, 326.3 223.3 Q 327.4 224.9, 327.4 227.8 Q 327.4 230.7, 326.3 232.3 Q 325.2 233.9, 323.0 233.9 M 323.0 232.6 Q 324.3 232.6, 325.0 231.4 Q 325.7 230.2, 325.7 227.8 Q 325.7 225.5, 325.0 224.3 Q 324.3 223.1, 323.0 223.1 Q 321.7 223.1, 321.0 224.3 Q 320.3 225.5, 320.3 227.8 Q 320.3 230.2, 321.0 231.4 Q 321.7 232.6, 323.0 232.6 \" fill=\"#000000\"/>\n<path class=\"note\" d=\"M 67.2 311.5 L 69.9 311.5 L 69.9 302.6 L 67.0 303.5 L 66.6 302.5 L 70.2 300.9 L 71.4 301.1 L 71.4 311.5 L 73.8 311.5 L 73.8 312.9 L 67.2 312.9 L 67.2 311.5 \" fill=\"#000000\"/>\n<path class=\"note\" d=\"M 75.3 311.5 L 77.9 311.5 L 77.9 302.6 L 75.1 303.5 L 74.7 302.5 L 78.3 300.9 L 79.5 301.1 L 79.5 311.5 L 81.9 311.5 L 81.9 312.9 L 75.3 312.9 L 75.3 311.5 \" fill=\"#000000\"/>\n<path class=\"note\" d=\"M 301.0 98.1 L 303.6 98.1 L 303.6 89.2 L 300.7 90.1 L 300.3 89.1 L 304.0 87.5 L 305.2 87.7 L 305.2 98.1 L 307.5 98.1 L 307.5 99.5 L 301.0 99.5 L 301.0 98.1 \" fill=\"#000000\"/>\n<path class=\"note\" d=\"M 308.4 89.8 Q 308.8 88.7, 309.9 88.1 Q 310.9 87.4, 312.3 87.4 Q 314.1 87.4, 315.2 88.4 Q 316.2 89.4, 316.2 91.1 Q 316.2 92.9, 314.8 94.5 Q 313.6 96.2, 310.9 98.1 L 316.4 98.1 L 316.4 99.5 L 308.3 99.5 L 308.3 98.4 Q 310.6 96.8, 311.9 95.6 Q 313.2 94.4, 313.8 93.4 Q 314.5 92.3, 314.5 91.2 Q 314.5 90.1, 313.9 89.4 Q 313.3 88.8, 312.3 88.8 Q 311.4 88.8, 310.7 89.2 Q 310.1 89.6, 309.7 90.4 L 308.4 89.8 \" fill=\"#000000\"/>\n<path class=\"note\" d=\"M 360.6 201.0 L 363.2 201.0 L 363.2 192.1 L 360.3 193.0 L 359.9 192.0 L 363.6 190.3 L 364.7 190.5 L 364.7 201.0 L 367.1 201.0 L 367.1 202.3 L 360.6 202.3 L 360.6 201.0 \" fill=\"#000000\"/>\n<path class=\"note\" d=\"M 373.5 196.0 Q 374.7 196.4, 375.2 197.1 Q 375.8 197.9, 375.8 199.0 Q 375.8 200.1, 375.3 200.8 Q 374.8 201.6, 373.9 202.1 Q 372.9 202.5, 371.7 202.5 Q 370.4 202.5, 369.5 202.0 Q 368.5 201.6, 367.8 200.7 L 368.7 199.7 Q 369.5 200.5, 370.1 200.8 Q 370.7 201.1, 371.7 201.1 Q 372.8 201.1, 373.5 200.6 Q 374.1 200.0, 374.1 199.0 Q 374.1 197.8, 373.4 197.3 Q 372.7 196.7, 371.3 196.7 L 370.4 196.7 L 370.4 195.5 L 371.2 195.5 Q 372.5 195.5, 373.2 194.9 Q 373.9 194.4, 373.9 193.3 Q 373.9 192.5, 373.3 192.1 Q 372.7 191.6, 371.7 191.6 Q 370.7 191.6, 370.1 192.0 Q 369.5 192.3, 369.1 193.2 L 367.9 192.6 Q 368.3 191.6, 369.3 190.9 Q 370.3 190.3, 371.7 190.3 Q 373.5 190.3, 374.5 191.1 Q 375.5 191.9, 375.5 193.3 Q 375.5 194.3, 375.0 195.0 Q 374.5 195.7, 373.5 196.0 \" fill=\"#000000\"/>\n<path class=\"note\" d=\"M 331.9 321.7 L 334.5 321.7 L 334.5 312.8 L 331.6 313.7 L 331.2 312.7 L 334.9 311.0 L 336.1 311.2 L 336.1 321.7 L 338.4 321.7 L 338.4 323.0 L 331.9 323.0 L 331.9 321.7 \" fill=\"#000000\"/>\n<path class=\"note\" d=\"M 346.7 318.9 L 348.1 318.9 L 348.1 320.3 L 346.7 320.3 L 346.7 323.0 L 345.1 323.0 L 345.1 320.3 L 338.9 320.3 L 338.9 319.2 L 344.1 311.1 L 346.7 311.1 L 346.7 318.9 M 340.9 318.9 L 345.1 318.9 L 345.1 312.2 L 340.9 318.9 \" fill=\"#000000\"/>\n<path d=\"M 172.8 385.8 Q 172.8 383.8, 173.8 382.7 Q 174.8 381.5, 176.7 381.5 Q 178.5 381.5, 179.5 382.7 Q 180.6 383.8, 180.6 385.8 Q 180.6 387.8, 179.5 388.9 Q 178.5 390.0, 176.7 390.0 Q 174.8 390.0, 173.8 388.9 Q 172.8 387.8, 172.8 385.8 M 174.3 385.8 Q 174.3 387.3, 174.9 388.1 Q 175.5 388.9, 176.7 388.9 Q 177.8 388.9, 178.4 388.1 Q 179.0 387.3, 179.0 385.8 Q 179.0 384.3, 178.4 383.5 Q 177.8 382.7, 176.7 382.7 Q 175.5 382.7, 174.9 383.5 Q 174.3 384.3, 174.3 385.8 \" fill=\"#000000\"/>\n<path d=\"M 183.1 381.7 L 183.3 382.8 Q 184.2 381.5, 185.6 381.5 Q 186.0 381.5, 186.6 381.7 L 186.4 383.0 Q 185.7 382.9, 185.3 382.9 Q 184.7 382.9, 184.2 383.2 Q 183.8 383.4, 183.4 384.0 L 183.4 389.9 L 181.9 389.9 L 181.9 381.7 L 183.1 381.7 \" fill=\"#000000\"/>\n<path d=\"M 188.0 378.6 L 189.5 378.6 L 189.5 380.0 L 188.0 380.0 L 188.0 378.6 M 188.0 381.7 L 189.5 381.7 L 189.5 389.9 L 188.0 389.9 L 188.0 381.7 \" fill=\"#000000\"/>\n<path d=\"M 197.7 381.7 L 197.7 390.4 Q 197.7 393.9, 194.0 393.9 Q 192.1 393.9, 190.5 393.1 L 191.0 392.0 Q 191.9 392.4, 192.5 392.6 Q 193.2 392.7, 194.0 392.7 Q 195.2 392.7, 195.7 392.2 Q 196.2 391.7, 196.2 390.4 L 196.2 389.0 Q 195.3 390.0, 193.8 390.0 Q 192.1 390.0, 191.2 389.0 Q 190.2 387.9, 190.2 385.9 Q 190.2 383.9, 191.3 382.7 Q 192.5 381.5, 194.5 381.5 Q 195.5 381.5, 196.5 381.8 L 196.5 381.7 L 197.7 381.7 M 193.9 388.9 Q 194.8 388.9, 195.4 388.4 Q 196.0 387.9, 196.2 387.1 L 196.2 383.0 Q 195.4 382.7, 194.5 382.7 Q 193.2 382.7, 192.5 383.6 Q 191.8 384.4, 191.8 385.9 Q 191.8 387.3, 192.3 388.1 Q 192.9 388.9, 193.9 388.9 \" fill=\"#000000\"/>\n<path d=\"M 199.1 378.6 L 200.5 378.6 L 200.5 380.0 L 199.1 380.0 L 199.1 378.6 M 199.1 381.7 L 200.5 381.7 L 200.5 389.9 L 199.1 389.9 L 199.1 381.7 \" fill=\"#000000\"/>\n<path d=\"M 206.1 381.5 Q 207.5 381.5, 208.1 382.3 Q 208.9 383.0, 208.9 384.5 L 208.9 389.9 L 207.3 389.9 L 207.3 384.6 Q 207.3 383.6, 207.0 383.2 Q 206.6 382.7, 205.8 382.7 Q 205.0 382.7, 204.4 383.1 Q 203.8 383.4, 203.4 384.0 L 203.4 389.9 L 201.9 389.9 L 201.9 381.7 L 203.1 381.7 L 203.3 382.8 Q 204.4 381.5, 206.1 381.5 \" fill=\"#000000\"/>\n<path d=\"M 209.6 387.7 Q 209.6 386.4, 210.6 385.7 Q 211.7 384.9, 213.6 384.9 L 214.8 384.9 L 214.8 384.6 Q 214.8 383.6, 214.4 383.2 Q 214.0 382.7, 212.9 382.7 Q 212.3 382.7, 211.8 382.9 Q 211.3 383.0, 210.5 383.3 L 210.0 382.3 Q 211.5 381.5, 213.0 381.5 Q 214.7 381.5, 215.5 382.3 Q 216.3 383.0, 216.3 384.6 L 216.3 389.9 L 215.2 389.9 Q 215.1 389.8, 215.1 389.6 Q 215.0 389.4, 214.9 389.0 Q 213.8 390.1, 212.3 390.1 Q 211.0 390.1, 210.3 389.4 Q 209.6 388.8, 209.6 387.7 M 211.1 387.7 Q 211.1 388.3, 211.4 388.6 Q 211.8 388.9, 212.5 388.9 Q 213.2 388.9, 213.8 388.6 Q 214.4 388.3, 214.8 387.8 L 214.8 386.1 L 213.7 386.1 Q 212.4 386.1, 211.7 386.5 Q 211.1 386.9, 211.1 387.7 \" fill=\"#000000\"/>\n<path d=\"M 217.7 377.8 L 219.2 377.8 L 219.2 389.9 L 217.7 389.9 L 217.7 377.8 \" fill=\"#000000\"/>\n<path class=\"bond-14 atom-12 atom-0\" d=\"M 722.5,248.5 L 752.2,231.4\" style=\"fill:none;fill-rule:evenodd;stroke:#0000FF;stroke-width:2.0px;stroke-linecap:butt;stroke-linejoin:miter;stroke-opacity:1\"/>\n<path class=\"bond-14 atom-12 atom-0\" d=\"M 752.2,231.4 L 781.8,214.3\" style=\"fill:none;fill-rule:evenodd;stroke:#000000;stroke-width:2.0px;stroke-linecap:butt;stroke-linejoin:miter;stroke-opacity:1\"/>\n<path class=\"bond-15 atom-12 atom-1\" d=\"M 722.5,248.5 L 722.5,282.8\" style=\"fill:none;fill-rule:evenodd;stroke:#0000FF;stroke-width:2.0px;stroke-linecap:butt;stroke-linejoin:miter;stroke-opacity:1\"/>\n<path class=\"bond-15 atom-12 atom-1\" d=\"M 722.5,282.8 L 722.5,317.0\" style=\"fill:none;fill-rule:evenodd;stroke:#000000;stroke-width:2.0px;stroke-linecap:butt;stroke-linejoin:miter;stroke-opacity:1\"/>\n<path class=\"bond-13 atom-13 atom-2\" d=\"M 663.0,145.7 L 692.6,128.6\" style=\"fill:none;fill-rule:evenodd;stroke:#0000FF;stroke-width:2.0px;stroke-linecap:butt;stroke-linejoin:miter;stroke-opacity:1\"/>\n<path class=\"bond-13 atom-13 atom-2\" d=\"M 692.6,128.6 L 722.3,111.4\" style=\"fill:none;fill-rule:evenodd;stroke:#000000;stroke-width:2.0px;stroke-linecap:butt;stroke-linejoin:miter;stroke-opacity:1\"/>\n<path class=\"bond-12 atom-14 atom-3\" d=\"M 479.2,235.3 L 468.6,267.9\" style=\"fill:none;fill-rule:evenodd;stroke:#0000FF;stroke-width:2.0px;stroke-linecap:butt;stroke-linejoin:miter;stroke-opacity:1\"/>\n<path class=\"bond-12 atom-14 atom-3\" d=\"M 468.6,267.9 L 458.1,300.5\" style=\"fill:none;fill-rule:evenodd;stroke:#000000;stroke-width:2.0px;stroke-linecap:butt;stroke-linejoin:miter;stroke-opacity:1\"/>\n<path class=\"bond-10 atom-9 atom-4\" d=\"M 603.7,111.5 L 603.7,77.2\" style=\"fill:none;fill-rule:evenodd;stroke:#000000;stroke-width:2.0px;stroke-linecap:butt;stroke-linejoin:miter;stroke-opacity:1\"/>\n<path class=\"bond-10 atom-9 atom-4\" d=\"M 603.7,77.2 L 603.7,43.0\" style=\"fill:none;fill-rule:evenodd;stroke:#FF0000;stroke-width:2.0px;stroke-linecap:butt;stroke-linejoin:miter;stroke-opacity:1\"/>\n<path class=\"bond-10 atom-9 atom-4\" d=\"M 603.7,111.5 L 603.7,77.2\" style=\"fill:none;fill-rule:evenodd;stroke:#000000;stroke-width:2.0px;stroke-linecap:butt;stroke-linejoin:miter;stroke-opacity:1\"/>\n<path class=\"bond-10 atom-9 atom-4\" d=\"M 603.7,77.2 L 603.7,43.0\" style=\"fill:none;fill-rule:evenodd;stroke:#FF0000;stroke-width:2.0px;stroke-linecap:butt;stroke-linejoin:miter;stroke-opacity:1\"/>\n<path class=\"bond-7 atom-14 atom-5\" d=\"M 479.2,235.3 L 459.1,207.6\" style=\"fill:none;fill-rule:evenodd;stroke:#0000FF;stroke-width:2.0px;stroke-linecap:butt;stroke-linejoin:miter;stroke-opacity:1\"/>\n<path class=\"bond-7 atom-14 atom-5\" d=\"M 459.1,207.6 L 438.9,179.9\" style=\"fill:none;fill-rule:evenodd;stroke:#000000;stroke-width:2.0px;stroke-linecap:butt;stroke-linejoin:miter;stroke-opacity:1\"/>\n<path class=\"bond-8 atom-5 atom-6\" d=\"M 438.9,179.9 L 459.1,152.2\" style=\"fill:none;fill-rule:evenodd;stroke:#000000;stroke-width:2.0px;stroke-linecap:butt;stroke-linejoin:miter;stroke-opacity:1\"/>\n<path class=\"bond-8 atom-5 atom-6\" d=\"M 459.1,152.2 L 479.2,124.5\" style=\"fill:none;fill-rule:evenodd;stroke:#0000FF;stroke-width:2.0px;stroke-linecap:butt;stroke-linejoin:miter;stroke-opacity:1\"/>\n<path class=\"bond-8 atom-5 atom-6\" d=\"M 445.0,171.6 L 459.1,152.2\" style=\"fill:none;fill-rule:evenodd;stroke:#000000;stroke-width:2.0px;stroke-linecap:butt;stroke-linejoin:miter;stroke-opacity:1\"/>\n<path class=\"bond-8 atom-5 atom-6\" d=\"M 459.1,152.2 L 473.2,132.8\" style=\"fill:none;fill-rule:evenodd;stroke:#0000FF;stroke-width:2.0px;stroke-linecap:butt;stroke-linejoin:miter;stroke-opacity:1\"/>\n<path class=\"bond-9 atom-10 atom-6\" d=\"M 544.3,145.7 L 511.8,135.1\" style=\"fill:none;fill-rule:evenodd;stroke:#000000;stroke-width:2.0px;stroke-linecap:butt;stroke-linejoin:miter;stroke-opacity:1\"/>\n<path class=\"bond-9 atom-10 atom-6\" d=\"M 511.8,135.1 L 479.2,124.5\" style=\"fill:none;fill-rule:evenodd;stroke:#0000FF;stroke-width:2.0px;stroke-linecap:butt;stroke-linejoin:miter;stroke-opacity:1\"/>\n<path class=\"bond-1 atom-8 atom-7\" d=\"M 663.0,214.2 L 633.3,231.3\" style=\"fill:none;fill-rule:evenodd;stroke:#000000;stroke-width:2.0px;stroke-linecap:butt;stroke-linejoin:miter;stroke-opacity:1\"/>\n<path class=\"bond-1 atom-8 atom-7\" d=\"M 633.3,231.3 L 603.7,248.5\" style=\"fill:none;fill-rule:evenodd;stroke:#0000FF;stroke-width:2.0px;stroke-linecap:butt;stroke-linejoin:miter;stroke-opacity:1\"/>\n<path class=\"bond-1 atom-8 atom-7\" d=\"M 654.1,219.3 L 633.3,231.3\" style=\"fill:none;fill-rule:evenodd;stroke:#000000;stroke-width:2.0px;stroke-linecap:butt;stroke-linejoin:miter;stroke-opacity:1\"/>\n<path class=\"bond-1 atom-8 atom-7\" d=\"M 633.3,231.3 L 612.6,243.4\" style=\"fill:none;fill-rule:evenodd;stroke:#0000FF;stroke-width:2.0px;stroke-linecap:butt;stroke-linejoin:miter;stroke-opacity:1\"/>\n<path class=\"bond-2 atom-7 atom-11\" d=\"M 603.7,248.5 L 574.0,231.3\" style=\"fill:none;fill-rule:evenodd;stroke:#0000FF;stroke-width:2.0px;stroke-linecap:butt;stroke-linejoin:miter;stroke-opacity:1\"/>\n<path class=\"bond-2 atom-7 atom-11\" d=\"M 574.0,231.3 L 544.3,214.2\" style=\"fill:none;fill-rule:evenodd;stroke:#000000;stroke-width:2.0px;stroke-linecap:butt;stroke-linejoin:miter;stroke-opacity:1\"/>\n<path class=\"bond-0 atom-13 atom-8\" d=\"M 663.0,145.7 L 663.0,179.9\" style=\"fill:none;fill-rule:evenodd;stroke:#0000FF;stroke-width:2.0px;stroke-linecap:butt;stroke-linejoin:miter;stroke-opacity:1\"/>\n<path class=\"bond-0 atom-13 atom-8\" d=\"M 663.0,179.9 L 663.0,214.2\" style=\"fill:none;fill-rule:evenodd;stroke:#000000;stroke-width:2.0px;stroke-linecap:butt;stroke-linejoin:miter;stroke-opacity:1\"/>\n<path class=\"bond-11 atom-8 atom-12\" d=\"M 663.0,214.2 L 692.7,231.3\" style=\"fill:none;fill-rule:evenodd;stroke:#000000;stroke-width:2.0px;stroke-linecap:butt;stroke-linejoin:miter;stroke-opacity:1\"/>\n<path class=\"bond-11 atom-8 atom-12\" d=\"M 692.7,231.3 L 722.5,248.5\" style=\"fill:none;fill-rule:evenodd;stroke:#0000FF;stroke-width:2.0px;stroke-linecap:butt;stroke-linejoin:miter;stroke-opacity:1\"/>\n<path class=\"bond-4 atom-10 atom-9\" d=\"M 544.3,145.7 L 603.7,111.5\" style=\"fill:none;fill-rule:evenodd;stroke:#000000;stroke-width:2.0px;stroke-linecap:butt;stroke-linejoin:miter;stroke-opacity:1\"/>\n<path class=\"bond-5 atom-13 atom-9\" d=\"M 663.0,145.7 L 633.3,128.6\" style=\"fill:none;fill-rule:evenodd;stroke:#0000FF;stroke-width:2.0px;stroke-linecap:butt;stroke-linejoin:miter;stroke-opacity:1\"/>\n<path class=\"bond-5 atom-13 atom-9\" d=\"M 633.3,128.6 L 603.7,111.5\" style=\"fill:none;fill-rule:evenodd;stroke:#000000;stroke-width:2.0px;stroke-linecap:butt;stroke-linejoin:miter;stroke-opacity:1\"/>\n<path class=\"bond-3 atom-11 atom-10\" d=\"M 544.3,214.2 L 544.3,145.7\" style=\"fill:none;fill-rule:evenodd;stroke:#000000;stroke-width:2.0px;stroke-linecap:butt;stroke-linejoin:miter;stroke-opacity:1\"/>\n<path class=\"bond-3 atom-11 atom-10\" d=\"M 544.3,203.9 L 544.3,156.0\" style=\"fill:none;fill-rule:evenodd;stroke:#000000;stroke-width:2.0px;stroke-linecap:butt;stroke-linejoin:miter;stroke-opacity:1\"/>\n<path class=\"bond-6 atom-11 atom-14\" d=\"M 544.3,214.2 L 511.8,224.7\" style=\"fill:none;fill-rule:evenodd;stroke:#000000;stroke-width:2.0px;stroke-linecap:butt;stroke-linejoin:miter;stroke-opacity:1\"/>\n<path class=\"bond-6 atom-11 atom-14\" d=\"M 511.8,224.7 L 479.2,235.3\" style=\"fill:none;fill-rule:evenodd;stroke:#0000FF;stroke-width:2.0px;stroke-linecap:butt;stroke-linejoin:miter;stroke-opacity:1\"/>\n<path class=\"note\" d=\"M 771.4 202.4 Q 769.3 202.4, 768.2 200.8 Q 767.1 199.2, 767.1 196.3 Q 767.1 193.5, 768.2 191.9 Q 769.2 190.3, 771.4 190.3 Q 773.6 190.3, 774.7 191.9 Q 775.8 193.5, 775.8 196.3 Q 775.8 199.2, 774.7 200.8 Q 773.6 202.4, 771.4 202.4 M 771.4 201.1 Q 772.7 201.1, 773.4 199.9 Q 774.1 198.7, 774.1 196.3 Q 774.1 194.0, 773.4 192.8 Q 772.7 191.6, 771.4 191.6 Q 770.2 191.6, 769.5 192.8 Q 768.8 194.0, 768.8 196.3 Q 768.8 198.7, 769.5 199.9 Q 770.2 201.1, 771.4 201.1 \" fill=\"#000000\"/>\n<path class=\"note\" d=\"M 740.3 321.7 L 742.9 321.7 L 742.9 312.8 L 740.1 313.7 L 739.7 312.7 L 743.3 311.0 L 744.5 311.2 L 744.5 321.7 L 746.9 321.7 L 746.9 323.0 L 740.3 323.0 L 740.3 321.7 \" fill=\"#000000\"/>\n<path class=\"note\" d=\"M 708.0 89.8 Q 708.4 88.7, 709.4 88.1 Q 710.5 87.4, 711.9 87.4 Q 713.7 87.4, 714.7 88.4 Q 715.7 89.4, 715.7 91.1 Q 715.7 92.9, 714.4 94.5 Q 713.1 96.2, 710.4 98.1 L 715.9 98.1 L 715.9 99.5 L 707.9 99.5 L 707.9 98.4 Q 710.1 96.8, 711.5 95.6 Q 712.8 94.4, 713.4 93.4 Q 714.1 92.3, 714.1 91.2 Q 714.1 90.1, 713.5 89.4 Q 712.9 88.8, 711.9 88.8 Q 711.0 88.8, 710.3 89.2 Q 709.7 89.6, 709.2 90.4 L 708.0 89.8 \" fill=\"#000000\"/>\n<path class=\"note\" d=\"M 479.5 306.6 Q 480.7 307.0, 481.2 307.7 Q 481.8 308.5, 481.8 309.7 Q 481.8 310.7, 481.3 311.4 Q 480.8 312.2, 479.9 312.7 Q 479.0 313.1, 477.7 313.1 Q 476.5 313.1, 475.5 312.6 Q 474.6 312.2, 473.8 311.3 L 474.8 310.3 Q 475.5 311.1, 476.1 311.4 Q 476.8 311.7, 477.7 311.7 Q 478.8 311.7, 479.5 311.2 Q 480.1 310.6, 480.1 309.6 Q 480.1 308.4, 479.4 307.9 Q 478.8 307.3, 477.3 307.3 L 476.5 307.3 L 476.5 306.1 L 477.2 306.1 Q 478.5 306.1, 479.2 305.5 Q 479.9 305.0, 479.9 303.9 Q 479.9 303.1, 479.3 302.7 Q 478.7 302.2, 477.8 302.2 Q 476.8 302.2, 476.2 302.6 Q 475.5 302.9, 475.1 303.8 L 473.9 303.2 Q 474.3 302.2, 475.3 301.5 Q 476.4 300.9, 477.8 300.9 Q 479.5 300.9, 480.5 301.7 Q 481.6 302.5, 481.6 303.9 Q 481.6 304.9, 481.0 305.6 Q 480.5 306.3, 479.5 306.6 \" fill=\"#000000\"/>\n<path class=\"note\" d=\"M 586.1 44.9 L 587.5 44.9 L 587.5 46.2 L 586.1 46.2 L 586.1 48.9 L 584.5 48.9 L 584.5 46.2 L 578.4 46.2 L 578.4 45.1 L 583.6 37.0 L 586.1 37.0 L 586.1 44.9 M 580.3 44.9 L 584.5 44.9 L 584.5 38.1 L 580.3 44.9 \" fill=\"#000000\"/>\n<path class=\"note\" d=\"M 418.5 178.4 Q 419.5 178.4, 420.4 178.9 Q 421.2 179.3, 421.7 180.2 Q 422.2 181.0, 422.2 182.1 Q 422.2 183.3, 421.6 184.2 Q 421.0 185.1, 420.0 185.6 Q 419.1 186.0, 418.0 186.0 Q 416.9 186.0, 415.9 185.6 Q 414.8 185.2, 414.2 184.4 L 415.2 183.4 Q 415.7 184.0, 416.5 184.3 Q 417.2 184.7, 418.0 184.7 Q 419.1 184.7, 419.8 184.0 Q 420.5 183.3, 420.5 182.2 Q 420.5 180.9, 419.8 180.3 Q 419.1 179.7, 417.9 179.7 Q 416.9 179.7, 415.7 180.2 L 414.8 179.7 L 415.3 174.0 L 421.5 174.0 L 421.3 175.3 L 416.7 175.3 L 416.4 178.9 Q 417.4 178.4, 418.5 178.4 \" fill=\"#000000\"/>\n<path class=\"note\" d=\"M 473.3 103.4 Q 474.4 103.4, 475.2 103.8 Q 476.0 104.3, 476.5 105.1 Q 476.9 105.9, 476.9 107.0 Q 476.9 108.1, 476.4 109.0 Q 475.9 109.9, 475.0 110.4 Q 474.1 110.9, 472.9 110.9 Q 470.8 110.9, 469.7 109.5 Q 468.7 108.1, 468.7 105.2 Q 468.7 102.0, 470.0 100.4 Q 471.3 98.8, 473.9 98.8 Q 474.6 98.8, 475.2 98.9 Q 475.9 99.1, 476.5 99.4 L 475.8 100.6 Q 474.9 100.1, 473.9 100.1 Q 472.2 100.1, 471.3 101.2 Q 470.5 102.3, 470.4 104.5 Q 471.0 104.0, 471.7 103.7 Q 472.5 103.4, 473.3 103.4 M 473.0 109.6 Q 473.6 109.6, 474.1 109.2 Q 474.7 108.9, 475.0 108.3 Q 475.3 107.7, 475.3 107.0 Q 475.3 105.9, 474.7 105.3 Q 474.1 104.7, 473.0 104.7 Q 472.3 104.7, 471.6 105.0 Q 470.9 105.3, 470.4 105.8 Q 470.4 107.8, 471.1 108.7 Q 471.7 109.6, 473.0 109.6 \" fill=\"#000000\"/>\n<path class=\"note\" d=\"M 606.0 264.7 L 599.8 264.7 L 599.8 263.3 L 607.7 263.3 L 607.7 264.5 L 602.9 275.2 L 601.2 275.2 L 606.0 264.7 \" fill=\"#000000\"/>\n<path class=\"note\" d=\"M 646.9 203.5 Q 648.0 204.0, 648.6 204.7 Q 649.2 205.4, 649.2 206.6 Q 649.2 207.6, 648.7 208.4 Q 648.2 209.1, 647.2 209.6 Q 646.3 210.0, 645.1 210.0 Q 643.1 210.0, 641.9 209.1 Q 640.8 208.2, 640.8 206.6 Q 640.8 205.6, 641.3 204.9 Q 641.8 204.1, 642.8 203.6 Q 642.1 203.1, 641.7 202.5 Q 641.2 201.8, 641.2 200.8 Q 641.2 199.4, 642.2 198.6 Q 643.3 197.8, 645.0 197.8 Q 646.7 197.8, 647.7 198.6 Q 648.8 199.4, 648.8 200.8 Q 648.8 201.7, 648.3 202.4 Q 647.8 203.0, 646.9 203.5 M 645.0 199.0 Q 644.0 199.0, 643.5 199.5 Q 642.9 200.0, 642.9 200.8 Q 642.9 201.4, 643.3 201.9 Q 643.7 202.3, 644.2 202.5 Q 644.7 202.7, 645.7 203.1 Q 646.5 202.6, 646.8 202.1 Q 647.1 201.5, 647.1 200.8 Q 647.1 200.0, 646.5 199.5 Q 646.0 199.0, 645.0 199.0 M 645.1 208.7 Q 646.2 208.7, 646.9 208.1 Q 647.5 207.5, 647.5 206.5 Q 647.5 205.9, 647.2 205.5 Q 646.8 205.1, 646.3 204.9 Q 645.8 204.6, 644.8 204.3 L 644.1 204.1 Q 643.2 204.6, 642.8 205.2 Q 642.5 205.8, 642.5 206.5 Q 642.5 207.5, 643.2 208.1 Q 643.9 208.7, 645.1 208.7 \" fill=\"#000000\"/>\n<path class=\"note\" d=\"M 603.6 126.2 Q 605.7 126.2, 606.8 127.6 Q 607.8 129.1, 607.8 131.9 Q 607.8 135.1, 606.5 136.7 Q 605.2 138.4, 602.6 138.4 Q 601.9 138.4, 601.3 138.2 Q 600.6 138.0, 600.0 137.7 L 600.7 136.6 Q 601.6 137.0, 602.6 137.0 Q 604.3 137.0, 605.2 135.9 Q 606.0 134.9, 606.1 132.6 Q 605.5 133.2, 604.8 133.5 Q 604.0 133.8, 603.2 133.8 Q 602.1 133.8, 601.3 133.3 Q 600.5 132.9, 600.0 132.0 Q 599.6 131.2, 599.6 130.2 Q 599.6 129.0, 600.1 128.1 Q 600.6 127.2, 601.5 126.7 Q 602.4 126.2, 603.6 126.2 M 601.3 130.1 Q 601.3 131.2, 601.8 131.8 Q 602.4 132.4, 603.5 132.4 Q 604.2 132.4, 604.9 132.1 Q 605.6 131.8, 606.1 131.3 Q 606.1 129.4, 605.4 128.5 Q 604.8 127.6, 603.6 127.6 Q 602.9 127.6, 602.4 127.9 Q 601.9 128.2, 601.6 128.8 Q 601.3 129.4, 601.3 130.1 \" fill=\"#000000\"/>\n<path class=\"note\" d=\"M 550.9 160.7 L 553.5 160.7 L 553.5 151.9 L 550.6 152.7 L 550.2 151.8 L 553.9 150.1 L 555.1 150.3 L 555.1 160.7 L 557.4 160.7 L 557.4 162.1 L 550.9 162.1 L 550.9 160.7 \" fill=\"#000000\"/>\n<path class=\"note\" d=\"M 562.8 162.2 Q 560.6 162.2, 559.5 160.6 Q 558.4 159.0, 558.4 156.1 Q 558.4 153.3, 559.5 151.7 Q 560.6 150.1, 562.8 150.1 Q 565.0 150.1, 566.1 151.7 Q 567.1 153.3, 567.1 156.1 Q 567.1 159.0, 566.1 160.6 Q 565.0 162.2, 562.8 162.2 M 562.8 160.9 Q 564.1 160.9, 564.8 159.7 Q 565.5 158.5, 565.5 156.1 Q 565.5 153.8, 564.8 152.6 Q 564.1 151.4, 562.8 151.4 Q 561.5 151.4, 560.8 152.6 Q 560.1 153.8, 560.1 156.1 Q 560.1 158.5, 560.8 159.7 Q 561.5 160.9, 562.8 160.9 \" fill=\"#000000\"/>\n<path class=\"note\" d=\"M 551.7 208.4 L 554.3 208.4 L 554.3 199.5 L 551.5 200.4 L 551.1 199.4 L 554.7 197.8 L 555.9 198.0 L 555.9 208.4 L 558.2 208.4 L 558.2 209.8 L 551.7 209.8 L 551.7 208.4 \" fill=\"#000000\"/>\n<path class=\"note\" d=\"M 559.8 208.4 L 562.4 208.4 L 562.4 199.5 L 559.5 200.4 L 559.2 199.4 L 562.8 197.8 L 564.0 198.0 L 564.0 208.4 L 566.3 208.4 L 566.3 209.8 L 559.8 209.8 L 559.8 208.4 \" fill=\"#000000\"/>\n<path class=\"note\" d=\"M 711.5 232.4 L 714.2 232.4 L 714.2 223.5 L 711.3 224.4 L 710.9 223.4 L 714.5 221.8 L 715.7 222.0 L 715.7 232.4 L 718.1 232.4 L 718.1 233.8 L 711.5 233.8 L 711.5 232.4 \" fill=\"#000000\"/>\n<path class=\"note\" d=\"M 718.9 224.1 Q 719.4 223.0, 720.4 222.4 Q 721.5 221.7, 722.9 221.7 Q 724.7 221.7, 725.7 222.7 Q 726.7 223.7, 726.7 225.4 Q 726.7 227.2, 725.4 228.8 Q 724.1 230.5, 721.4 232.4 L 726.9 232.4 L 726.9 233.8 L 718.9 233.8 L 718.9 232.7 Q 721.1 231.1, 722.4 229.9 Q 723.8 228.7, 724.4 227.7 Q 725.0 226.6, 725.0 225.5 Q 725.0 224.4, 724.5 223.7 Q 723.9 223.1, 722.9 223.1 Q 722.0 223.1, 721.3 223.5 Q 720.7 223.9, 720.2 224.7 L 718.9 224.1 \" fill=\"#000000\"/>\n<path class=\"note\" d=\"M 634.1 160.7 L 636.7 160.7 L 636.7 151.8 L 633.9 152.7 L 633.5 151.7 L 637.1 150.1 L 638.3 150.3 L 638.3 160.7 L 640.7 160.7 L 640.7 162.1 L 634.1 162.1 L 634.1 160.7 \" fill=\"#000000\"/>\n<path class=\"note\" d=\"M 647.1 155.8 Q 648.2 156.2, 648.8 156.9 Q 649.4 157.6, 649.4 158.8 Q 649.4 159.8, 648.9 160.6 Q 648.4 161.4, 647.4 161.8 Q 646.5 162.3, 645.3 162.3 Q 644.0 162.3, 643.1 161.8 Q 642.1 161.4, 641.4 160.5 L 642.3 159.5 Q 643.1 160.3, 643.7 160.6 Q 644.3 160.9, 645.3 160.9 Q 646.4 160.9, 647.0 160.3 Q 647.7 159.7, 647.7 158.8 Q 647.7 157.6, 647.0 157.1 Q 646.3 156.5, 644.9 156.5 L 644.0 156.5 L 644.0 155.3 L 644.8 155.3 Q 646.1 155.3, 646.7 154.7 Q 647.4 154.2, 647.4 153.1 Q 647.4 152.3, 646.9 151.9 Q 646.3 151.4, 645.3 151.4 Q 644.3 151.4, 643.7 151.7 Q 643.1 152.1, 642.6 153.0 L 641.5 152.4 Q 641.9 151.4, 642.9 150.7 Q 643.9 150.0, 645.3 150.0 Q 647.1 150.0, 648.1 150.9 Q 649.1 151.7, 649.1 153.1 Q 649.1 154.0, 648.6 154.7 Q 648.1 155.4, 647.1 155.8 \" fill=\"#000000\"/>\n<path class=\"note\" d=\"M 474.3 220.2 L 476.9 220.2 L 476.9 211.3 L 474.0 212.2 L 473.6 211.2 L 477.3 209.6 L 478.5 209.8 L 478.5 220.2 L 480.8 220.2 L 480.8 221.6 L 474.3 221.6 L 474.3 220.2 \" fill=\"#000000\"/>\n<path class=\"note\" d=\"M 489.0 217.5 L 490.5 217.5 L 490.5 218.8 L 489.0 218.8 L 489.0 221.6 L 487.5 221.6 L 487.5 218.8 L 481.3 218.8 L 481.3 217.8 L 486.5 209.7 L 489.0 209.7 L 489.0 217.5 M 483.2 217.5 L 487.5 217.5 L 487.5 210.7 L 483.2 217.5 \" fill=\"#000000\"/>\n<path d=\"M 554.0 389.6 Q 554.0 387.6, 555.0 386.5 Q 556.0 385.4, 557.9 385.4 Q 559.8 385.4, 560.8 386.7 L 559.8 387.5 Q 559.4 387.0, 558.9 386.8 Q 558.5 386.6, 557.9 386.6 Q 556.8 386.6, 556.2 387.3 Q 555.5 388.1, 555.5 389.6 Q 555.5 391.1, 556.2 391.9 Q 556.8 392.7, 558.0 392.7 Q 558.7 392.7, 559.2 392.5 Q 559.6 392.4, 560.2 392.1 L 560.6 393.1 Q 559.4 393.8, 557.9 393.8 Q 556.0 393.8, 555.0 392.7 Q 554.0 391.6, 554.0 389.6 \" fill=\"#000000\"/>\n<path d=\"M 561.5 391.5 Q 561.5 390.2, 562.5 389.5 Q 563.6 388.8, 565.5 388.8 L 566.8 388.8 L 566.8 388.4 Q 566.8 387.4, 566.3 387.0 Q 565.9 386.6, 564.9 386.6 Q 564.2 386.6, 563.7 386.7 Q 563.2 386.8, 562.4 387.1 L 562.0 386.1 Q 563.5 385.4, 564.9 385.4 Q 566.7 385.4, 567.5 386.1 Q 568.3 386.9, 568.3 388.5 L 568.3 393.7 L 567.1 393.7 Q 567.1 393.7, 567.0 393.4 Q 567.0 393.2, 566.9 392.8 Q 565.7 393.9, 564.2 393.9 Q 563.0 393.9, 562.2 393.3 Q 561.5 392.6, 561.5 391.5 M 563.0 391.5 Q 563.0 392.1, 563.4 392.4 Q 563.8 392.7, 564.5 392.7 Q 565.1 392.7, 565.7 392.5 Q 566.3 392.2, 566.8 391.6 L 566.8 389.9 L 565.6 389.9 Q 564.3 389.9, 563.7 390.3 Q 563.0 390.7, 563.0 391.5 \" fill=\"#000000\"/>\n<path d=\"M 573.9 385.4 Q 575.2 385.4, 575.9 386.1 Q 576.6 386.9, 576.6 388.3 L 576.6 393.7 L 575.1 393.7 L 575.1 388.4 Q 575.1 387.4, 574.7 387.0 Q 574.3 386.6, 573.5 386.6 Q 572.7 386.6, 572.1 386.9 Q 571.5 387.2, 571.1 387.8 L 571.1 393.7 L 569.6 393.7 L 569.6 385.5 L 570.8 385.5 L 571.0 386.7 Q 572.1 385.4, 573.9 385.4 \" fill=\"#000000\"/>\n<path d=\"M 577.3 389.6 Q 577.3 387.6, 578.3 386.5 Q 579.3 385.4, 581.2 385.4 Q 583.1 385.4, 584.1 386.5 Q 585.1 387.6, 585.1 389.6 Q 585.1 391.6, 584.1 392.7 Q 583.1 393.9, 581.2 393.9 Q 579.3 393.9, 578.3 392.7 Q 577.3 391.6, 577.3 389.6 M 578.8 389.6 Q 578.8 391.1, 579.4 391.9 Q 580.1 392.7, 581.2 392.7 Q 582.3 392.7, 582.9 391.9 Q 583.6 391.1, 583.6 389.6 Q 583.6 388.1, 582.9 387.3 Q 582.3 386.6, 581.2 386.6 Q 580.1 386.6, 579.4 387.3 Q 578.8 388.1, 578.8 389.6 \" fill=\"#000000\"/>\n<path d=\"M 590.7 385.4 Q 592.0 385.4, 592.7 386.1 Q 593.4 386.9, 593.4 388.3 L 593.4 393.7 L 591.9 393.7 L 591.9 388.4 Q 591.9 387.4, 591.5 387.0 Q 591.2 386.6, 590.3 386.6 Q 589.6 386.6, 588.9 386.9 Q 588.3 387.2, 587.9 387.8 L 587.9 393.7 L 586.4 393.7 L 586.4 385.5 L 587.7 385.5 L 587.8 386.7 Q 588.9 385.4, 590.7 385.4 \" fill=\"#000000\"/>\n<path d=\"M 594.8 382.4 L 596.3 382.4 L 596.3 383.8 L 594.8 383.8 L 594.8 382.4 M 594.8 385.5 L 596.3 385.5 L 596.3 393.7 L 594.8 393.7 L 594.8 385.5 \" fill=\"#000000\"/>\n<path d=\"M 597.0 389.6 Q 597.0 387.6, 598.0 386.5 Q 599.0 385.4, 600.9 385.4 Q 602.8 385.4, 603.8 386.7 L 602.8 387.5 Q 602.4 387.0, 601.9 386.8 Q 601.5 386.6, 600.9 386.6 Q 599.8 386.6, 599.2 387.3 Q 598.5 388.1, 598.5 389.6 Q 598.5 391.1, 599.2 391.9 Q 599.8 392.7, 601.0 392.7 Q 601.7 392.7, 602.2 392.5 Q 602.6 392.4, 603.2 392.1 L 603.6 393.1 Q 602.4 393.8, 600.9 393.8 Q 599.0 393.8, 598.0 392.7 Q 597.0 391.6, 597.0 389.6 \" fill=\"#000000\"/>\n<path d=\"M 604.5 391.5 Q 604.5 390.2, 605.5 389.5 Q 606.6 388.8, 608.5 388.8 L 609.7 388.8 L 609.7 388.4 Q 609.7 387.4, 609.3 387.0 Q 608.9 386.6, 607.9 386.6 Q 607.2 386.6, 606.7 386.7 Q 606.2 386.8, 605.4 387.1 L 604.9 386.1 Q 606.5 385.4, 607.9 385.4 Q 609.7 385.4, 610.5 386.1 Q 611.3 386.9, 611.3 388.5 L 611.3 393.7 L 610.1 393.7 Q 610.1 393.7, 610.0 393.4 Q 610.0 393.2, 609.9 392.8 Q 608.7 393.9, 607.2 393.9 Q 606.0 393.9, 605.2 393.3 Q 604.5 392.6, 604.5 391.5 M 606.0 391.5 Q 606.0 392.1, 606.4 392.4 Q 606.8 392.7, 607.5 392.7 Q 608.1 392.7, 608.7 392.5 Q 609.3 392.2, 609.7 391.6 L 609.7 389.9 L 608.6 389.9 Q 607.3 389.9, 606.6 390.3 Q 606.0 390.7, 606.0 391.5 \" fill=\"#000000\"/>\n<path d=\"M 612.6 381.6 L 614.1 381.6 L 614.1 393.7 L 612.6 393.7 L 612.6 381.6 \" fill=\"#000000\"/>\n<path d=\"M 615.5 382.4 L 616.9 382.4 L 616.9 383.8 L 615.5 383.8 L 615.5 382.4 M 615.5 385.5 L 616.9 385.5 L 616.9 393.7 L 615.5 393.7 L 615.5 385.5 \" fill=\"#000000\"/>\n<path d=\"M 619.4 392.6 L 623.9 392.6 L 623.9 393.7 L 617.6 393.7 L 617.6 392.8 L 621.9 386.7 L 617.8 386.7 L 617.8 385.5 L 623.8 385.5 L 623.8 386.4 L 619.4 392.6 \" fill=\"#000000\"/>\n<path d=\"M 624.7 389.6 Q 624.7 387.6, 625.7 386.5 Q 626.7 385.4, 628.5 385.4 Q 630.3 385.4, 631.1 386.5 Q 632.0 387.5, 632.0 389.6 L 632.0 389.8 L 626.2 389.8 Q 626.2 391.2, 626.9 391.9 Q 627.5 392.7, 628.7 392.7 Q 629.3 392.7, 629.9 392.5 Q 630.5 392.4, 631.2 392.1 L 631.6 393.1 Q 630.8 393.5, 630.1 393.7 Q 629.3 393.9, 628.6 393.9 Q 626.7 393.9, 625.7 392.7 Q 624.7 391.6, 624.7 389.6 M 628.5 386.6 Q 627.6 386.6, 627.0 387.1 Q 626.5 387.6, 626.3 388.7 L 630.4 388.7 Q 630.3 387.6, 629.8 387.1 Q 629.4 386.6, 628.5 386.6 \" fill=\"#000000\"/>\n<path d=\"M 640.2 381.6 L 640.2 393.7 L 638.9 393.7 L 638.7 392.7 Q 637.8 393.9, 636.3 393.9 Q 634.6 393.9, 633.6 392.8 Q 632.7 391.7, 632.7 389.8 Q 632.7 387.7, 633.8 386.5 Q 634.9 385.4, 636.9 385.4 Q 637.8 385.4, 638.7 385.6 L 638.7 381.6 L 640.2 381.6 M 636.4 392.7 Q 637.2 392.7, 637.8 392.2 Q 638.4 391.8, 638.7 391.0 L 638.7 386.8 Q 637.8 386.6, 636.9 386.6 Q 635.7 386.6, 634.9 387.4 Q 634.2 388.2, 634.2 389.8 Q 634.2 391.2, 634.8 391.9 Q 635.4 392.7, 636.4 392.7 \" fill=\"#000000\"/>\n</svg>",
      "text/plain": [
       "<IPython.core.display.SVG object>"
      ]
     },
     "execution_count": 12,
     "metadata": {},
     "output_type": "execute_result"
    }
   ],
   "source": [
    "print_molecule(m, \"original\")\n",
    "print_molecule(m_canon, \"canonicalized\")\n",
    "draw_molecules([m, m_canon], [\"original\", \"canonicalized\"])"
   ]
  },
  {
   "cell_type": "markdown",
   "metadata": {
    "id": "g2tq2YwD97Aw"
   },
   "source": [
    "# Serialization\n",
    "\n",
    "The serialization should result in a string representation of the molecule. The string representation should allow for the automatized reconstruction of the molecule's topology (i.e., the molecular graph). Additionally, ideally the representation should be intuitive enough for a human to be able to reconstruct the molecular graph.\n",
    "\n",
    "Our string representation consists of the sum formula, followed by a sequence of tuples. Each tuple represents the indices of two connected atoms (i.e., `(index X, index Y)`). For example, the string representation of ethanol is `C2H6O:(0,6)(1,6)(2,6)(3,7)(4,7)(5,8)(6,7)(7,8)`.\n",
    "In order to be able to reconstruct the molecule based on this representation, we organize the tuples such that increasing indices pertain to atoms with increasing atomic number. This means that we can infer an atom's atomic number from the sum formula. For example, the sum formula of ethanol indicates that the molecule consists of six `H`s, two `C`s and one `O`. Since increasing indices pertain to atoms with increasing atomic numbers, we can infer that the indices 0 to 6 pertain to `H`s, indices 7 and 8 pertain to `C`s, and finally, index 8 pertains to an `O`.\n",
    "\n",
    "As we can observe in the table and molecular drawing above, this string representation cannot be derived from the canonicalized molecule, since, in the canonicalized form, increasing atom indices do not pertain to increasing atomic numbers. Therefore, we now sort the molecule's atoms by atomic number. "
   ]
  },
  {
   "cell_type": "code",
   "execution_count": 13,
   "metadata": {
    "colab": {
     "base_uri": "https://localhost:8080/",
     "height": 1000
    },
    "id": "NCEU8yVMblDG",
    "outputId": "98ad2278-623e-4535-c448-0321062bb00b"
   },
   "outputs": [
    {
     "name": "stdout",
     "output_type": "stream",
     "text": [
      "sorted by atomic number\n",
      "╒═════════╤═════════════════╤════════════════════════════════════╕\n",
      "│   index │   atomic number │ neighbors (index, atomic number)   │\n",
      "╞═════════╪═════════════════╪════════════════════════════════════╡\n",
      "│       0 │               1 │ [(9, 7)]                           │\n",
      "├─────────┼─────────────────┼────────────────────────────────────┤\n",
      "│       1 │               1 │ [(9, 7)]                           │\n",
      "├─────────┼─────────────────┼────────────────────────────────────┤\n",
      "│       2 │               1 │ [(12, 7)]                          │\n",
      "├─────────┼─────────────────┼────────────────────────────────────┤\n",
      "│       3 │               1 │ [(13, 7)]                          │\n",
      "├─────────┼─────────────────┼────────────────────────────────────┤\n",
      "│       4 │               6 │ [(6, 6), (8, 6), (10, 7)]          │\n",
      "├─────────┼─────────────────┼────────────────────────────────────┤\n",
      "│       5 │               6 │ [(13, 7), (10, 7)]                 │\n",
      "├─────────┼─────────────────┼────────────────────────────────────┤\n",
      "│       6 │               6 │ [(11, 7), (4, 6), (13, 7)]         │\n",
      "├─────────┼─────────────────┼────────────────────────────────────┤\n",
      "│       7 │               6 │ [(12, 7), (11, 7), (9, 7)]         │\n",
      "├─────────┼─────────────────┼────────────────────────────────────┤\n",
      "│       8 │               6 │ [(4, 6), (12, 7), (14, 8)]         │\n",
      "├─────────┼─────────────────┼────────────────────────────────────┤\n",
      "│       9 │               7 │ [(7, 6), (0, 1), (1, 1)]           │\n",
      "├─────────┼─────────────────┼────────────────────────────────────┤\n",
      "│      10 │               7 │ [(5, 6), (4, 6)]                   │\n",
      "├─────────┼─────────────────┼────────────────────────────────────┤\n",
      "│      11 │               7 │ [(7, 6), (6, 6)]                   │\n",
      "├─────────┼─────────────────┼────────────────────────────────────┤\n",
      "│      12 │               7 │ [(7, 6), (8, 6), (2, 1)]           │\n",
      "├─────────┼─────────────────┼────────────────────────────────────┤\n",
      "│      13 │               7 │ [(6, 6), (5, 6), (3, 1)]           │\n",
      "├─────────┼─────────────────┼────────────────────────────────────┤\n",
      "│      14 │               8 │ [(8, 6)]                           │\n",
      "╘═════════╧═════════════════╧════════════════════════════════════╛\n"
     ]
    },
    {
     "data": {
      "image/svg+xml": "<svg xmlns=\"http://www.w3.org/2000/svg\" xmlns:rdkit=\"http://www.rdkit.org/xml\" xmlns:xlink=\"http://www.w3.org/1999/xlink\" version=\"1.1\" baseProfile=\"full\" xml:space=\"preserve\" width=\"800px\" height=\"400px\" viewBox=\"0 0 800 400\">\n<!-- END OF HEADER -->\n<rect style=\"opacity:1.0;fill:#FFFFFF;stroke:none\" width=\"800.0\" height=\"400.0\" x=\"0.0\" y=\"0.0\"> </rect>\n<rect style=\"opacity:1.0;fill:#FFFFFF;stroke:none\" width=\"800.0\" height=\"400.0\" x=\"0.0\" y=\"0.0\"> </rect>\n<rect style=\"opacity:1.0;fill:#FFFFFF;stroke:none\" width=\"800.0\" height=\"400.0\" x=\"0.0\" y=\"0.0\"> </rect>\n<path class=\"bond-14 atom-12 atom-0\" d=\"M 322.5,248.5 L 352.2,231.4\" style=\"fill:none;fill-rule:evenodd;stroke:#0000FF;stroke-width:2.0px;stroke-linecap:butt;stroke-linejoin:miter;stroke-opacity:1\"/>\n<path class=\"bond-14 atom-12 atom-0\" d=\"M 352.2,231.4 L 381.8,214.3\" style=\"fill:none;fill-rule:evenodd;stroke:#000000;stroke-width:2.0px;stroke-linecap:butt;stroke-linejoin:miter;stroke-opacity:1\"/>\n<path class=\"bond-15 atom-12 atom-1\" d=\"M 322.5,248.5 L 322.5,282.8\" style=\"fill:none;fill-rule:evenodd;stroke:#0000FF;stroke-width:2.0px;stroke-linecap:butt;stroke-linejoin:miter;stroke-opacity:1\"/>\n<path class=\"bond-15 atom-12 atom-1\" d=\"M 322.5,282.8 L 322.5,317.0\" style=\"fill:none;fill-rule:evenodd;stroke:#000000;stroke-width:2.0px;stroke-linecap:butt;stroke-linejoin:miter;stroke-opacity:1\"/>\n<path class=\"bond-13 atom-13 atom-2\" d=\"M 263.0,145.7 L 292.6,128.6\" style=\"fill:none;fill-rule:evenodd;stroke:#0000FF;stroke-width:2.0px;stroke-linecap:butt;stroke-linejoin:miter;stroke-opacity:1\"/>\n<path class=\"bond-13 atom-13 atom-2\" d=\"M 292.6,128.6 L 322.3,111.4\" style=\"fill:none;fill-rule:evenodd;stroke:#000000;stroke-width:2.0px;stroke-linecap:butt;stroke-linejoin:miter;stroke-opacity:1\"/>\n<path class=\"bond-12 atom-14 atom-3\" d=\"M 79.2,235.3 L 68.6,267.9\" style=\"fill:none;fill-rule:evenodd;stroke:#0000FF;stroke-width:2.0px;stroke-linecap:butt;stroke-linejoin:miter;stroke-opacity:1\"/>\n<path class=\"bond-12 atom-14 atom-3\" d=\"M 68.6,267.9 L 58.1,300.5\" style=\"fill:none;fill-rule:evenodd;stroke:#000000;stroke-width:2.0px;stroke-linecap:butt;stroke-linejoin:miter;stroke-opacity:1\"/>\n<path class=\"bond-10 atom-9 atom-4\" d=\"M 203.7,111.5 L 203.7,77.2\" style=\"fill:none;fill-rule:evenodd;stroke:#000000;stroke-width:2.0px;stroke-linecap:butt;stroke-linejoin:miter;stroke-opacity:1\"/>\n<path class=\"bond-10 atom-9 atom-4\" d=\"M 203.7,77.2 L 203.7,43.0\" style=\"fill:none;fill-rule:evenodd;stroke:#FF0000;stroke-width:2.0px;stroke-linecap:butt;stroke-linejoin:miter;stroke-opacity:1\"/>\n<path class=\"bond-10 atom-9 atom-4\" d=\"M 203.7,111.5 L 203.7,77.2\" style=\"fill:none;fill-rule:evenodd;stroke:#000000;stroke-width:2.0px;stroke-linecap:butt;stroke-linejoin:miter;stroke-opacity:1\"/>\n<path class=\"bond-10 atom-9 atom-4\" d=\"M 203.7,77.2 L 203.7,43.0\" style=\"fill:none;fill-rule:evenodd;stroke:#FF0000;stroke-width:2.0px;stroke-linecap:butt;stroke-linejoin:miter;stroke-opacity:1\"/>\n<path class=\"bond-7 atom-14 atom-5\" d=\"M 79.2,235.3 L 59.1,207.6\" style=\"fill:none;fill-rule:evenodd;stroke:#0000FF;stroke-width:2.0px;stroke-linecap:butt;stroke-linejoin:miter;stroke-opacity:1\"/>\n<path class=\"bond-7 atom-14 atom-5\" d=\"M 59.1,207.6 L 38.9,179.9\" style=\"fill:none;fill-rule:evenodd;stroke:#000000;stroke-width:2.0px;stroke-linecap:butt;stroke-linejoin:miter;stroke-opacity:1\"/>\n<path class=\"bond-8 atom-5 atom-6\" d=\"M 38.9,179.9 L 59.1,152.2\" style=\"fill:none;fill-rule:evenodd;stroke:#000000;stroke-width:2.0px;stroke-linecap:butt;stroke-linejoin:miter;stroke-opacity:1\"/>\n<path class=\"bond-8 atom-5 atom-6\" d=\"M 59.1,152.2 L 79.2,124.5\" style=\"fill:none;fill-rule:evenodd;stroke:#0000FF;stroke-width:2.0px;stroke-linecap:butt;stroke-linejoin:miter;stroke-opacity:1\"/>\n<path class=\"bond-8 atom-5 atom-6\" d=\"M 45.0,171.6 L 59.1,152.2\" style=\"fill:none;fill-rule:evenodd;stroke:#000000;stroke-width:2.0px;stroke-linecap:butt;stroke-linejoin:miter;stroke-opacity:1\"/>\n<path class=\"bond-8 atom-5 atom-6\" d=\"M 59.1,152.2 L 73.2,132.8\" style=\"fill:none;fill-rule:evenodd;stroke:#0000FF;stroke-width:2.0px;stroke-linecap:butt;stroke-linejoin:miter;stroke-opacity:1\"/>\n<path class=\"bond-9 atom-10 atom-6\" d=\"M 144.3,145.7 L 111.8,135.1\" style=\"fill:none;fill-rule:evenodd;stroke:#000000;stroke-width:2.0px;stroke-linecap:butt;stroke-linejoin:miter;stroke-opacity:1\"/>\n<path class=\"bond-9 atom-10 atom-6\" d=\"M 111.8,135.1 L 79.2,124.5\" style=\"fill:none;fill-rule:evenodd;stroke:#0000FF;stroke-width:2.0px;stroke-linecap:butt;stroke-linejoin:miter;stroke-opacity:1\"/>\n<path class=\"bond-1 atom-8 atom-7\" d=\"M 263.0,214.2 L 233.3,231.3\" style=\"fill:none;fill-rule:evenodd;stroke:#000000;stroke-width:2.0px;stroke-linecap:butt;stroke-linejoin:miter;stroke-opacity:1\"/>\n<path class=\"bond-1 atom-8 atom-7\" d=\"M 233.3,231.3 L 203.7,248.5\" style=\"fill:none;fill-rule:evenodd;stroke:#0000FF;stroke-width:2.0px;stroke-linecap:butt;stroke-linejoin:miter;stroke-opacity:1\"/>\n<path class=\"bond-1 atom-8 atom-7\" d=\"M 254.1,219.3 L 233.3,231.3\" style=\"fill:none;fill-rule:evenodd;stroke:#000000;stroke-width:2.0px;stroke-linecap:butt;stroke-linejoin:miter;stroke-opacity:1\"/>\n<path class=\"bond-1 atom-8 atom-7\" d=\"M 233.3,231.3 L 212.6,243.4\" style=\"fill:none;fill-rule:evenodd;stroke:#0000FF;stroke-width:2.0px;stroke-linecap:butt;stroke-linejoin:miter;stroke-opacity:1\"/>\n<path class=\"bond-2 atom-7 atom-11\" d=\"M 203.7,248.5 L 174.0,231.3\" style=\"fill:none;fill-rule:evenodd;stroke:#0000FF;stroke-width:2.0px;stroke-linecap:butt;stroke-linejoin:miter;stroke-opacity:1\"/>\n<path class=\"bond-2 atom-7 atom-11\" d=\"M 174.0,231.3 L 144.3,214.2\" style=\"fill:none;fill-rule:evenodd;stroke:#000000;stroke-width:2.0px;stroke-linecap:butt;stroke-linejoin:miter;stroke-opacity:1\"/>\n<path class=\"bond-0 atom-13 atom-8\" d=\"M 263.0,145.7 L 263.0,179.9\" style=\"fill:none;fill-rule:evenodd;stroke:#0000FF;stroke-width:2.0px;stroke-linecap:butt;stroke-linejoin:miter;stroke-opacity:1\"/>\n<path class=\"bond-0 atom-13 atom-8\" d=\"M 263.0,179.9 L 263.0,214.2\" style=\"fill:none;fill-rule:evenodd;stroke:#000000;stroke-width:2.0px;stroke-linecap:butt;stroke-linejoin:miter;stroke-opacity:1\"/>\n<path class=\"bond-11 atom-8 atom-12\" d=\"M 263.0,214.2 L 292.7,231.3\" style=\"fill:none;fill-rule:evenodd;stroke:#000000;stroke-width:2.0px;stroke-linecap:butt;stroke-linejoin:miter;stroke-opacity:1\"/>\n<path class=\"bond-11 atom-8 atom-12\" d=\"M 292.7,231.3 L 322.5,248.5\" style=\"fill:none;fill-rule:evenodd;stroke:#0000FF;stroke-width:2.0px;stroke-linecap:butt;stroke-linejoin:miter;stroke-opacity:1\"/>\n<path class=\"bond-4 atom-10 atom-9\" d=\"M 144.3,145.7 L 203.7,111.5\" style=\"fill:none;fill-rule:evenodd;stroke:#000000;stroke-width:2.0px;stroke-linecap:butt;stroke-linejoin:miter;stroke-opacity:1\"/>\n<path class=\"bond-5 atom-13 atom-9\" d=\"M 263.0,145.7 L 233.3,128.6\" style=\"fill:none;fill-rule:evenodd;stroke:#0000FF;stroke-width:2.0px;stroke-linecap:butt;stroke-linejoin:miter;stroke-opacity:1\"/>\n<path class=\"bond-5 atom-13 atom-9\" d=\"M 233.3,128.6 L 203.7,111.5\" style=\"fill:none;fill-rule:evenodd;stroke:#000000;stroke-width:2.0px;stroke-linecap:butt;stroke-linejoin:miter;stroke-opacity:1\"/>\n<path class=\"bond-3 atom-11 atom-10\" d=\"M 144.3,214.2 L 144.3,145.7\" style=\"fill:none;fill-rule:evenodd;stroke:#000000;stroke-width:2.0px;stroke-linecap:butt;stroke-linejoin:miter;stroke-opacity:1\"/>\n<path class=\"bond-3 atom-11 atom-10\" d=\"M 144.3,203.9 L 144.3,156.0\" style=\"fill:none;fill-rule:evenodd;stroke:#000000;stroke-width:2.0px;stroke-linecap:butt;stroke-linejoin:miter;stroke-opacity:1\"/>\n<path class=\"bond-6 atom-11 atom-14\" d=\"M 144.3,214.2 L 111.8,224.7\" style=\"fill:none;fill-rule:evenodd;stroke:#000000;stroke-width:2.0px;stroke-linecap:butt;stroke-linejoin:miter;stroke-opacity:1\"/>\n<path class=\"bond-6 atom-11 atom-14\" d=\"M 111.8,224.7 L 79.2,235.3\" style=\"fill:none;fill-rule:evenodd;stroke:#0000FF;stroke-width:2.0px;stroke-linecap:butt;stroke-linejoin:miter;stroke-opacity:1\"/>\n<path class=\"note\" d=\"M 371.4 202.4 Q 369.3 202.4, 368.2 200.8 Q 367.1 199.2, 367.1 196.3 Q 367.1 193.5, 368.2 191.9 Q 369.2 190.3, 371.4 190.3 Q 373.6 190.3, 374.7 191.9 Q 375.8 193.5, 375.8 196.3 Q 375.8 199.2, 374.7 200.8 Q 373.6 202.4, 371.4 202.4 M 371.4 201.1 Q 372.7 201.1, 373.4 199.9 Q 374.1 198.7, 374.1 196.3 Q 374.1 194.0, 373.4 192.8 Q 372.7 191.6, 371.4 191.6 Q 370.2 191.6, 369.5 192.8 Q 368.8 194.0, 368.8 196.3 Q 368.8 198.7, 369.5 199.9 Q 370.2 201.1, 371.4 201.1 \" fill=\"#000000\"/>\n<path class=\"note\" d=\"M 340.3 321.7 L 342.9 321.7 L 342.9 312.8 L 340.1 313.7 L 339.7 312.7 L 343.3 311.0 L 344.5 311.2 L 344.5 321.7 L 346.9 321.7 L 346.9 323.0 L 340.3 323.0 L 340.3 321.7 \" fill=\"#000000\"/>\n<path class=\"note\" d=\"M 308.0 89.8 Q 308.4 88.7, 309.4 88.1 Q 310.5 87.4, 311.9 87.4 Q 313.7 87.4, 314.7 88.4 Q 315.7 89.4, 315.7 91.1 Q 315.7 92.9, 314.4 94.5 Q 313.1 96.2, 310.4 98.1 L 315.9 98.1 L 315.9 99.5 L 307.9 99.5 L 307.9 98.4 Q 310.1 96.8, 311.5 95.6 Q 312.8 94.4, 313.4 93.4 Q 314.1 92.3, 314.1 91.2 Q 314.1 90.1, 313.5 89.4 Q 312.9 88.8, 311.9 88.8 Q 311.0 88.8, 310.3 89.2 Q 309.7 89.6, 309.2 90.4 L 308.0 89.8 \" fill=\"#000000\"/>\n<path class=\"note\" d=\"M 79.5 306.6 Q 80.7 307.0, 81.2 307.7 Q 81.8 308.5, 81.8 309.7 Q 81.8 310.7, 81.3 311.4 Q 80.8 312.2, 79.9 312.7 Q 79.0 313.1, 77.7 313.1 Q 76.5 313.1, 75.5 312.6 Q 74.6 312.2, 73.8 311.3 L 74.8 310.3 Q 75.5 311.1, 76.1 311.4 Q 76.8 311.7, 77.7 311.7 Q 78.8 311.7, 79.5 311.2 Q 80.1 310.6, 80.1 309.6 Q 80.1 308.4, 79.4 307.9 Q 78.8 307.3, 77.3 307.3 L 76.5 307.3 L 76.5 306.1 L 77.2 306.1 Q 78.5 306.1, 79.2 305.5 Q 79.9 305.0, 79.9 303.9 Q 79.9 303.1, 79.3 302.7 Q 78.7 302.2, 77.8 302.2 Q 76.8 302.2, 76.2 302.6 Q 75.5 302.9, 75.1 303.8 L 73.9 303.2 Q 74.3 302.2, 75.3 301.5 Q 76.4 300.9, 77.8 300.9 Q 79.5 300.9, 80.5 301.7 Q 81.6 302.5, 81.6 303.9 Q 81.6 304.9, 81.0 305.6 Q 80.5 306.3, 79.5 306.6 \" fill=\"#000000\"/>\n<path class=\"note\" d=\"M 186.1 44.9 L 187.5 44.9 L 187.5 46.2 L 186.1 46.2 L 186.1 48.9 L 184.5 48.9 L 184.5 46.2 L 178.4 46.2 L 178.4 45.1 L 183.6 37.0 L 186.1 37.0 L 186.1 44.9 M 180.3 44.9 L 184.5 44.9 L 184.5 38.1 L 180.3 44.9 \" fill=\"#000000\"/>\n<path class=\"note\" d=\"M 18.5 178.4 Q 19.5 178.4, 20.4 178.9 Q 21.2 179.3, 21.7 180.2 Q 22.2 181.0, 22.2 182.1 Q 22.2 183.3, 21.6 184.2 Q 21.0 185.1, 20.0 185.6 Q 19.1 186.0, 18.0 186.0 Q 16.9 186.0, 15.9 185.6 Q 14.8 185.2, 14.2 184.4 L 15.2 183.4 Q 15.7 184.0, 16.5 184.3 Q 17.2 184.7, 18.0 184.7 Q 19.1 184.7, 19.8 184.0 Q 20.5 183.3, 20.5 182.2 Q 20.5 180.9, 19.8 180.3 Q 19.1 179.7, 17.9 179.7 Q 16.9 179.7, 15.7 180.2 L 14.8 179.7 L 15.3 174.0 L 21.5 174.0 L 21.3 175.3 L 16.7 175.3 L 16.4 178.9 Q 17.4 178.4, 18.5 178.4 \" fill=\"#000000\"/>\n<path class=\"note\" d=\"M 73.3 103.4 Q 74.4 103.4, 75.2 103.8 Q 76.0 104.3, 76.5 105.1 Q 76.9 105.9, 76.9 107.0 Q 76.9 108.1, 76.4 109.0 Q 75.9 109.9, 75.0 110.4 Q 74.1 110.9, 72.9 110.9 Q 70.8 110.9, 69.7 109.5 Q 68.7 108.1, 68.7 105.2 Q 68.7 102.0, 70.0 100.4 Q 71.3 98.8, 73.9 98.8 Q 74.6 98.8, 75.2 98.9 Q 75.9 99.1, 76.5 99.4 L 75.8 100.6 Q 74.9 100.1, 73.9 100.1 Q 72.2 100.1, 71.3 101.2 Q 70.5 102.3, 70.4 104.5 Q 71.0 104.0, 71.7 103.7 Q 72.5 103.4, 73.3 103.4 M 73.0 109.6 Q 73.6 109.6, 74.1 109.2 Q 74.7 108.9, 75.0 108.3 Q 75.3 107.7, 75.3 107.0 Q 75.3 105.9, 74.7 105.3 Q 74.1 104.7, 73.0 104.7 Q 72.3 104.7, 71.6 105.0 Q 70.9 105.3, 70.4 105.8 Q 70.4 107.8, 71.1 108.7 Q 71.7 109.6, 73.0 109.6 \" fill=\"#000000\"/>\n<path class=\"note\" d=\"M 206.0 264.7 L 199.8 264.7 L 199.8 263.3 L 207.7 263.3 L 207.7 264.5 L 202.9 275.2 L 201.2 275.2 L 206.0 264.7 \" fill=\"#000000\"/>\n<path class=\"note\" d=\"M 246.9 203.5 Q 248.0 204.0, 248.6 204.7 Q 249.2 205.4, 249.2 206.6 Q 249.2 207.6, 248.7 208.4 Q 248.2 209.1, 247.2 209.6 Q 246.3 210.0, 245.1 210.0 Q 243.1 210.0, 241.9 209.1 Q 240.8 208.2, 240.8 206.6 Q 240.8 205.6, 241.3 204.9 Q 241.8 204.1, 242.8 203.6 Q 242.1 203.1, 241.7 202.5 Q 241.2 201.8, 241.2 200.8 Q 241.2 199.4, 242.2 198.6 Q 243.3 197.8, 245.0 197.8 Q 246.7 197.8, 247.7 198.6 Q 248.8 199.4, 248.8 200.8 Q 248.8 201.7, 248.3 202.4 Q 247.8 203.0, 246.9 203.5 M 245.0 199.0 Q 244.0 199.0, 243.5 199.5 Q 242.9 200.0, 242.9 200.8 Q 242.9 201.4, 243.3 201.9 Q 243.7 202.3, 244.2 202.5 Q 244.7 202.7, 245.7 203.1 Q 246.5 202.6, 246.8 202.1 Q 247.1 201.5, 247.1 200.8 Q 247.1 200.0, 246.5 199.5 Q 246.0 199.0, 245.0 199.0 M 245.1 208.7 Q 246.2 208.7, 246.9 208.1 Q 247.5 207.5, 247.5 206.5 Q 247.5 205.9, 247.2 205.5 Q 246.8 205.1, 246.3 204.9 Q 245.8 204.6, 244.8 204.3 L 244.1 204.1 Q 243.2 204.6, 242.8 205.2 Q 242.5 205.8, 242.5 206.5 Q 242.5 207.5, 243.2 208.1 Q 243.9 208.7, 245.1 208.7 \" fill=\"#000000\"/>\n<path class=\"note\" d=\"M 203.6 126.2 Q 205.7 126.2, 206.8 127.6 Q 207.8 129.1, 207.8 131.9 Q 207.8 135.1, 206.5 136.7 Q 205.2 138.4, 202.6 138.4 Q 201.9 138.4, 201.3 138.2 Q 200.6 138.0, 200.0 137.7 L 200.7 136.6 Q 201.6 137.0, 202.6 137.0 Q 204.3 137.0, 205.2 135.9 Q 206.0 134.9, 206.1 132.6 Q 205.5 133.2, 204.8 133.5 Q 204.0 133.8, 203.2 133.8 Q 202.1 133.8, 201.3 133.3 Q 200.5 132.9, 200.0 132.0 Q 199.6 131.2, 199.6 130.2 Q 199.6 129.0, 200.1 128.1 Q 200.6 127.2, 201.5 126.7 Q 202.4 126.2, 203.6 126.2 M 201.3 130.1 Q 201.3 131.2, 201.8 131.8 Q 202.4 132.4, 203.5 132.4 Q 204.2 132.4, 204.9 132.1 Q 205.6 131.8, 206.1 131.3 Q 206.1 129.4, 205.4 128.5 Q 204.8 127.6, 203.6 127.6 Q 202.9 127.6, 202.4 127.9 Q 201.9 128.2, 201.6 128.8 Q 201.3 129.4, 201.3 130.1 \" fill=\"#000000\"/>\n<path class=\"note\" d=\"M 150.9 160.7 L 153.5 160.7 L 153.5 151.9 L 150.6 152.7 L 150.2 151.8 L 153.9 150.1 L 155.1 150.3 L 155.1 160.7 L 157.4 160.7 L 157.4 162.1 L 150.9 162.1 L 150.9 160.7 \" fill=\"#000000\"/>\n<path class=\"note\" d=\"M 162.8 162.2 Q 160.6 162.2, 159.5 160.6 Q 158.4 159.0, 158.4 156.1 Q 158.4 153.3, 159.5 151.7 Q 160.6 150.1, 162.8 150.1 Q 165.0 150.1, 166.1 151.7 Q 167.1 153.3, 167.1 156.1 Q 167.1 159.0, 166.1 160.6 Q 165.0 162.2, 162.8 162.2 M 162.8 160.9 Q 164.1 160.9, 164.8 159.7 Q 165.5 158.5, 165.5 156.1 Q 165.5 153.8, 164.8 152.6 Q 164.1 151.4, 162.8 151.4 Q 161.5 151.4, 160.8 152.6 Q 160.1 153.8, 160.1 156.1 Q 160.1 158.5, 160.8 159.7 Q 161.5 160.9, 162.8 160.9 \" fill=\"#000000\"/>\n<path class=\"note\" d=\"M 151.7 208.4 L 154.3 208.4 L 154.3 199.5 L 151.5 200.4 L 151.1 199.4 L 154.7 197.8 L 155.9 198.0 L 155.9 208.4 L 158.2 208.4 L 158.2 209.8 L 151.7 209.8 L 151.7 208.4 \" fill=\"#000000\"/>\n<path class=\"note\" d=\"M 159.8 208.4 L 162.4 208.4 L 162.4 199.5 L 159.5 200.4 L 159.2 199.4 L 162.8 197.8 L 164.0 198.0 L 164.0 208.4 L 166.3 208.4 L 166.3 209.8 L 159.8 209.8 L 159.8 208.4 \" fill=\"#000000\"/>\n<path class=\"note\" d=\"M 311.5 232.4 L 314.2 232.4 L 314.2 223.5 L 311.3 224.4 L 310.9 223.4 L 314.5 221.8 L 315.7 222.0 L 315.7 232.4 L 318.1 232.4 L 318.1 233.8 L 311.5 233.8 L 311.5 232.4 \" fill=\"#000000\"/>\n<path class=\"note\" d=\"M 318.9 224.1 Q 319.4 223.0, 320.4 222.4 Q 321.5 221.7, 322.9 221.7 Q 324.7 221.7, 325.7 222.7 Q 326.7 223.7, 326.7 225.4 Q 326.7 227.2, 325.4 228.8 Q 324.1 230.5, 321.4 232.4 L 326.9 232.4 L 326.9 233.8 L 318.9 233.8 L 318.9 232.7 Q 321.1 231.1, 322.4 229.9 Q 323.8 228.7, 324.4 227.7 Q 325.0 226.6, 325.0 225.5 Q 325.0 224.4, 324.5 223.7 Q 323.9 223.1, 322.9 223.1 Q 322.0 223.1, 321.3 223.5 Q 320.7 223.9, 320.2 224.7 L 318.9 224.1 \" fill=\"#000000\"/>\n<path class=\"note\" d=\"M 234.1 160.7 L 236.7 160.7 L 236.7 151.8 L 233.9 152.7 L 233.5 151.7 L 237.1 150.1 L 238.3 150.3 L 238.3 160.7 L 240.7 160.7 L 240.7 162.1 L 234.1 162.1 L 234.1 160.7 \" fill=\"#000000\"/>\n<path class=\"note\" d=\"M 247.1 155.8 Q 248.2 156.2, 248.8 156.9 Q 249.4 157.6, 249.4 158.8 Q 249.4 159.8, 248.9 160.6 Q 248.4 161.4, 247.4 161.8 Q 246.5 162.3, 245.3 162.3 Q 244.0 162.3, 243.1 161.8 Q 242.1 161.4, 241.4 160.5 L 242.3 159.5 Q 243.1 160.3, 243.7 160.6 Q 244.3 160.9, 245.3 160.9 Q 246.4 160.9, 247.0 160.3 Q 247.7 159.7, 247.7 158.8 Q 247.7 157.6, 247.0 157.1 Q 246.3 156.5, 244.9 156.5 L 244.0 156.5 L 244.0 155.3 L 244.8 155.3 Q 246.1 155.3, 246.7 154.7 Q 247.4 154.2, 247.4 153.1 Q 247.4 152.3, 246.9 151.9 Q 246.3 151.4, 245.3 151.4 Q 244.3 151.4, 243.7 151.7 Q 243.1 152.1, 242.6 153.0 L 241.5 152.4 Q 241.9 151.4, 242.9 150.7 Q 243.9 150.0, 245.3 150.0 Q 247.1 150.0, 248.1 150.9 Q 249.1 151.7, 249.1 153.1 Q 249.1 154.0, 248.6 154.7 Q 248.1 155.4, 247.1 155.8 \" fill=\"#000000\"/>\n<path class=\"note\" d=\"M 74.3 220.2 L 76.9 220.2 L 76.9 211.3 L 74.0 212.2 L 73.6 211.2 L 77.3 209.6 L 78.5 209.8 L 78.5 220.2 L 80.8 220.2 L 80.8 221.6 L 74.3 221.6 L 74.3 220.2 \" fill=\"#000000\"/>\n<path class=\"note\" d=\"M 89.0 217.5 L 90.5 217.5 L 90.5 218.8 L 89.0 218.8 L 89.0 221.6 L 87.5 221.6 L 87.5 218.8 L 81.3 218.8 L 81.3 217.8 L 86.5 209.7 L 89.0 209.7 L 89.0 217.5 M 83.2 217.5 L 87.5 217.5 L 87.5 210.7 L 83.2 217.5 \" fill=\"#000000\"/>\n<path d=\"M 154.0 389.6 Q 154.0 387.6, 155.0 386.5 Q 156.0 385.4, 157.9 385.4 Q 159.8 385.4, 160.8 386.7 L 159.8 387.5 Q 159.4 387.0, 158.9 386.8 Q 158.5 386.6, 157.9 386.6 Q 156.8 386.6, 156.2 387.3 Q 155.5 388.1, 155.5 389.6 Q 155.5 391.1, 156.2 391.9 Q 156.8 392.7, 158.0 392.7 Q 158.7 392.7, 159.2 392.5 Q 159.6 392.4, 160.2 392.1 L 160.6 393.1 Q 159.4 393.8, 157.9 393.8 Q 156.0 393.8, 155.0 392.7 Q 154.0 391.6, 154.0 389.6 \" fill=\"#000000\"/>\n<path d=\"M 161.5 391.5 Q 161.5 390.2, 162.5 389.5 Q 163.6 388.8, 165.5 388.8 L 166.8 388.8 L 166.8 388.4 Q 166.8 387.4, 166.3 387.0 Q 165.9 386.6, 164.9 386.6 Q 164.2 386.6, 163.7 386.7 Q 163.2 386.8, 162.4 387.1 L 162.0 386.1 Q 163.5 385.4, 164.9 385.4 Q 166.7 385.4, 167.5 386.1 Q 168.3 386.9, 168.3 388.5 L 168.3 393.7 L 167.1 393.7 Q 167.1 393.7, 167.0 393.4 Q 167.0 393.2, 166.9 392.8 Q 165.7 393.9, 164.2 393.9 Q 163.0 393.9, 162.2 393.3 Q 161.5 392.6, 161.5 391.5 M 163.0 391.5 Q 163.0 392.1, 163.4 392.4 Q 163.8 392.7, 164.5 392.7 Q 165.1 392.7, 165.7 392.5 Q 166.3 392.2, 166.8 391.6 L 166.8 389.9 L 165.6 389.9 Q 164.3 389.9, 163.7 390.3 Q 163.0 390.7, 163.0 391.5 \" fill=\"#000000\"/>\n<path d=\"M 173.9 385.4 Q 175.2 385.4, 175.9 386.1 Q 176.6 386.9, 176.6 388.3 L 176.6 393.7 L 175.1 393.7 L 175.1 388.4 Q 175.1 387.4, 174.7 387.0 Q 174.3 386.6, 173.5 386.6 Q 172.7 386.6, 172.1 386.9 Q 171.5 387.2, 171.1 387.8 L 171.1 393.7 L 169.6 393.7 L 169.6 385.5 L 170.8 385.5 L 171.0 386.7 Q 172.1 385.4, 173.9 385.4 \" fill=\"#000000\"/>\n<path d=\"M 177.3 389.6 Q 177.3 387.6, 178.3 386.5 Q 179.3 385.4, 181.2 385.4 Q 183.1 385.4, 184.1 386.5 Q 185.1 387.6, 185.1 389.6 Q 185.1 391.6, 184.1 392.7 Q 183.1 393.9, 181.2 393.9 Q 179.3 393.9, 178.3 392.7 Q 177.3 391.6, 177.3 389.6 M 178.8 389.6 Q 178.8 391.1, 179.4 391.9 Q 180.1 392.7, 181.2 392.7 Q 182.3 392.7, 182.9 391.9 Q 183.6 391.1, 183.6 389.6 Q 183.6 388.1, 182.9 387.3 Q 182.3 386.6, 181.2 386.6 Q 180.1 386.6, 179.4 387.3 Q 178.8 388.1, 178.8 389.6 \" fill=\"#000000\"/>\n<path d=\"M 190.7 385.4 Q 192.0 385.4, 192.7 386.1 Q 193.4 386.9, 193.4 388.3 L 193.4 393.7 L 191.9 393.7 L 191.9 388.4 Q 191.9 387.4, 191.5 387.0 Q 191.2 386.6, 190.3 386.6 Q 189.6 386.6, 188.9 386.9 Q 188.3 387.2, 187.9 387.8 L 187.9 393.7 L 186.4 393.7 L 186.4 385.5 L 187.7 385.5 L 187.8 386.7 Q 188.9 385.4, 190.7 385.4 \" fill=\"#000000\"/>\n<path d=\"M 194.8 382.4 L 196.3 382.4 L 196.3 383.8 L 194.8 383.8 L 194.8 382.4 M 194.8 385.5 L 196.3 385.5 L 196.3 393.7 L 194.8 393.7 L 194.8 385.5 \" fill=\"#000000\"/>\n<path d=\"M 197.0 389.6 Q 197.0 387.6, 198.0 386.5 Q 199.0 385.4, 200.9 385.4 Q 202.8 385.4, 203.8 386.7 L 202.8 387.5 Q 202.4 387.0, 201.9 386.8 Q 201.5 386.6, 200.9 386.6 Q 199.8 386.6, 199.2 387.3 Q 198.5 388.1, 198.5 389.6 Q 198.5 391.1, 199.2 391.9 Q 199.8 392.7, 201.0 392.7 Q 201.7 392.7, 202.2 392.5 Q 202.6 392.4, 203.2 392.1 L 203.6 393.1 Q 202.4 393.8, 200.9 393.8 Q 199.0 393.8, 198.0 392.7 Q 197.0 391.6, 197.0 389.6 \" fill=\"#000000\"/>\n<path d=\"M 204.5 391.5 Q 204.5 390.2, 205.5 389.5 Q 206.6 388.8, 208.5 388.8 L 209.7 388.8 L 209.7 388.4 Q 209.7 387.4, 209.3 387.0 Q 208.9 386.6, 207.9 386.6 Q 207.2 386.6, 206.7 386.7 Q 206.2 386.8, 205.4 387.1 L 204.9 386.1 Q 206.5 385.4, 207.9 385.4 Q 209.7 385.4, 210.5 386.1 Q 211.3 386.9, 211.3 388.5 L 211.3 393.7 L 210.1 393.7 Q 210.1 393.7, 210.0 393.4 Q 210.0 393.2, 209.9 392.8 Q 208.7 393.9, 207.2 393.9 Q 206.0 393.9, 205.2 393.3 Q 204.5 392.6, 204.5 391.5 M 206.0 391.5 Q 206.0 392.1, 206.4 392.4 Q 206.8 392.7, 207.5 392.7 Q 208.1 392.7, 208.7 392.5 Q 209.3 392.2, 209.7 391.6 L 209.7 389.9 L 208.6 389.9 Q 207.3 389.9, 206.6 390.3 Q 206.0 390.7, 206.0 391.5 \" fill=\"#000000\"/>\n<path d=\"M 212.6 381.6 L 214.1 381.6 L 214.1 393.7 L 212.6 393.7 L 212.6 381.6 \" fill=\"#000000\"/>\n<path d=\"M 215.5 382.4 L 216.9 382.4 L 216.9 383.8 L 215.5 383.8 L 215.5 382.4 M 215.5 385.5 L 216.9 385.5 L 216.9 393.7 L 215.5 393.7 L 215.5 385.5 \" fill=\"#000000\"/>\n<path d=\"M 219.4 392.6 L 223.9 392.6 L 223.9 393.7 L 217.6 393.7 L 217.6 392.8 L 221.9 386.7 L 217.8 386.7 L 217.8 385.5 L 223.8 385.5 L 223.8 386.4 L 219.4 392.6 \" fill=\"#000000\"/>\n<path d=\"M 224.7 389.6 Q 224.7 387.6, 225.7 386.5 Q 226.7 385.4, 228.5 385.4 Q 230.3 385.4, 231.1 386.5 Q 232.0 387.5, 232.0 389.6 L 232.0 389.8 L 226.2 389.8 Q 226.2 391.2, 226.9 391.9 Q 227.5 392.7, 228.7 392.7 Q 229.3 392.7, 229.9 392.5 Q 230.5 392.4, 231.2 392.1 L 231.6 393.1 Q 230.8 393.5, 230.1 393.7 Q 229.3 393.9, 228.6 393.9 Q 226.7 393.9, 225.7 392.7 Q 224.7 391.6, 224.7 389.6 M 228.5 386.6 Q 227.6 386.6, 227.0 387.1 Q 226.5 387.6, 226.3 388.7 L 230.4 388.7 Q 230.3 387.6, 229.8 387.1 Q 229.4 386.6, 228.5 386.6 \" fill=\"#000000\"/>\n<path d=\"M 240.2 381.6 L 240.2 393.7 L 238.9 393.7 L 238.7 392.7 Q 237.8 393.9, 236.3 393.9 Q 234.6 393.9, 233.6 392.8 Q 232.7 391.7, 232.7 389.8 Q 232.7 387.7, 233.8 386.5 Q 234.9 385.4, 236.9 385.4 Q 237.8 385.4, 238.7 385.6 L 238.7 381.6 L 240.2 381.6 M 236.4 392.7 Q 237.2 392.7, 237.8 392.2 Q 238.4 391.8, 238.7 391.0 L 238.7 386.8 Q 237.8 386.6, 236.9 386.6 Q 235.7 386.6, 234.9 387.4 Q 234.2 388.2, 234.2 389.8 Q 234.2 391.2, 234.8 391.9 Q 235.4 392.7, 236.4 392.7 \" fill=\"#000000\"/>\n<path class=\"bond-14 atom-9 atom-0\" d=\"M 722.5,248.5 L 752.2,231.4\" style=\"fill:none;fill-rule:evenodd;stroke:#0000FF;stroke-width:2.0px;stroke-linecap:butt;stroke-linejoin:miter;stroke-opacity:1\"/>\n<path class=\"bond-14 atom-9 atom-0\" d=\"M 752.2,231.4 L 781.8,214.3\" style=\"fill:none;fill-rule:evenodd;stroke:#000000;stroke-width:2.0px;stroke-linecap:butt;stroke-linejoin:miter;stroke-opacity:1\"/>\n<path class=\"bond-15 atom-9 atom-1\" d=\"M 722.5,248.5 L 722.5,282.8\" style=\"fill:none;fill-rule:evenodd;stroke:#0000FF;stroke-width:2.0px;stroke-linecap:butt;stroke-linejoin:miter;stroke-opacity:1\"/>\n<path class=\"bond-15 atom-9 atom-1\" d=\"M 722.5,282.8 L 722.5,317.0\" style=\"fill:none;fill-rule:evenodd;stroke:#000000;stroke-width:2.0px;stroke-linecap:butt;stroke-linejoin:miter;stroke-opacity:1\"/>\n<path class=\"bond-13 atom-12 atom-2\" d=\"M 663.0,145.7 L 692.6,128.6\" style=\"fill:none;fill-rule:evenodd;stroke:#0000FF;stroke-width:2.0px;stroke-linecap:butt;stroke-linejoin:miter;stroke-opacity:1\"/>\n<path class=\"bond-13 atom-12 atom-2\" d=\"M 692.6,128.6 L 722.3,111.4\" style=\"fill:none;fill-rule:evenodd;stroke:#000000;stroke-width:2.0px;stroke-linecap:butt;stroke-linejoin:miter;stroke-opacity:1\"/>\n<path class=\"bond-12 atom-13 atom-3\" d=\"M 479.2,235.3 L 468.6,267.9\" style=\"fill:none;fill-rule:evenodd;stroke:#0000FF;stroke-width:2.0px;stroke-linecap:butt;stroke-linejoin:miter;stroke-opacity:1\"/>\n<path class=\"bond-12 atom-13 atom-3\" d=\"M 468.6,267.9 L 458.1,300.5\" style=\"fill:none;fill-rule:evenodd;stroke:#000000;stroke-width:2.0px;stroke-linecap:butt;stroke-linejoin:miter;stroke-opacity:1\"/>\n<path class=\"bond-3 atom-6 atom-4\" d=\"M 544.3,214.2 L 544.3,145.7\" style=\"fill:none;fill-rule:evenodd;stroke:#000000;stroke-width:2.0px;stroke-linecap:butt;stroke-linejoin:miter;stroke-opacity:1\"/>\n<path class=\"bond-3 atom-6 atom-4\" d=\"M 544.3,203.9 L 544.3,156.0\" style=\"fill:none;fill-rule:evenodd;stroke:#000000;stroke-width:2.0px;stroke-linecap:butt;stroke-linejoin:miter;stroke-opacity:1\"/>\n<path class=\"bond-4 atom-4 atom-8\" d=\"M 544.3,145.7 L 603.7,111.5\" style=\"fill:none;fill-rule:evenodd;stroke:#000000;stroke-width:2.0px;stroke-linecap:butt;stroke-linejoin:miter;stroke-opacity:1\"/>\n<path class=\"bond-9 atom-4 atom-10\" d=\"M 544.3,145.7 L 511.8,135.1\" style=\"fill:none;fill-rule:evenodd;stroke:#000000;stroke-width:2.0px;stroke-linecap:butt;stroke-linejoin:miter;stroke-opacity:1\"/>\n<path class=\"bond-9 atom-4 atom-10\" d=\"M 511.8,135.1 L 479.2,124.5\" style=\"fill:none;fill-rule:evenodd;stroke:#0000FF;stroke-width:2.0px;stroke-linecap:butt;stroke-linejoin:miter;stroke-opacity:1\"/>\n<path class=\"bond-7 atom-13 atom-5\" d=\"M 479.2,235.3 L 459.1,207.6\" style=\"fill:none;fill-rule:evenodd;stroke:#0000FF;stroke-width:2.0px;stroke-linecap:butt;stroke-linejoin:miter;stroke-opacity:1\"/>\n<path class=\"bond-7 atom-13 atom-5\" d=\"M 459.1,207.6 L 438.9,179.9\" style=\"fill:none;fill-rule:evenodd;stroke:#000000;stroke-width:2.0px;stroke-linecap:butt;stroke-linejoin:miter;stroke-opacity:1\"/>\n<path class=\"bond-8 atom-5 atom-10\" d=\"M 438.9,179.9 L 459.1,152.2\" style=\"fill:none;fill-rule:evenodd;stroke:#000000;stroke-width:2.0px;stroke-linecap:butt;stroke-linejoin:miter;stroke-opacity:1\"/>\n<path class=\"bond-8 atom-5 atom-10\" d=\"M 459.1,152.2 L 479.2,124.5\" style=\"fill:none;fill-rule:evenodd;stroke:#0000FF;stroke-width:2.0px;stroke-linecap:butt;stroke-linejoin:miter;stroke-opacity:1\"/>\n<path class=\"bond-8 atom-5 atom-10\" d=\"M 445.0,171.6 L 459.1,152.2\" style=\"fill:none;fill-rule:evenodd;stroke:#000000;stroke-width:2.0px;stroke-linecap:butt;stroke-linejoin:miter;stroke-opacity:1\"/>\n<path class=\"bond-8 atom-5 atom-10\" d=\"M 459.1,152.2 L 473.2,132.8\" style=\"fill:none;fill-rule:evenodd;stroke:#0000FF;stroke-width:2.0px;stroke-linecap:butt;stroke-linejoin:miter;stroke-opacity:1\"/>\n<path class=\"bond-2 atom-11 atom-6\" d=\"M 603.7,248.5 L 574.0,231.3\" style=\"fill:none;fill-rule:evenodd;stroke:#0000FF;stroke-width:2.0px;stroke-linecap:butt;stroke-linejoin:miter;stroke-opacity:1\"/>\n<path class=\"bond-2 atom-11 atom-6\" d=\"M 574.0,231.3 L 544.3,214.2\" style=\"fill:none;fill-rule:evenodd;stroke:#000000;stroke-width:2.0px;stroke-linecap:butt;stroke-linejoin:miter;stroke-opacity:1\"/>\n<path class=\"bond-6 atom-6 atom-13\" d=\"M 544.3,214.2 L 511.8,224.7\" style=\"fill:none;fill-rule:evenodd;stroke:#000000;stroke-width:2.0px;stroke-linecap:butt;stroke-linejoin:miter;stroke-opacity:1\"/>\n<path class=\"bond-6 atom-6 atom-13\" d=\"M 511.8,224.7 L 479.2,235.3\" style=\"fill:none;fill-rule:evenodd;stroke:#0000FF;stroke-width:2.0px;stroke-linecap:butt;stroke-linejoin:miter;stroke-opacity:1\"/>\n<path class=\"bond-0 atom-12 atom-7\" d=\"M 663.0,145.7 L 663.0,179.9\" style=\"fill:none;fill-rule:evenodd;stroke:#0000FF;stroke-width:2.0px;stroke-linecap:butt;stroke-linejoin:miter;stroke-opacity:1\"/>\n<path class=\"bond-0 atom-12 atom-7\" d=\"M 663.0,179.9 L 663.0,214.2\" style=\"fill:none;fill-rule:evenodd;stroke:#000000;stroke-width:2.0px;stroke-linecap:butt;stroke-linejoin:miter;stroke-opacity:1\"/>\n<path class=\"bond-1 atom-7 atom-11\" d=\"M 663.0,214.2 L 633.3,231.3\" style=\"fill:none;fill-rule:evenodd;stroke:#000000;stroke-width:2.0px;stroke-linecap:butt;stroke-linejoin:miter;stroke-opacity:1\"/>\n<path class=\"bond-1 atom-7 atom-11\" d=\"M 633.3,231.3 L 603.7,248.5\" style=\"fill:none;fill-rule:evenodd;stroke:#0000FF;stroke-width:2.0px;stroke-linecap:butt;stroke-linejoin:miter;stroke-opacity:1\"/>\n<path class=\"bond-1 atom-7 atom-11\" d=\"M 654.1,219.3 L 633.3,231.3\" style=\"fill:none;fill-rule:evenodd;stroke:#000000;stroke-width:2.0px;stroke-linecap:butt;stroke-linejoin:miter;stroke-opacity:1\"/>\n<path class=\"bond-1 atom-7 atom-11\" d=\"M 633.3,231.3 L 612.6,243.4\" style=\"fill:none;fill-rule:evenodd;stroke:#0000FF;stroke-width:2.0px;stroke-linecap:butt;stroke-linejoin:miter;stroke-opacity:1\"/>\n<path class=\"bond-11 atom-7 atom-9\" d=\"M 663.0,214.2 L 692.7,231.3\" style=\"fill:none;fill-rule:evenodd;stroke:#000000;stroke-width:2.0px;stroke-linecap:butt;stroke-linejoin:miter;stroke-opacity:1\"/>\n<path class=\"bond-11 atom-7 atom-9\" d=\"M 692.7,231.3 L 722.5,248.5\" style=\"fill:none;fill-rule:evenodd;stroke:#0000FF;stroke-width:2.0px;stroke-linecap:butt;stroke-linejoin:miter;stroke-opacity:1\"/>\n<path class=\"bond-5 atom-12 atom-8\" d=\"M 663.0,145.7 L 633.3,128.6\" style=\"fill:none;fill-rule:evenodd;stroke:#0000FF;stroke-width:2.0px;stroke-linecap:butt;stroke-linejoin:miter;stroke-opacity:1\"/>\n<path class=\"bond-5 atom-12 atom-8\" d=\"M 633.3,128.6 L 603.7,111.5\" style=\"fill:none;fill-rule:evenodd;stroke:#000000;stroke-width:2.0px;stroke-linecap:butt;stroke-linejoin:miter;stroke-opacity:1\"/>\n<path class=\"bond-10 atom-8 atom-14\" d=\"M 603.7,111.5 L 603.7,77.2\" style=\"fill:none;fill-rule:evenodd;stroke:#000000;stroke-width:2.0px;stroke-linecap:butt;stroke-linejoin:miter;stroke-opacity:1\"/>\n<path class=\"bond-10 atom-8 atom-14\" d=\"M 603.7,77.2 L 603.7,43.0\" style=\"fill:none;fill-rule:evenodd;stroke:#FF0000;stroke-width:2.0px;stroke-linecap:butt;stroke-linejoin:miter;stroke-opacity:1\"/>\n<path class=\"bond-10 atom-8 atom-14\" d=\"M 603.7,111.5 L 603.7,77.2\" style=\"fill:none;fill-rule:evenodd;stroke:#000000;stroke-width:2.0px;stroke-linecap:butt;stroke-linejoin:miter;stroke-opacity:1\"/>\n<path class=\"bond-10 atom-8 atom-14\" d=\"M 603.7,77.2 L 603.7,43.0\" style=\"fill:none;fill-rule:evenodd;stroke:#FF0000;stroke-width:2.0px;stroke-linecap:butt;stroke-linejoin:miter;stroke-opacity:1\"/>\n<path class=\"note\" d=\"M 771.4 202.4 Q 769.3 202.4, 768.2 200.8 Q 767.1 199.2, 767.1 196.3 Q 767.1 193.5, 768.2 191.9 Q 769.2 190.3, 771.4 190.3 Q 773.6 190.3, 774.7 191.9 Q 775.8 193.5, 775.8 196.3 Q 775.8 199.2, 774.7 200.8 Q 773.6 202.4, 771.4 202.4 M 771.4 201.1 Q 772.7 201.1, 773.4 199.9 Q 774.1 198.7, 774.1 196.3 Q 774.1 194.0, 773.4 192.8 Q 772.7 191.6, 771.4 191.6 Q 770.2 191.6, 769.5 192.8 Q 768.8 194.0, 768.8 196.3 Q 768.8 198.7, 769.5 199.9 Q 770.2 201.1, 771.4 201.1 \" fill=\"#000000\"/>\n<path class=\"note\" d=\"M 740.3 321.7 L 742.9 321.7 L 742.9 312.8 L 740.1 313.7 L 739.7 312.7 L 743.3 311.0 L 744.5 311.2 L 744.5 321.7 L 746.9 321.7 L 746.9 323.0 L 740.3 323.0 L 740.3 321.7 \" fill=\"#000000\"/>\n<path class=\"note\" d=\"M 708.0 89.8 Q 708.4 88.7, 709.4 88.1 Q 710.5 87.4, 711.9 87.4 Q 713.7 87.4, 714.7 88.4 Q 715.7 89.4, 715.7 91.1 Q 715.7 92.9, 714.4 94.5 Q 713.1 96.2, 710.4 98.1 L 715.9 98.1 L 715.9 99.5 L 707.9 99.5 L 707.9 98.4 Q 710.1 96.8, 711.5 95.6 Q 712.8 94.4, 713.4 93.4 Q 714.1 92.3, 714.1 91.2 Q 714.1 90.1, 713.5 89.4 Q 712.9 88.8, 711.9 88.8 Q 711.0 88.8, 710.3 89.2 Q 709.7 89.6, 709.2 90.4 L 708.0 89.8 \" fill=\"#000000\"/>\n<path class=\"note\" d=\"M 479.5 306.6 Q 480.7 307.0, 481.2 307.7 Q 481.8 308.5, 481.8 309.7 Q 481.8 310.7, 481.3 311.4 Q 480.8 312.2, 479.9 312.7 Q 479.0 313.1, 477.7 313.1 Q 476.5 313.1, 475.5 312.6 Q 474.6 312.2, 473.8 311.3 L 474.8 310.3 Q 475.5 311.1, 476.1 311.4 Q 476.8 311.7, 477.7 311.7 Q 478.8 311.7, 479.5 311.2 Q 480.1 310.6, 480.1 309.6 Q 480.1 308.4, 479.4 307.9 Q 478.8 307.3, 477.3 307.3 L 476.5 307.3 L 476.5 306.1 L 477.2 306.1 Q 478.5 306.1, 479.2 305.5 Q 479.9 305.0, 479.9 303.9 Q 479.9 303.1, 479.3 302.7 Q 478.7 302.2, 477.8 302.2 Q 476.8 302.2, 476.2 302.6 Q 475.5 302.9, 475.1 303.8 L 473.9 303.2 Q 474.3 302.2, 475.3 301.5 Q 476.4 300.9, 477.8 300.9 Q 479.5 300.9, 480.5 301.7 Q 481.6 302.5, 481.6 303.9 Q 481.6 304.9, 481.0 305.6 Q 480.5 306.3, 479.5 306.6 \" fill=\"#000000\"/>\n<path class=\"note\" d=\"M 565.4 157.9 L 566.9 157.9 L 566.9 159.3 L 565.4 159.3 L 565.4 162.0 L 563.9 162.0 L 563.9 159.3 L 557.7 159.3 L 557.7 158.2 L 562.9 150.1 L 565.4 150.1 L 565.4 157.9 M 559.6 157.9 L 563.9 157.9 L 563.9 151.2 L 559.6 157.9 \" fill=\"#000000\"/>\n<path class=\"note\" d=\"M 418.5 178.4 Q 419.5 178.4, 420.4 178.9 Q 421.2 179.3, 421.7 180.2 Q 422.2 181.0, 422.2 182.1 Q 422.2 183.3, 421.6 184.2 Q 421.0 185.1, 420.0 185.6 Q 419.1 186.0, 418.0 186.0 Q 416.9 186.0, 415.9 185.6 Q 414.8 185.2, 414.2 184.4 L 415.2 183.4 Q 415.7 184.0, 416.5 184.3 Q 417.2 184.7, 418.0 184.7 Q 419.1 184.7, 419.8 184.0 Q 420.5 183.3, 420.5 182.2 Q 420.5 180.9, 419.8 180.3 Q 419.1 179.7, 417.9 179.7 Q 416.9 179.7, 415.7 180.2 L 414.8 179.7 L 415.3 174.0 L 421.5 174.0 L 421.3 175.3 L 416.7 175.3 L 416.4 178.9 Q 417.4 178.4, 418.5 178.4 \" fill=\"#000000\"/>\n<path class=\"note\" d=\"M 562.8 202.4 Q 563.9 202.4, 564.7 202.8 Q 565.5 203.3, 566.0 204.1 Q 566.4 204.9, 566.4 206.0 Q 566.4 207.1, 565.9 208.0 Q 565.4 208.9, 564.5 209.4 Q 563.6 209.9, 562.4 209.9 Q 560.3 209.9, 559.2 208.5 Q 558.2 207.1, 558.2 204.2 Q 558.2 201.1, 559.5 199.4 Q 560.8 197.8, 563.3 197.8 Q 564.1 197.8, 564.7 197.9 Q 565.3 198.1, 565.9 198.5 L 565.3 199.6 Q 564.4 199.1, 563.4 199.1 Q 561.7 199.1, 560.8 200.2 Q 560.0 201.3, 559.9 203.5 Q 560.5 203.0, 561.2 202.7 Q 562.0 202.4, 562.8 202.4 M 562.4 208.6 Q 563.1 208.6, 563.6 208.2 Q 564.1 207.9, 564.4 207.3 Q 564.7 206.7, 564.7 206.0 Q 564.7 204.9, 564.1 204.3 Q 563.6 203.7, 562.5 203.7 Q 561.8 203.7, 561.1 204.0 Q 560.4 204.3, 559.9 204.8 Q 559.9 206.8, 560.5 207.7 Q 561.2 208.6, 562.4 208.6 \" fill=\"#000000\"/>\n<path class=\"note\" d=\"M 647.3 199.2 L 641.1 199.2 L 641.1 197.8 L 649.0 197.8 L 649.0 199.0 L 644.1 209.8 L 642.5 209.8 L 647.3 199.2 \" fill=\"#000000\"/>\n<path class=\"note\" d=\"M 605.6 131.9 Q 606.7 132.4, 607.3 133.1 Q 607.9 133.8, 607.9 135.0 Q 607.9 136.0, 607.4 136.8 Q 606.9 137.5, 605.9 138.0 Q 605.0 138.4, 603.8 138.4 Q 601.8 138.4, 600.6 137.5 Q 599.5 136.6, 599.5 135.0 Q 599.5 134.0, 600.0 133.3 Q 600.5 132.5, 601.5 132.0 Q 600.8 131.5, 600.4 130.9 Q 599.9 130.2, 599.9 129.2 Q 599.9 127.8, 600.9 127.0 Q 602.0 126.2, 603.7 126.2 Q 605.4 126.2, 606.4 127.0 Q 607.5 127.8, 607.5 129.2 Q 607.5 130.1, 607.0 130.8 Q 606.5 131.4, 605.6 131.9 M 603.7 127.5 Q 602.7 127.5, 602.2 127.9 Q 601.6 128.4, 601.6 129.2 Q 601.6 129.9, 602.0 130.3 Q 602.4 130.7, 602.9 130.9 Q 603.4 131.2, 604.4 131.5 Q 605.2 131.0, 605.5 130.5 Q 605.8 129.9, 605.8 129.2 Q 605.8 128.4, 605.2 127.9 Q 604.7 127.5, 603.7 127.5 M 603.8 137.1 Q 604.9 137.1, 605.5 136.6 Q 606.2 135.9, 606.2 135.0 Q 606.2 134.3, 605.9 133.9 Q 605.5 133.5, 605.0 133.3 Q 604.5 133.0, 603.5 132.7 L 602.8 132.5 Q 601.9 133.0, 601.5 133.6 Q 601.2 134.2, 601.2 135.0 Q 601.2 135.9, 601.9 136.6 Q 602.6 137.1, 603.8 137.1 \" fill=\"#000000\"/>\n<path class=\"note\" d=\"M 722.4 221.7 Q 724.5 221.7, 725.5 223.2 Q 726.6 224.6, 726.6 227.5 Q 726.6 230.6, 725.3 232.3 Q 724.0 233.9, 721.4 233.9 Q 720.7 233.9, 720.1 233.7 Q 719.4 233.6, 718.8 233.2 L 719.5 232.1 Q 720.4 232.6, 721.4 232.6 Q 723.1 232.6, 724.0 231.5 Q 724.8 230.4, 724.9 228.2 Q 724.3 228.7, 723.5 229.0 Q 722.8 229.3, 722.0 229.3 Q 720.9 229.3, 720.1 228.9 Q 719.3 228.4, 718.8 227.6 Q 718.4 226.8, 718.4 225.7 Q 718.4 224.5, 718.9 223.7 Q 719.4 222.8, 720.3 222.2 Q 721.2 221.7, 722.4 221.7 M 720.1 225.7 Q 720.1 226.8, 720.6 227.4 Q 721.2 228.0, 722.3 228.0 Q 723.0 228.0, 723.7 227.7 Q 724.4 227.4, 724.9 226.9 Q 724.9 224.9, 724.2 224.0 Q 723.6 223.1, 722.4 223.1 Q 721.7 223.1, 721.2 223.5 Q 720.7 223.8, 720.4 224.4 Q 720.1 225.0, 720.1 225.7 \" fill=\"#000000\"/>\n<path class=\"note\" d=\"M 461.4 109.5 L 464.0 109.5 L 464.0 100.6 L 461.2 101.4 L 460.8 100.5 L 464.4 98.8 L 465.6 99.0 L 465.6 109.5 L 467.9 109.5 L 467.9 110.8 L 461.4 110.8 L 461.4 109.5 \" fill=\"#000000\"/>\n<path class=\"note\" d=\"M 473.3 110.9 Q 471.1 110.9, 470.0 109.3 Q 469.0 107.7, 469.0 104.8 Q 469.0 102.0, 470.0 100.4 Q 471.1 98.8, 473.3 98.8 Q 475.5 98.8, 476.6 100.4 Q 477.7 102.0, 477.7 104.8 Q 477.7 107.7, 476.6 109.3 Q 475.5 110.9, 473.3 110.9 M 473.3 109.6 Q 474.6 109.6, 475.3 108.4 Q 476.0 107.2, 476.0 104.8 Q 476.0 102.5, 475.3 101.3 Q 474.6 100.1, 473.3 100.1 Q 472.0 100.1, 471.3 101.3 Q 470.7 102.5, 470.7 104.8 Q 470.7 107.2, 471.3 108.4 Q 472.0 109.6, 473.3 109.6 \" fill=\"#000000\"/>\n<path class=\"note\" d=\"M 593.2 273.9 L 595.8 273.9 L 595.8 265.0 L 592.9 265.9 L 592.5 264.9 L 596.1 263.3 L 597.3 263.5 L 597.3 273.9 L 599.7 273.9 L 599.7 275.3 L 593.2 275.3 L 593.2 273.9 \" fill=\"#000000\"/>\n<path class=\"note\" d=\"M 601.2 273.9 L 603.8 273.9 L 603.8 265.0 L 601.0 265.9 L 600.6 264.9 L 604.2 263.3 L 605.4 263.5 L 605.4 273.9 L 607.8 273.9 L 607.8 275.3 L 601.2 275.3 L 601.2 273.9 \" fill=\"#000000\"/>\n<path class=\"note\" d=\"M 634.1 160.7 L 636.7 160.7 L 636.7 151.8 L 633.8 152.7 L 633.4 151.7 L 637.0 150.1 L 638.2 150.3 L 638.2 160.7 L 640.6 160.7 L 640.6 162.1 L 634.1 162.1 L 634.1 160.7 \" fill=\"#000000\"/>\n<path class=\"note\" d=\"M 641.5 152.4 Q 641.9 151.3, 642.9 150.7 Q 644.0 150.0, 645.4 150.0 Q 647.2 150.0, 648.2 151.0 Q 649.2 152.0, 649.2 153.7 Q 649.2 155.5, 647.9 157.1 Q 646.6 158.8, 643.9 160.7 L 649.4 160.7 L 649.4 162.1 L 641.4 162.1 L 641.4 161.0 Q 643.6 159.4, 645.0 158.2 Q 646.3 157.0, 646.9 156.0 Q 647.6 154.9, 647.6 153.8 Q 647.6 152.7, 647.0 152.0 Q 646.4 151.4, 645.4 151.4 Q 644.5 151.4, 643.8 151.8 Q 643.2 152.2, 642.7 153.0 L 641.5 152.4 \" fill=\"#000000\"/>\n<path class=\"note\" d=\"M 474.7 220.3 L 477.4 220.3 L 477.4 211.4 L 474.5 212.3 L 474.1 211.3 L 477.7 209.6 L 478.9 209.8 L 478.9 220.3 L 481.3 220.3 L 481.3 221.6 L 474.7 221.6 L 474.7 220.3 \" fill=\"#000000\"/>\n<path class=\"note\" d=\"M 487.7 215.3 Q 488.9 215.7, 489.4 216.4 Q 490.0 217.2, 490.0 218.3 Q 490.0 219.4, 489.5 220.1 Q 489.0 220.9, 488.0 221.4 Q 487.1 221.8, 485.9 221.8 Q 484.6 221.8, 483.7 221.3 Q 482.7 220.9, 482.0 220.0 L 482.9 219.0 Q 483.7 219.8, 484.3 220.1 Q 484.9 220.4, 485.9 220.4 Q 487.0 220.4, 487.6 219.9 Q 488.3 219.3, 488.3 218.3 Q 488.3 217.1, 487.6 216.6 Q 486.9 216.0, 485.5 216.0 L 484.6 216.0 L 484.6 214.8 L 485.4 214.8 Q 486.7 214.8, 487.4 214.2 Q 488.0 213.7, 488.0 212.6 Q 488.0 211.8, 487.5 211.4 Q 486.9 210.9, 485.9 210.9 Q 484.9 210.9, 484.3 211.3 Q 483.7 211.6, 483.2 212.5 L 482.1 211.9 Q 482.5 210.9, 483.5 210.2 Q 484.5 209.6, 485.9 209.6 Q 487.7 209.6, 488.7 210.4 Q 489.7 211.2, 489.7 212.6 Q 489.7 213.6, 489.2 214.3 Q 488.7 215.0, 487.7 215.3 \" fill=\"#000000\"/>\n<path class=\"note\" d=\"M 571.6 47.6 L 574.2 47.6 L 574.2 38.7 L 571.3 39.6 L 570.9 38.6 L 574.6 37.0 L 575.8 37.2 L 575.8 47.6 L 578.1 47.6 L 578.1 49.0 L 571.6 49.0 L 571.6 47.6 \" fill=\"#000000\"/>\n<path class=\"note\" d=\"M 586.4 44.9 L 587.8 44.9 L 587.8 46.2 L 586.4 46.2 L 586.4 49.0 L 584.8 49.0 L 584.8 46.2 L 578.6 46.2 L 578.6 45.2 L 583.8 37.1 L 586.4 37.1 L 586.4 44.9 M 580.6 44.9 L 584.8 44.9 L 584.8 38.1 L 580.6 44.9 \" fill=\"#000000\"/>\n<path d=\"M 511.8 388.3 Q 512.5 388.6, 513.1 388.7 Q 513.6 388.9, 514.1 388.9 Q 514.9 388.9, 515.3 388.6 Q 515.7 388.3, 515.7 387.7 Q 515.7 387.3, 515.5 387.1 Q 515.2 386.9, 515.0 386.7 Q 514.7 386.6, 514.0 386.4 Q 513.9 386.4, 513.2 386.1 Q 512.4 385.8, 512.0 385.3 Q 511.6 384.8, 511.6 384.0 Q 511.6 383.0, 512.4 382.3 Q 513.2 381.6, 514.7 381.6 Q 515.3 381.6, 515.8 381.8 Q 516.4 381.9, 517.0 382.2 L 516.6 383.3 Q 516.1 383.1, 515.6 383.0 Q 515.2 382.9, 514.7 382.9 Q 513.9 382.9, 513.5 383.2 Q 513.1 383.5, 513.1 383.9 Q 513.1 384.4, 513.4 384.6 Q 513.7 384.8, 514.4 385.1 Q 514.6 385.1, 514.7 385.2 L 515.1 385.3 Q 515.8 385.5, 516.2 385.8 Q 516.6 386.0, 516.9 386.5 Q 517.2 386.9, 517.2 387.7 Q 517.2 388.8, 516.3 389.5 Q 515.5 390.1, 514.2 390.1 Q 513.4 390.1, 512.7 390.0 Q 512.0 389.8, 511.4 389.5 L 511.8 388.3 \" fill=\"#000000\"/>\n<path d=\"M 517.9 385.9 Q 517.9 383.9, 518.9 382.7 Q 520.0 381.6, 521.8 381.6 Q 523.7 381.6, 524.7 382.7 Q 525.7 383.9, 525.7 385.9 Q 525.7 387.9, 524.7 389.0 Q 523.7 390.1, 521.8 390.1 Q 520.0 390.1, 518.9 389.0 Q 517.9 387.9, 517.9 385.9 M 519.5 385.9 Q 519.5 387.4, 520.1 388.2 Q 520.7 388.9, 521.8 388.9 Q 523.0 388.9, 523.6 388.2 Q 524.2 387.4, 524.2 385.9 Q 524.2 384.4, 523.6 383.6 Q 523.0 382.8, 521.8 382.8 Q 520.7 382.8, 520.1 383.6 Q 519.5 384.4, 519.5 385.9 \" fill=\"#000000\"/>\n<path d=\"M 528.3 381.8 L 528.5 382.9 Q 529.3 381.6, 530.8 381.6 Q 531.2 381.6, 531.8 381.8 L 531.6 383.1 Q 530.9 383.0, 530.5 383.0 Q 529.8 383.0, 529.4 383.2 Q 528.9 383.5, 528.6 384.1 L 528.6 390.0 L 527.1 390.0 L 527.1 381.8 L 528.3 381.8 \" fill=\"#000000\"/>\n<path d=\"M 532.3 382.9 L 532.3 381.8 L 533.8 381.8 L 534.1 379.4 L 535.2 379.4 L 535.2 381.8 L 537.7 381.8 L 537.7 382.9 L 535.2 382.9 L 535.2 387.5 Q 535.2 388.9, 536.4 388.9 Q 536.9 388.9, 537.6 388.7 L 537.9 389.7 Q 537.0 390.1, 536.1 390.1 Q 535.1 390.1, 534.4 389.4 Q 533.7 388.8, 533.7 387.5 L 533.7 382.9 L 532.3 382.9 \" fill=\"#000000\"/>\n<path d=\"M 538.6 385.9 Q 538.6 383.8, 539.6 382.7 Q 540.6 381.6, 542.4 381.6 Q 544.3 381.6, 545.1 382.7 Q 545.9 383.8, 545.9 385.8 L 545.9 386.1 L 540.1 386.1 Q 540.2 387.5, 540.8 388.2 Q 541.4 388.9, 542.6 388.9 Q 543.2 388.9, 543.8 388.8 Q 544.4 388.6, 545.1 388.3 L 545.6 389.3 Q 544.7 389.8, 544.0 389.9 Q 543.3 390.1, 542.5 390.1 Q 540.6 390.1, 539.6 389.0 Q 538.6 387.9, 538.6 385.9 M 542.4 382.8 Q 541.5 382.8, 540.9 383.4 Q 540.4 383.9, 540.2 385.0 L 544.3 385.0 Q 544.2 383.8, 543.7 383.3 Q 543.3 382.8, 542.4 382.8 \" fill=\"#000000\"/>\n<path d=\"M 554.1 377.8 L 554.1 390.0 L 552.9 390.0 L 552.7 389.0 Q 551.7 390.1, 550.2 390.1 Q 548.5 390.1, 547.6 389.1 Q 546.6 388.0, 546.6 386.0 Q 546.6 383.9, 547.7 382.8 Q 548.9 381.6, 550.8 381.6 Q 551.7 381.6, 552.6 381.8 L 552.6 377.8 L 554.1 377.8 M 550.3 388.9 Q 551.2 388.9, 551.7 388.5 Q 552.4 388.0, 552.6 387.2 L 552.6 383.0 Q 551.8 382.8, 550.8 382.8 Q 549.6 382.8, 548.9 383.7 Q 548.1 384.5, 548.1 386.0 Q 548.1 387.4, 548.7 388.2 Q 549.3 388.9, 550.3 388.9 \" fill=\"#000000\"/>\n<path d=\"\" fill=\"#000000\"/>\n<path d=\"M 563.3 381.6 Q 565.0 381.6, 565.9 382.7 Q 566.9 383.8, 566.9 385.7 Q 566.9 387.8, 565.8 389.0 Q 564.6 390.1, 562.7 390.1 Q 561.4 390.1, 560.2 389.6 L 559.4 389.5 L 559.4 377.8 L 560.9 377.8 L 560.9 382.7 Q 561.8 381.6, 563.3 381.6 M 562.7 388.9 Q 563.9 388.9, 564.6 388.1 Q 565.4 387.3, 565.4 385.7 Q 565.4 384.3, 564.8 383.6 Q 564.2 382.8, 563.2 382.8 Q 562.4 382.8, 561.8 383.3 Q 561.2 383.7, 560.9 384.5 L 560.9 388.7 Q 561.8 388.9, 562.7 388.9 \" fill=\"#000000\"/>\n<path d=\"M 573.4 381.8 L 574.9 381.8 L 570.6 393.9 L 569.3 393.9 L 570.6 390.0 L 570.0 390.0 L 567.1 381.8 L 568.6 381.8 L 571.0 388.7 L 573.4 381.8 \" fill=\"#000000\"/>\n<path d=\"\" fill=\"#000000\"/>\n<path d=\"M 579.6 387.8 Q 579.6 386.5, 580.6 385.7 Q 581.7 385.0, 583.6 385.0 L 584.8 385.0 L 584.8 384.7 Q 584.8 383.7, 584.4 383.2 Q 584.0 382.8, 583.0 382.8 Q 582.3 382.8, 581.8 382.9 Q 581.3 383.0, 580.5 383.4 L 580.0 382.4 Q 581.5 381.6, 583.0 381.6 Q 584.7 381.6, 585.5 382.4 Q 586.3 383.1, 586.3 384.7 L 586.3 390.0 L 585.2 390.0 Q 585.2 389.9, 585.1 389.7 Q 585.1 389.4, 585.0 389.0 Q 583.8 390.2, 582.3 390.2 Q 581.0 390.2, 580.3 389.5 Q 579.6 388.9, 579.6 387.8 M 581.1 387.7 Q 581.1 388.3, 581.5 388.7 Q 581.8 389.0, 582.6 389.0 Q 583.2 389.0, 583.8 388.7 Q 584.4 388.4, 584.8 387.9 L 584.8 386.1 L 583.7 386.1 Q 582.4 386.1, 581.7 386.5 Q 581.1 386.9, 581.1 387.7 \" fill=\"#000000\"/>\n<path d=\"M 586.8 382.9 L 586.8 381.8 L 588.4 381.8 L 588.6 379.4 L 589.7 379.4 L 589.7 381.8 L 592.3 381.8 L 592.3 382.9 L 589.7 382.9 L 589.7 387.5 Q 589.7 388.9, 590.9 388.9 Q 591.4 388.9, 592.1 388.7 L 592.4 389.7 Q 591.5 390.1, 590.7 390.1 Q 589.6 390.1, 588.9 389.4 Q 588.2 388.8, 588.2 387.5 L 588.2 382.9 L 586.8 382.9 \" fill=\"#000000\"/>\n<path d=\"M 593.1 385.9 Q 593.1 383.9, 594.1 382.7 Q 595.2 381.6, 597.0 381.6 Q 598.9 381.6, 599.9 382.7 Q 600.9 383.9, 600.9 385.9 Q 600.9 387.9, 599.9 389.0 Q 598.9 390.1, 597.0 390.1 Q 595.2 390.1, 594.1 389.0 Q 593.1 387.9, 593.1 385.9 M 594.7 385.9 Q 594.7 387.4, 595.3 388.2 Q 595.9 388.9, 597.0 388.9 Q 598.2 388.9, 598.8 388.2 Q 599.4 387.4, 599.4 385.9 Q 599.4 384.4, 598.8 383.6 Q 598.2 382.8, 597.0 382.8 Q 595.9 382.8, 595.3 383.6 Q 594.7 384.4, 594.7 385.9 \" fill=\"#000000\"/>\n<path d=\"M 611.7 381.6 Q 613.1 381.6, 613.8 382.4 Q 614.5 383.1, 614.5 384.6 L 614.5 390.0 L 613.0 390.0 L 613.0 384.7 Q 613.0 383.7, 612.7 383.3 Q 612.3 382.8, 611.5 382.8 Q 610.7 382.8, 610.1 383.2 Q 609.5 383.5, 609.1 384.1 Q 609.2 384.2, 609.2 384.6 L 609.2 390.0 L 607.6 390.0 L 607.6 384.7 Q 607.6 383.7, 607.3 383.3 Q 606.9 382.8, 606.1 382.8 Q 605.3 382.8, 604.7 383.2 Q 604.1 383.5, 603.7 384.1 L 603.7 390.0 L 602.2 390.0 L 602.2 381.8 L 603.5 381.8 L 603.6 382.9 Q 604.7 381.6, 606.4 381.6 Q 608.3 381.6, 608.9 383.1 Q 610.0 381.6, 611.7 381.6 \" fill=\"#000000\"/>\n<path d=\"M 615.9 378.7 L 617.4 378.7 L 617.4 380.1 L 615.9 380.1 L 615.9 378.7 M 615.9 381.8 L 617.4 381.8 L 617.4 390.0 L 615.9 390.0 L 615.9 381.8 \" fill=\"#000000\"/>\n<path d=\"M 618.1 385.9 Q 618.1 383.9, 619.1 382.8 Q 620.1 381.6, 622.1 381.6 Q 623.9 381.6, 624.9 383.0 L 623.9 383.7 Q 623.5 383.3, 623.1 383.0 Q 622.6 382.8, 622.1 382.8 Q 620.9 382.8, 620.3 383.6 Q 619.7 384.4, 619.7 385.9 Q 619.7 387.4, 620.3 388.2 Q 621.0 388.9, 622.2 388.9 Q 622.8 388.9, 623.3 388.8 Q 623.8 388.6, 624.3 388.4 L 624.8 389.4 Q 623.6 390.1, 622.0 390.1 Q 620.1 390.1, 619.1 389.0 Q 618.1 387.8, 618.1 385.9 \" fill=\"#000000\"/>\n<path d=\"\" fill=\"#000000\"/>\n<path d=\"M 634.5 381.6 Q 635.8 381.6, 636.5 382.4 Q 637.2 383.1, 637.2 384.6 L 637.2 390.0 L 635.7 390.0 L 635.7 384.7 Q 635.7 383.7, 635.3 383.3 Q 635.0 382.8, 634.1 382.8 Q 633.4 382.8, 632.8 383.2 Q 632.1 383.5, 631.7 384.1 L 631.7 390.0 L 630.2 390.0 L 630.2 381.8 L 631.5 381.8 L 631.6 382.9 Q 632.7 381.6, 634.5 381.6 \" fill=\"#000000\"/>\n<path d=\"M 645.4 381.8 L 645.4 390.0 L 644.2 390.0 L 644.0 388.9 Q 643.0 390.1, 641.2 390.1 Q 639.9 390.1, 639.2 389.4 Q 638.4 388.6, 638.4 387.2 L 638.4 381.8 L 640.0 381.8 L 640.0 387.1 Q 640.0 388.1, 640.3 388.5 Q 640.7 389.0, 641.5 389.0 Q 642.3 389.0, 642.9 388.6 Q 643.5 388.3, 643.9 387.7 L 643.9 381.8 L 645.4 381.8 \" fill=\"#000000\"/>\n<path d=\"M 656.3 381.6 Q 657.6 381.6, 658.4 382.4 Q 659.1 383.1, 659.1 384.6 L 659.1 390.0 L 657.6 390.0 L 657.6 384.7 Q 657.6 383.7, 657.2 383.3 Q 656.8 382.8, 656.0 382.8 Q 655.2 382.8, 654.6 383.2 Q 654.0 383.5, 653.6 384.1 Q 653.7 384.2, 653.7 384.6 L 653.7 390.0 L 652.2 390.0 L 652.2 384.7 Q 652.2 383.7, 651.8 383.3 Q 651.4 382.8, 650.6 382.8 Q 649.9 382.8, 649.2 383.2 Q 648.6 383.5, 648.3 384.1 L 648.3 390.0 L 646.8 390.0 L 646.8 381.8 L 648.0 381.8 L 648.1 382.9 Q 649.2 381.6, 650.9 381.6 Q 652.8 381.6, 653.4 383.1 Q 654.5 381.6, 656.3 381.6 \" fill=\"#000000\"/>\n<path d=\"M 664.3 381.6 Q 666.0 381.6, 666.9 382.7 Q 667.9 383.8, 667.9 385.7 Q 667.9 387.8, 666.7 389.0 Q 665.6 390.1, 663.6 390.1 Q 662.4 390.1, 661.1 389.6 L 660.4 389.5 L 660.4 377.8 L 661.9 377.8 L 661.9 382.7 Q 662.8 381.6, 664.3 381.6 M 663.6 388.9 Q 664.9 388.9, 665.6 388.1 Q 666.3 387.3, 666.3 385.7 Q 666.3 384.3, 665.8 383.6 Q 665.2 382.8, 664.2 382.8 Q 663.3 382.8, 662.7 383.3 Q 662.1 383.7, 661.9 384.5 L 661.9 388.7 Q 662.7 388.9, 663.6 388.9 \" fill=\"#000000\"/>\n<path d=\"M 668.6 385.9 Q 668.6 383.8, 669.6 382.7 Q 670.6 381.6, 672.5 381.6 Q 674.3 381.6, 675.1 382.7 Q 675.9 383.8, 675.9 385.8 L 675.9 386.1 L 670.1 386.1 Q 670.2 387.5, 670.8 388.2 Q 671.4 388.9, 672.6 388.9 Q 673.2 388.9, 673.8 388.8 Q 674.4 388.6, 675.1 388.3 L 675.6 389.3 Q 674.8 389.8, 674.0 389.9 Q 673.3 390.1, 672.5 390.1 Q 670.7 390.1, 669.6 389.0 Q 668.6 387.9, 668.6 385.9 M 672.5 382.8 Q 671.5 382.8, 670.9 383.4 Q 670.4 383.9, 670.2 385.0 L 674.3 385.0 Q 674.2 383.8, 673.7 383.3 Q 673.3 382.8, 672.5 382.8 \" fill=\"#000000\"/>\n<path d=\"M 678.5 381.8 L 678.6 382.9 Q 679.5 381.6, 680.9 381.6 Q 681.4 381.6, 682.0 381.8 L 681.7 383.1 Q 681.0 383.0, 680.7 383.0 Q 680.0 383.0, 679.5 383.2 Q 679.1 383.5, 678.8 384.1 L 678.8 390.0 L 677.2 390.0 L 677.2 381.8 L 678.5 381.8 \" fill=\"#000000\"/>\n</svg>",
      "text/plain": [
       "<IPython.core.display.SVG object>"
      ]
     },
     "execution_count": 13,
     "metadata": {},
     "output_type": "execute_result"
    }
   ],
   "source": [
    "m_sorted_by_atomic_numbers = sort_molecule_by_atomic_numbers(m_canon)\n",
    "print_molecule(m_sorted_by_atomic_numbers, \"sorted by atomic number\")\n",
    "draw_molecules([m_canon, m_sorted_by_atomic_numbers], [\"canonicalized\", \"sorted by atomic number\"])"
   ]
  },
  {
   "cell_type": "markdown",
   "metadata": {},
   "source": [
    "However, in a typical molecule there are multiple atoms with the same atomic number. Consider for example the five `N` atoms above. To further differentiate these `N` atoms, they have been ranked [lexicographically](https://en.wikipedia.org/wiki/Lexicographic_order) by the atomic numbers of their neighbours. More specifically, for each atom `a` we constructed a list of the atomic numbers of `a`'s neighbors, like so:\n",
    "\n",
    "| index | list of neighboring atomic number (decreasing order) |\n",
    "|-------|-----------------------------------|\n",
    "| 9     | [6, 1, 1] |\n",
    "| 10    | [6, 6] |\n",
    "| 11    | [6, 6] |\n",
    "| 12    | [6, 6, 1] |\n",
    "| 13    | [6, 6, 1] |\n",
    "\n",
    "Note that each list of neighboring atomic numbers is sorted in decreasing order. This ensures that the lexicographic sorting ranks atoms with identical atomic numbers by their \"largest\" neighbors (in terms of atomic numbers). At this point we can also see why it's important to canonicalize the molecule prior to sorting: the atoms with indices 10 and 11 cannot be sorted based on their neighbors' atomic numbers (likewise indices 12 and 13). Without canonicalization, these indices would pertain to different atoms depending on the inital configuration of the molecule (i.e., the way it's read from the molfile)."
   ]
  },
  {
   "cell_type": "markdown",
   "metadata": {
    "id": "W7MBySTb2O-e"
   },
   "source": [
    "Finally, we can write the string representation for the molecule."
   ]
  },
  {
   "cell_type": "code",
   "execution_count": 14,
   "metadata": {
    "colab": {
     "base_uri": "https://localhost:8080/",
     "height": 35
    },
    "id": "c3pug1IuMGFC",
    "outputId": "cabe911f-167d-444f-8fe1-94fd36745019"
   },
   "outputs": [
    {
     "data": {
      "text/plain": [
       "'C5H5N5O:(0, 9)(1, 9)(2, 12)(3, 13)(4, 6)(4, 8)(4, 10)(5, 10)(5, 13)(6, 11)(6, 13)(7, 9)(7, 11)(7, 12)(8, 12)(8, 14)'"
      ]
     },
     "execution_count": 14,
     "metadata": {},
     "output_type": "execute_result"
    }
   ],
   "source": [
    "write_string_representation(m_sorted_by_atomic_numbers)"
   ]
  },
  {
   "cell_type": "markdown",
   "metadata": {
    "id": "IBHOWAPs8Q4h"
   },
   "source": [
    "# Invariance Test\n",
    "In order to be useful for the identification of a molecule, the string representation must be invariant. That is, irrespective of a molecule's initial atom indices, the serialization should always result in the same string representation. Below we set up a simple test of invariance. For each molecule in our testset, we do the following. After loading the molecule, we randomly permute its atom indices, resulting in an original atom `m` and a permuted atom `m_permuted`. This is akin to obtaining the same molecule from two users who drew the atoms in different order, resulting in different atom indices. Subsequently, we assert that the string representations of `m` and `m_permuted` are identical. If this assertion fails, the serialization does not result in a unique string representation for `m`."
   ]
  },
  {
   "cell_type": "code",
   "execution_count": 15,
   "metadata": {
    "colab": {
     "base_uri": "https://localhost:8080/",
     "height": 235
    },
    "id": "fFeyfg4Bf89u",
    "outputId": "b94b3eff-8d32-46bf-b202-2a2d23b1c712"
   },
   "outputs": [
    {
     "name": "stdout",
     "output_type": "stream",
     "text": [
      "\n",
      "Testing ../test/testfiles/2-8-dimethyldecane/2-8-dimethyldecane.mol for invariance...\n",
      "\n",
      "C12H26:(0, 26)(1, 26)(2, 26)(3, 27)(4, 27)(5, 27)(6, 28)(7, 28)(8, 28)(9, 29)(10, 29)(11, 29)(12, 30)(13, 30)(14, 31)(15, 31)(16, 32)(17, 32)(18, 33)(19, 33)(20, 34)(21, 34)(22, 35)(23, 35)(24, 36)(25, 37)(26, 34)(27, 36)(28, 36)(29, 37)(30, 31)(30, 32)(31, 33)(32, 35)(33, 36)(34, 37)(35, 37)\n",
      "matches\n",
      "C12H26:(0, 26)(1, 26)(2, 26)(3, 27)(4, 27)(5, 27)(6, 28)(7, 28)(8, 28)(9, 29)(10, 29)(11, 29)(12, 30)(13, 30)(14, 31)(15, 31)(16, 32)(17, 32)(18, 33)(19, 33)(20, 34)(21, 34)(22, 35)(23, 35)(24, 36)(25, 37)(26, 34)(27, 36)(28, 36)(29, 37)(30, 31)(30, 32)(31, 33)(32, 35)(33, 36)(34, 37)(35, 37).\n",
      "\n",
      "Testing ../test/testfiles/2-aminopyridine/2-aminopyridine.mol for invariance...\n",
      "\n",
      "C5H6N2:(0, 9)(1, 6)(2, 7)(3, 8)(4, 11)(5, 11)(6, 8)(6, 9)(7, 8)(7, 10)(9, 12)(10, 11)(10, 12)\n",
      "matches\n",
      "C5H6N2:(0, 9)(1, 6)(2, 7)(3, 8)(4, 11)(5, 11)(6, 8)(6, 9)(7, 8)(7, 10)(9, 12)(10, 11)(10, 12).\n",
      "\n",
      "Testing ../test/testfiles/acetylacetonate/acetylacetonate.mol for invariance...\n",
      "\n",
      "C5H12O2:(0, 8)(1, 8)(2, 8)(3, 9)(4, 9)(5, 9)(6, 10)(7, 10)(8, 11)(9, 12)(10, 11)(10, 12)(11, 13)(12, 14)\n",
      "matches\n",
      "C5H12O2:(0, 8)(1, 8)(2, 8)(3, 9)(4, 9)(5, 9)(6, 10)(7, 10)(8, 11)(9, 12)(10, 11)(10, 12)(11, 13)(12, 14).\n",
      "\n",
      "Testing ../test/testfiles/anthracene/anthracene.mol for invariance...\n",
      "\n",
      "C14H10:(0, 10)(1, 11)(2, 12)(3, 13)(4, 14)(5, 15)(6, 16)(7, 17)(8, 18)(9, 19)(10, 11)(10, 14)(11, 15)(12, 13)(12, 16)(13, 17)(14, 20)(15, 21)(16, 22)(17, 23)(18, 20)(18, 22)(19, 21)(19, 23)(20, 21)(22, 23)\n",
      "matches\n",
      "C14H10:(0, 10)(1, 11)(2, 12)(3, 13)(4, 14)(5, 15)(6, 16)(7, 17)(8, 18)(9, 19)(10, 11)(10, 14)(11, 15)(12, 13)(12, 16)(13, 17)(14, 20)(15, 21)(16, 22)(17, 23)(18, 20)(18, 22)(19, 21)(19, 23)(20, 21)(22, 23).\n",
      "\n",
      "Testing ../test/testfiles/aspartic_acid/aspartic_acid.mol for invariance...\n",
      "\n",
      "C4H7NO4:(0, 7)(1, 7)(2, 8)(3, 11)(4, 11)(5, 14)(6, 15)(7, 8)(7, 9)(8, 10)(8, 11)(9, 12)(9, 14)(10, 13)(10, 15)\n",
      "matches\n",
      "C4H7NO4:(0, 7)(1, 7)(2, 8)(3, 11)(4, 11)(5, 14)(6, 15)(7, 8)(7, 9)(8, 10)(8, 11)(9, 12)(9, 14)(10, 13)(10, 15).\n",
      "\n",
      "Testing ../test/testfiles/benzene/benzene.mol for invariance...\n",
      "\n",
      "C6H6:(0, 6)(1, 7)(2, 8)(3, 9)(4, 10)(5, 11)(6, 7)(6, 8)(7, 9)(8, 10)(9, 11)(10, 11)\n",
      "matches\n",
      "C6H6:(0, 6)(1, 7)(2, 8)(3, 9)(4, 10)(5, 11)(6, 7)(6, 8)(7, 9)(8, 10)(9, 11)(10, 11).\n",
      "\n",
      "Testing ../test/testfiles/benzoic_acid/benzoic_acid.mol for invariance...\n",
      "\n",
      "C7H6O2:(0, 6)(1, 7)(2, 8)(3, 9)(4, 10)(5, 14)(6, 7)(6, 8)(7, 9)(8, 10)(9, 11)(10, 11)(11, 12)(12, 13)(12, 14)\n",
      "matches\n",
      "C7H6O2:(0, 6)(1, 7)(2, 8)(3, 9)(4, 10)(5, 14)(6, 7)(6, 8)(7, 9)(8, 10)(9, 11)(10, 11)(11, 12)(12, 13)(12, 14).\n",
      "\n",
      "Testing ../test/testfiles/BF3/BF3.mol for invariance...\n",
      "\n",
      "BF3:(0, 1)(0, 2)(0, 3)\n",
      "matches\n",
      "BF3:(0, 1)(0, 2)(0, 3).\n",
      "\n",
      "Testing ../test/testfiles/bipyridine/bipyridine.mol for invariance...\n",
      "\n",
      "C10H8N2:(0, 14)(1, 15)(2, 8)(3, 9)(4, 10)(5, 11)(6, 12)(7, 13)(8, 12)(8, 14)(9, 13)(9, 15)(10, 12)(10, 16)(11, 13)(11, 17)(14, 18)(15, 19)(16, 17)(16, 18)(17, 19)\n",
      "matches\n",
      "C10H8N2:(0, 14)(1, 15)(2, 8)(3, 9)(4, 10)(5, 11)(6, 12)(7, 13)(8, 12)(8, 14)(9, 13)(9, 15)(10, 12)(10, 16)(11, 13)(11, 17)(14, 18)(15, 19)(16, 17)(16, 18)(17, 19).\n",
      "\n",
      "Testing ../test/testfiles/bis-cyclopentadiene/bis-cyclopentadiene.mol for invariance...\n",
      "\n",
      "C10H8:(0, 8)(1, 9)(2, 10)(3, 11)(4, 12)(5, 13)(6, 14)(7, 15)(8, 9)(8, 12)(9, 13)(10, 11)(10, 14)(11, 15)(12, 16)(13, 16)(14, 17)(15, 17)(16, 17)\n",
      "matches\n",
      "C10H8:(0, 8)(1, 9)(2, 10)(3, 11)(4, 12)(5, 13)(6, 14)(7, 15)(8, 9)(8, 12)(9, 13)(10, 11)(10, 14)(11, 15)(12, 16)(13, 16)(14, 17)(15, 17)(16, 17).\n",
      "\n",
      "Testing ../test/testfiles/cf3alkyne/cf3alkyne.mol for invariance...\n",
      "\n",
      "C6H5F3O2:(0, 5)(1, 5)(2, 5)(3, 8)(4, 8)(5, 8)(6, 7)(6, 9)(7, 10)(8, 12)(9, 11)(9, 12)(10, 13)(10, 14)(10, 15)\n",
      "matches\n",
      "C6H5F3O2:(0, 5)(1, 5)(2, 5)(3, 8)(4, 8)(5, 8)(6, 7)(6, 9)(7, 10)(8, 12)(9, 11)(9, 12)(10, 13)(10, 14)(10, 15).\n",
      "\n",
      "Testing ../test/testfiles/CrCO6/CrCO6.mol for invariance...\n",
      "\n",
      "C6H6CrO6:(0, 6)(0, 12)(1, 7)(1, 12)(2, 8)(2, 12)(3, 9)(3, 12)(4, 10)(4, 12)(5, 11)(5, 12)\n",
      "matches\n",
      "C6H6CrO6:(0, 6)(0, 12)(1, 7)(1, 12)(2, 8)(2, 12)(3, 9)(3, 12)(4, 10)(4, 12)(5, 11)(5, 12).\n",
      "\n",
      "Testing ../test/testfiles/cyclobutane/cyclobutane.mol for invariance...\n",
      "\n",
      "C4H8:(0, 8)(1, 8)(2, 9)(3, 9)(4, 10)(5, 10)(6, 11)(7, 11)(8, 9)(8, 10)(9, 11)(10, 11)\n",
      "matches\n",
      "C4H8:(0, 8)(1, 8)(2, 9)(3, 9)(4, 10)(5, 10)(6, 11)(7, 11)(8, 9)(8, 10)(9, 11)(10, 11).\n",
      "\n",
      "Testing ../test/testfiles/cyclohexane/cyclohexane.mol for invariance...\n",
      "\n",
      "C6H12:(0, 12)(1, 12)(2, 13)(3, 13)(4, 14)(5, 14)(6, 15)(7, 15)(8, 16)(9, 16)(10, 17)(11, 17)(12, 13)(12, 14)(13, 15)(14, 16)(15, 17)(16, 17)\n",
      "matches\n",
      "C6H12:(0, 12)(1, 12)(2, 13)(3, 13)(4, 14)(5, 14)(6, 15)(7, 15)(8, 16)(9, 16)(10, 17)(11, 17)(12, 13)(12, 14)(13, 15)(14, 16)(15, 17)(16, 17).\n",
      "\n",
      "Testing ../test/testfiles/cyclopentane/cyclopentane.mol for invariance...\n",
      "\n",
      "C5H10:(0, 10)(1, 10)(2, 11)(3, 11)(4, 12)(5, 12)(6, 13)(7, 13)(8, 14)(9, 14)(10, 11)(10, 12)(11, 13)(12, 14)(13, 14)\n",
      "matches\n",
      "C5H10:(0, 10)(1, 10)(2, 11)(3, 11)(4, 12)(5, 12)(6, 13)(7, 13)(8, 14)(9, 14)(10, 11)(10, 12)(11, 13)(12, 14)(13, 14).\n",
      "\n",
      "Testing ../test/testfiles/cyclophane1/cyclophane1.mol for invariance...\n",
      "\n",
      "C16H16:(0, 16)(1, 17)(2, 18)(3, 19)(4, 20)(5, 21)(6, 22)(7, 23)(8, 24)(9, 24)(10, 25)(11, 25)(12, 26)(13, 26)(14, 27)(15, 27)(16, 20)(16, 28)(17, 21)(17, 28)(18, 22)(18, 29)(19, 23)(19, 29)(20, 30)(21, 30)(22, 31)(23, 31)(24, 25)(24, 28)(25, 29)(26, 27)(26, 30)(27, 31)\n",
      "matches\n",
      "C16H16:(0, 16)(1, 17)(2, 18)(3, 19)(4, 20)(5, 21)(6, 22)(7, 23)(8, 24)(9, 24)(10, 25)(11, 25)(12, 26)(13, 26)(14, 27)(15, 27)(16, 20)(16, 28)(17, 21)(17, 28)(18, 22)(18, 29)(19, 23)(19, 29)(20, 30)(21, 30)(22, 31)(23, 31)(24, 25)(24, 28)(25, 29)(26, 27)(26, 30)(27, 31).\n",
      "\n",
      "Testing ../test/testfiles/cyclophane2/cyclophane2.mol for invariance...\n",
      "\n",
      "C16H28:(0, 28)(1, 28)(2, 29)(3, 29)(4, 30)(5, 30)(6, 31)(7, 31)(8, 32)(9, 32)(10, 33)(11, 33)(12, 34)(13, 34)(14, 35)(15, 35)(16, 36)(17, 36)(18, 37)(19, 37)(20, 38)(21, 38)(22, 39)(23, 39)(24, 40)(25, 41)(26, 42)(27, 43)(28, 32)(28, 40)(29, 33)(29, 40)(30, 34)(30, 41)(31, 35)(31, 41)(32, 42)(33, 42)(34, 43)(35, 43)(36, 37)(36, 40)(37, 41)(38, 39)(38, 42)(39, 43)\n",
      "matches\n",
      "C16H28:(0, 28)(1, 28)(2, 29)(3, 29)(4, 30)(5, 30)(6, 31)(7, 31)(8, 32)(9, 32)(10, 33)(11, 33)(12, 34)(13, 34)(14, 35)(15, 35)(16, 36)(17, 36)(18, 37)(19, 37)(20, 38)(21, 38)(22, 39)(23, 39)(24, 40)(25, 41)(26, 42)(27, 43)(28, 32)(28, 40)(29, 33)(29, 40)(30, 34)(30, 41)(31, 35)(31, 41)(32, 42)(33, 42)(34, 43)(35, 43)(36, 37)(36, 40)(37, 41)(38, 39)(38, 42)(39, 43).\n",
      "\n",
      "Testing ../test/testfiles/cyclopropane/cyclopropane.mol for invariance...\n",
      "\n",
      "C3H6:(0, 6)(1, 6)(2, 7)(3, 7)(4, 8)(5, 8)(6, 7)(6, 8)(7, 8)\n",
      "matches\n",
      "C3H6:(0, 6)(1, 6)(2, 7)(3, 7)(4, 8)(5, 8)(6, 7)(6, 8)(7, 8).\n",
      "\n",
      "Testing ../test/testfiles/decaline/decaline.mol for invariance...\n",
      "\n",
      "C10H18:(0, 18)(1, 18)(2, 19)(3, 19)(4, 20)(5, 20)(6, 21)(7, 21)(8, 22)(9, 22)(10, 23)(11, 23)(12, 24)(13, 24)(14, 25)(15, 25)(16, 26)(17, 27)(18, 20)(18, 22)(19, 21)(19, 23)(20, 24)(21, 25)(22, 26)(23, 26)(24, 27)(25, 27)(26, 27)\n",
      "matches\n",
      "C10H18:(0, 18)(1, 18)(2, 19)(3, 19)(4, 20)(5, 20)(6, 21)(7, 21)(8, 22)(9, 22)(10, 23)(11, 23)(12, 24)(13, 24)(14, 25)(15, 25)(16, 26)(17, 27)(18, 20)(18, 22)(19, 21)(19, 23)(20, 24)(21, 25)(22, 26)(23, 26)(24, 27)(25, 27)(26, 27).\n",
      "\n",
      "Testing ../test/testfiles/ethane/ethane.mol for invariance...\n",
      "\n",
      "C2H6:(0, 6)(1, 6)(2, 6)(3, 7)(4, 7)(5, 7)(6, 7)\n",
      "matches\n",
      "C2H6:(0, 6)(1, 6)(2, 6)(3, 7)(4, 7)(5, 7)(6, 7).\n",
      "\n",
      "Testing ../test/testfiles/ethanol/ethanol.mol for invariance...\n",
      "\n",
      "C2H6O:(0, 6)(1, 6)(2, 6)(3, 7)(4, 7)(5, 8)(6, 7)(7, 8)\n",
      "matches\n",
      "C2H6O:(0, 6)(1, 6)(2, 6)(3, 7)(4, 7)(5, 8)(6, 7)(7, 8).\n",
      "\n",
      "Testing ../test/testfiles/glucose/glucose.mol for invariance...\n",
      "\n",
      "C6H12O6:(0, 12)(1, 12)(2, 13)(3, 14)(4, 15)(5, 17)(6, 16)(7, 18)(8, 19)(9, 20)(10, 21)(11, 22)(12, 13)(12, 18)(13, 15)(13, 23)(14, 15)(14, 16)(14, 19)(15, 20)(16, 17)(16, 22)(17, 21)(17, 23)\n",
      "matches\n",
      "C6H12O6:(0, 12)(1, 12)(2, 13)(3, 14)(4, 15)(5, 17)(6, 16)(7, 18)(8, 19)(9, 20)(10, 21)(11, 22)(12, 13)(12, 18)(13, 15)(13, 23)(14, 15)(14, 16)(14, 19)(15, 20)(16, 17)(16, 22)(17, 21)(17, 23).\n",
      "\n",
      "Testing ../test/testfiles/guanine/guanine.mol for invariance...\n",
      "\n",
      "C5H5N5O:(0, 9)(1, 9)(2, 12)(3, 13)(4, 6)(4, 8)(4, 10)(5, 10)(5, 13)(6, 11)(6, 13)(7, 9)(7, 11)(7, 12)(8, 12)(8, 14)\n",
      "matches\n",
      "C5H5N5O:(0, 9)(1, 9)(2, 12)(3, 13)(4, 6)(4, 8)(4, 10)(5, 10)(5, 13)(6, 11)(6, 13)(7, 9)(7, 11)(7, 12)(8, 12)(8, 14).\n",
      "\n",
      "Testing ../test/testfiles/HCl/HCl.mol for invariance...\n",
      "\n",
      "HCl:(0, 1)\n",
      "matches\n",
      "HCl:(0, 1).\n",
      "\n",
      "Testing ../test/testfiles/helium/helium.mol for invariance...\n",
      "\n",
      "He:\n",
      "matches\n",
      "He:.\n",
      "\n",
      "Testing ../test/testfiles/HOAc/HOAc.mol for invariance...\n",
      "\n",
      "C2H4O2:(0, 4)(1, 4)(2, 4)(3, 7)(4, 5)(5, 6)(5, 7)\n",
      "matches\n",
      "C2H4O2:(0, 4)(1, 4)(2, 4)(3, 7)(4, 5)(5, 6)(5, 7).\n",
      "\n",
      "Testing ../test/testfiles/hydrogen/hydrogen.mol for invariance...\n",
      "\n",
      "H2:(0, 1)\n",
      "matches\n",
      "H2:(0, 1).\n",
      "\n",
      "Testing ../test/testfiles/m-chlortoluene/m-chlortoluene.mol for invariance...\n",
      "\n",
      "C7H7Cl:(0, 8)(1, 9)(2, 10)(3, 11)(4, 7)(5, 7)(6, 7)(7, 12)(8, 9)(8, 10)(9, 13)(10, 12)(11, 12)(11, 13)(13, 14)\n",
      "matches\n",
      "C7H7Cl:(0, 8)(1, 9)(2, 10)(3, 11)(4, 7)(5, 7)(6, 7)(7, 12)(8, 9)(8, 10)(9, 13)(10, 12)(11, 12)(11, 13)(13, 14).\n",
      "\n",
      "Testing ../test/testfiles/methane/methane.mol for invariance...\n",
      "\n",
      "CH4:(0, 4)(1, 4)(2, 4)(3, 4)\n",
      "matches\n",
      "CH4:(0, 4)(1, 4)(2, 4)(3, 4).\n",
      "\n",
      "Testing ../test/testfiles/naphthalene/naphthalene.mol for invariance...\n",
      "\n",
      "C10H8:(0, 8)(1, 9)(2, 10)(3, 11)(4, 12)(5, 13)(6, 14)(7, 15)(8, 10)(8, 12)(9, 11)(9, 13)(10, 14)(11, 15)(12, 16)(13, 16)(14, 17)(15, 17)(16, 17)\n",
      "matches\n",
      "C10H8:(0, 8)(1, 9)(2, 10)(3, 11)(4, 12)(5, 13)(6, 14)(7, 15)(8, 10)(8, 12)(9, 11)(9, 13)(10, 14)(11, 15)(12, 16)(13, 16)(14, 17)(15, 17)(16, 17).\n",
      "\n",
      "Testing ../test/testfiles/nitrobenzene/nitrobenzene.mol for invariance...\n",
      "\n",
      "C6H7NO2:(0, 5)(1, 6)(2, 7)(3, 8)(4, 9)(5, 6)(5, 7)(6, 8)(7, 9)(8, 10)(9, 10)(10, 11)(11, 12)(11, 13)\n",
      "matches\n",
      "C6H7NO2:(0, 5)(1, 6)(2, 7)(3, 8)(4, 9)(5, 6)(5, 7)(6, 8)(7, 9)(8, 10)(9, 10)(10, 11)(11, 12)(11, 13).\n",
      "\n",
      "Testing ../test/testfiles/norbornadiene/norbornadiene.mol for invariance...\n",
      "\n",
      "C7H8:(0, 8)(1, 9)(2, 10)(3, 11)(4, 13)(5, 14)(6, 12)(7, 12)(8, 9)(8, 13)(9, 14)(10, 11)(10, 13)(11, 14)(12, 13)(12, 14)\n",
      "matches\n",
      "C7H8:(0, 8)(1, 9)(2, 10)(3, 11)(4, 13)(5, 14)(6, 12)(7, 12)(8, 9)(8, 13)(9, 14)(10, 11)(10, 13)(11, 14)(12, 13)(12, 14).\n",
      "\n",
      "Testing ../test/testfiles/P3As/P3As.mol for invariance...\n",
      "\n",
      "AsP3:(0, 1)(0, 2)(0, 3)(1, 2)(1, 3)(2, 3)\n",
      "matches\n",
      "AsP3:(0, 1)(0, 2)(0, 3)(1, 2)(1, 3)(2, 3).\n",
      "\n",
      "Testing ../test/testfiles/P4/P4.mol for invariance...\n",
      "\n",
      "P4:(0, 1)(0, 2)(0, 3)(1, 2)(1, 3)(2, 3)\n",
      "matches\n",
      "P4:(0, 1)(0, 2)(0, 3)(1, 2)(1, 3)(2, 3).\n",
      "\n",
      "Testing ../test/testfiles/PH4PF6/PH4PF6.mol for invariance...\n",
      "\n",
      "H6F6P2:(0, 10)(1, 10)(2, 10)(3, 10)(4, 11)(5, 11)(6, 11)(7, 11)(8, 11)(9, 11)\n",
      "matches\n",
      "H6F6P2:(0, 10)(1, 10)(2, 10)(3, 10)(4, 11)(5, 11)(6, 11)(7, 11)(8, 11)(9, 11).\n",
      "\n",
      "Testing ../test/testfiles/phenylpyridine/phenylpyridine.mol for invariance...\n",
      "\n",
      "C11H9N:(0, 18)(1, 9)(2, 10)(3, 11)(4, 12)(5, 13)(6, 14)(7, 15)(8, 16)(9, 11)(9, 18)(10, 11)(10, 19)(12, 13)(12, 14)(13, 15)(14, 16)(15, 17)(16, 17)(17, 19)(18, 20)(19, 20)\n",
      "matches\n",
      "C11H9N:(0, 18)(1, 9)(2, 10)(3, 11)(4, 12)(5, 13)(6, 14)(7, 15)(8, 16)(9, 11)(9, 18)(10, 11)(10, 19)(12, 13)(12, 14)(13, 15)(14, 16)(15, 17)(16, 17)(17, 19)(18, 20)(19, 20).\n",
      "\n",
      "Testing ../test/testfiles/phen_HCl_H2O/phen_HCl_H2O.mol for invariance...\n",
      "\n",
      "C12H11ClN2O:(0, 19)(1, 11)(2, 12)(3, 13)(4, 14)(5, 15)(6, 16)(7, 20)(8, 24)(9, 25)(10, 25)(11, 13)(11, 19)(12, 15)(12, 20)(13, 17)(14, 16)(14, 17)(15, 18)(16, 18)(17, 21)(18, 22)(19, 23)(20, 24)(21, 22)(21, 23)(22, 24)\n",
      "matches\n",
      "C12H11ClN2O:(0, 19)(1, 11)(2, 12)(3, 13)(4, 14)(5, 15)(6, 16)(7, 20)(8, 24)(9, 25)(10, 25)(11, 13)(11, 19)(12, 15)(12, 20)(13, 17)(14, 16)(14, 17)(15, 18)(16, 18)(17, 21)(18, 22)(19, 23)(20, 24)(21, 22)(21, 23)(22, 24).\n",
      "\n",
      "Testing ../test/testfiles/proline/proline.mol for invariance...\n",
      "\n",
      "C5H9NO2:(0, 11)(1, 11)(2, 12)(3, 9)(4, 9)(5, 10)(6, 10)(7, 14)(8, 16)(9, 10)(9, 11)(10, 12)(11, 14)(12, 13)(12, 14)(13, 15)(13, 16)\n",
      "matches\n",
      "C5H9NO2:(0, 11)(1, 11)(2, 12)(3, 9)(4, 9)(5, 10)(6, 10)(7, 14)(8, 16)(9, 10)(9, 11)(10, 12)(11, 14)(12, 13)(12, 14)(13, 15)(13, 16).\n",
      "\n",
      "Testing ../test/testfiles/SiCl4/SiCl4.mol for invariance...\n",
      "\n",
      "Cl4Si:(0, 1)(0, 2)(0, 3)(0, 4)\n",
      "matches\n",
      "Cl4Si:(0, 1)(0, 2)(0, 3)(0, 4).\n",
      "\n",
      "Testing ../test/testfiles/terephthalic_acid/terephthalic_acid.mol for invariance...\n",
      "\n",
      "C8H6O4:(0, 6)(1, 7)(2, 8)(3, 9)(4, 16)(5, 17)(6, 8)(6, 10)(7, 9)(7, 10)(8, 11)(9, 11)(10, 12)(11, 13)(12, 14)(12, 16)(13, 15)(13, 17)\n",
      "matches\n",
      "C8H6O4:(0, 6)(1, 7)(2, 8)(3, 9)(4, 16)(5, 17)(6, 8)(6, 10)(7, 9)(7, 10)(8, 11)(9, 11)(10, 12)(11, 13)(12, 14)(12, 16)(13, 15)(13, 17).\n",
      "\n",
      "Testing ../test/testfiles/THF/THF.mol for invariance...\n",
      "\n",
      "C4H8O:(0, 10)(1, 10)(2, 11)(3, 11)(4, 8)(5, 8)(6, 9)(7, 9)(8, 9)(8, 10)(9, 11)(10, 12)(11, 12)\n",
      "matches\n",
      "C4H8O:(0, 10)(1, 10)(2, 11)(3, 11)(4, 8)(5, 8)(6, 9)(7, 9)(8, 9)(8, 10)(9, 11)(10, 12)(11, 12).\n",
      "\n",
      "Testing ../test/testfiles/tnt/tnt.mol for invariance...\n",
      "\n",
      "C6H3N3O6:(0, 3)(1, 4)(2, 5)(3, 6)(3, 7)(4, 6)(4, 8)(5, 7)(5, 8)(6, 9)(7, 10)(8, 11)(9, 12)(9, 15)(10, 13)(10, 16)(11, 14)(11, 17)\n",
      "matches\n",
      "C6H3N3O6:(0, 3)(1, 4)(2, 5)(3, 6)(3, 7)(4, 6)(4, 8)(5, 7)(5, 8)(6, 9)(7, 10)(8, 11)(9, 12)(9, 15)(10, 13)(10, 16)(11, 14)(11, 17).\n",
      "\n",
      "Testing ../test/testfiles/toluene/toluene.mol for invariance...\n",
      "\n",
      "C7H8:(0, 9)(1, 10)(2, 11)(3, 12)(4, 13)(5, 8)(6, 8)(7, 8)(8, 14)(9, 10)(9, 11)(10, 12)(11, 13)(12, 14)(13, 14)\n",
      "matches\n",
      "C7H8:(0, 9)(1, 10)(2, 11)(3, 12)(4, 13)(5, 8)(6, 8)(7, 8)(8, 14)(9, 10)(9, 11)(10, 12)(11, 13)(12, 14)(13, 14).\n",
      "\n",
      "Testing ../test/testfiles/tpp/tpp.mol for invariance...\n",
      "\n",
      "C20H14N4:(0, 14)(1, 15)(2, 16)(3, 17)(4, 18)(5, 19)(6, 20)(7, 21)(8, 22)(9, 23)(10, 24)(11, 25)(12, 36)(13, 37)(14, 15)(14, 26)(15, 28)(16, 17)(16, 27)(17, 29)(18, 26)(18, 30)(19, 27)(19, 31)(20, 28)(20, 32)(21, 29)(21, 33)(22, 23)(22, 30)(23, 31)(24, 25)(24, 32)(25, 33)(26, 34)(27, 35)(28, 34)(29, 35)(30, 36)(31, 36)(32, 37)(33, 37)\n",
      "matches\n",
      "C20H14N4:(0, 14)(1, 15)(2, 16)(3, 17)(4, 18)(5, 19)(6, 20)(7, 21)(8, 22)(9, 23)(10, 24)(11, 25)(12, 36)(13, 37)(14, 15)(14, 26)(15, 28)(16, 17)(16, 27)(17, 29)(18, 26)(18, 30)(19, 27)(19, 31)(20, 28)(20, 32)(21, 29)(21, 33)(22, 23)(22, 30)(23, 31)(24, 25)(24, 32)(25, 33)(26, 34)(27, 35)(28, 34)(29, 35)(30, 36)(31, 36)(32, 37)(33, 37).\n",
      "\n",
      "Testing ../test/testfiles/water/water.mol for invariance...\n",
      "\n",
      "H2O:(0, 2)(1, 2)\n",
      "matches\n",
      "H2O:(0, 2)(1, 2).\n",
      "\n",
      "Testing ../test/testfiles/XeOF4/XeOF4.mol for invariance...\n",
      "\n",
      "F4OXe:(0, 5)(1, 5)(2, 5)(3, 5)(4, 5)\n",
      "matches\n",
      "F4OXe:(0, 5)(1, 5)(2, 5)(3, 5)(4, 5).\n",
      "\n",
      "Testing ../test/testfiles/zeise_salz/zeise_salz.mol for invariance...\n",
      "\n",
      "C2H4Cl3Pt:(0, 4)(1, 4)(2, 5)(3, 5)(4, 5)(4, 9)(5, 9)(6, 9)(7, 9)(8, 9)\n",
      "matches\n",
      "C2H4Cl3Pt:(0, 4)(1, 4)(2, 5)(3, 5)(4, 5)(4, 9)(5, 9)(6, 9)(7, 9)(8, 9).\n",
      "\n",
      "0/47 invariance tests failed.\n"
     ]
    }
   ],
   "source": [
    "testfiles = list(Path(MOLFILEPATH).glob(\"*/*.mol\"))\n",
    "    \n",
    "def load_molfile(path):\n",
    "    m = MolFromMolFile(str(path), removeHs=False)\n",
    "    try:\n",
    "        # Unfortunately, RDKit exceptions cannot be caught. However, MolFromMolFile returns None if validation fails.\n",
    "        n_atoms = m.GetNumAtoms() # raises AttributeError in case m_original is None\n",
    "        if n_atoms < 1:\n",
    "            raise Exception(f\"Molecule has < 1 ({n_atoms}) atoms\")\n",
    "        return m\n",
    "    except Exception as e:\n",
    "        return None\n",
    " \n",
    "def test_invariance(m):\n",
    "    m_permuted = permute_molecule(m)\n",
    "\n",
    "    m_canon = sort_molecule_by_canonical_indices(m)\n",
    "    m_permuted_canon = sort_molecule_by_canonical_indices(m_permuted)\n",
    "    \n",
    "    m_sorted = sort_molecule_by_atomic_numbers(m_canon)\n",
    "    m_permuted_sorted = sort_molecule_by_atomic_numbers(m_permuted_canon)\n",
    "    \n",
    "    string_original = write_string_representation(m_sorted)\n",
    "    string_permuted = write_string_representation(m_permuted_sorted)\n",
    "    \n",
    "    try:\n",
    "        assert string_original == string_permuted, f\"{string_original}\\ndoesn't match\\n{string_permuted}.\"\n",
    "        print(f\"{string_original}\\nmatches\\n{string_permuted}.\")\n",
    "        return True\n",
    "    except AssertionError as e:\n",
    "        print(e)\n",
    "        return False\n",
    "\n",
    "n_failed_molecules = 0\n",
    "n_molecules = 0\n",
    "for molfile in testfiles:\n",
    "    m = load_molfile(molfile)\n",
    "    if not m: continue\n",
    "    print(f\"\\nTesting {str(molfile)} for invariance...\\n\")\n",
    "    if not test_invariance(m): n_failed_molecules += 1\n",
    "    n_molecules += 1\n",
    "        \n",
    "print(f\"\\n{n_failed_molecules}/{n_molecules} invariance tests failed.\")"
   ]
  },
  {
   "cell_type": "code",
   "execution_count": 16,
   "metadata": {},
   "outputs": [
    {
     "name": "stdout",
     "output_type": "stream",
     "text": [
      "Explicit valence for atom # 2 N, 4, is greater than permitted\n",
      "Explicit valence for atom # 4 N, 4, is greater than permitted\n",
      "Explicit valence for atom # 0 C, 5, is greater than permitted\n",
      "Explicit valence for atom # 1 C, 5, is greater than permitted\n",
      "Explicit valence for atom # 2 C, 5, is greater than permitted\n",
      "Explicit valence for atom # 3 C, 5, is greater than permitted\n",
      "Explicit valence for atom # 4 C, 5, is greater than permitted\n",
      "Explicit valence for atom # 5 C, 5, is greater than permitted\n",
      "Explicit valence for atom # 0 C, 5, is greater than permitted\n",
      "Explicit valence for atom # 1 C, 5, is greater than permitted\n",
      "Explicit valence for atom # 2 C, 5, is greater than permitted\n",
      "Explicit valence for atom # 3 C, 5, is greater than permitted\n",
      "Explicit valence for atom # 0 B, 4, is greater than permitted\n",
      "Explicit valence for atom # 1 H, 2, is greater than permitted\n",
      "Explicit valence for atom # 2 B, 4, is greater than permitted\n",
      "Explicit valence for atom # 3 H, 2, is greater than permitted\n",
      "Explicit valence for atom # 0 B, 4, is greater than permitted\n",
      "Explicit valence for atom # 7 N, 4, is greater than permitted\n",
      "Explicit valence for atom # 13 H, 2, is greater than permitted\n",
      "Explicit valence for atom # 0 C, 6, is greater than permitted\n",
      "Explicit valence for atom # 22 N, 4, is greater than permitted\n",
      "non-ring atom 15 marked aromatic\n",
      "non-ring atom 15 marked aromatic\n",
      "Explicit valence for atom # 5 N, 4, is greater than permitted\n",
      "Explicit valence for atom # 3 N, 4, is greater than permitted\n",
      "Explicit valence for atom # 10 N, 4, is greater than permitted\n",
      "Explicit valence for atom # 14 N, 4, is greater than permitted\n",
      "Explicit valence for atom # 19 N, 4, is greater than permitted\n",
      "Explicit valence for atom # 24 N, 4, is greater than permitted\n",
      "Explicit valence for atom # 35 N, 4, is greater than permitted\n",
      "Explicit valence for atom # 5 N, 4, is greater than permitted\n",
      "['../test/testfiles/2-8-dimethyldecane/2-8-dimethyldecane.mol', '../test/testfiles/2-aminopyridine/2-aminopyridine.mol', '../test/testfiles/acetylacetonate/acetylacetonate.mol', '../test/testfiles/ammonia/ammonia.mol', '../test/testfiles/anthracene/anthracene.mol', '../test/testfiles/aspartic_acid/aspartic_acid.mol', '../test/testfiles/benzene/benzene.mol', '../test/testfiles/benzoic_acid/benzoic_acid.mol', '../test/testfiles/BF3/BF3.mol', '../test/testfiles/bipyridine/bipyridine.mol', '../test/testfiles/bis-cyclopentadiene/bis-cyclopentadiene.mol', '../test/testfiles/cf3alkyne/cf3alkyne.mol', '../test/testfiles/CrCO6/CrCO6.mol', '../test/testfiles/cyclobutane/cyclobutane.mol', '../test/testfiles/cyclohexane/cyclohexane.mol', '../test/testfiles/cyclopentane/cyclopentane.mol', '../test/testfiles/cyclophane1/cyclophane1.mol', '../test/testfiles/cyclophane2/cyclophane2.mol', '../test/testfiles/cyclopropane/cyclopropane.mol', '../test/testfiles/decaline/decaline.mol', '../test/testfiles/ethane/ethane.mol', '../test/testfiles/ethanol/ethanol.mol', '../test/testfiles/glucose/glucose.mol', '../test/testfiles/guanine/guanine.mol', '../test/testfiles/HCl/HCl.mol', '../test/testfiles/helium/helium.mol', '../test/testfiles/HOAc/HOAc.mol', '../test/testfiles/hydrogen/hydrogen.mol', '../test/testfiles/m-chlortoluene/m-chlortoluene.mol', '../test/testfiles/methane/methane.mol', '../test/testfiles/naphthalene/naphthalene.mol', '../test/testfiles/NCl3/NCl3.mol', '../test/testfiles/nitrobenzene/nitrobenzene.mol', '../test/testfiles/norbornadiene/norbornadiene.mol', '../test/testfiles/P3As/P3As.mol', '../test/testfiles/P4/P4.mol', '../test/testfiles/PH4PF6/PH4PF6.mol', '../test/testfiles/phenylpyridine/phenylpyridine.mol', '../test/testfiles/phen_HCl_H2O/phen_HCl_H2O.mol', '../test/testfiles/proline/proline.mol', '../test/testfiles/SiCl4/SiCl4.mol', '../test/testfiles/terephthalic_acid/terephthalic_acid.mol', '../test/testfiles/THF/THF.mol', '../test/testfiles/tnt/tnt.mol', '../test/testfiles/toluene/toluene.mol', '../test/testfiles/tpp/tpp.mol', '../test/testfiles/water/water.mol', '../test/testfiles/XeOF4/XeOF4.mol', '../test/testfiles/zeise_salz/zeise_salz.mol'] 49\n",
      "['../test/testfiles/cisplatin/cisplatin.mol', '../test/testfiles/CrCO3benzene/CrCO3benzene.mol', '../test/testfiles/cymantrene/cymantrene.mol', '../test/testfiles/diborane/diborane.mol', '../test/testfiles/EMIM-BF4/EMIM-BF4.mol', '../test/testfiles/FeMo_cluster/FeMo_cluster.mol', '../test/testfiles/ferrocene/ferrocene.mol', '../test/testfiles/ferrocene-CH3/ferrocene-CH3.mol', '../test/testfiles/NH4PF6/NH4PF6.mol', '../test/testfiles/Rubpy3/Rubpy3.mol', '../test/testfiles/SbH4PF6/SbH4PF6.mol'] 11\n",
      "['../test/testfiles/BeCl2/BeCl2.mol', '../test/testfiles/NiCO4/NiCO4.mol'] 2\n"
     ]
    }
   ],
   "source": [
    "testfiles = list(Path(MOLFILEPATH).glob(\"*/*.mol\"))\n",
    "loaded = []\n",
    "loaded_with_problems = []\n",
    "failed = []\n",
    "for molfile in testfiles:\n",
    "    m = MolFromMolFile(str(molfile), removeHs=False, sanitize=False)\n",
    "    if m:\n",
    "      problems = DetectChemistryProblems(m)\n",
    "      if problems:\n",
    "        loaded_with_problems.append(str(molfile))\n",
    "        for problem in problems:\n",
    "          print(problem.Message())\n",
    "      else:\n",
    "        loaded.append(str(molfile))\n",
    "\n",
    "      # m.UpdatePropertyCache(strict=False)\n",
    "      # Chem.SanitizeMol(m,Chem.SanitizeFlags.SANITIZE_FINDRADICALS|Chem.SanitizeFlags.SANITIZE_KEKULIZE|Chem.SanitizeFlags.SANITIZE_SETAROMATICITY|Chem.SanitizeFlags.SANITIZE_SETCONJUGATION|Chem.SanitizeFlags.SANITIZE_SETHYBRIDIZATION|Chem.SanitizeFlags.SANITIZE_SYMMRINGS,catchErrors=True)\n",
    "    else:\n",
    "      failed.append(str(molfile))\n",
    "\n",
    "print(loaded, len(loaded))\n",
    "print(loaded_with_problems, len(loaded_with_problems))\n",
    "print(failed, len(failed))"
   ]
  }
 ],
 "metadata": {
  "colab": {
   "collapsed_sections": [
    "xmZj9UdM82IG"
   ],
   "name": "RDKit_canonicalization.ipynb",
   "provenance": []
  },
  "kernelspec": {
   "display_name": "Python 3 (ipykernel)",
   "language": "python",
   "name": "python3"
  },
  "language_info": {
   "codemirror_mode": {
    "name": "ipython",
    "version": 3
   },
   "file_extension": ".py",
   "mimetype": "text/x-python",
   "name": "python",
   "nbconvert_exporter": "python",
   "pygments_lexer": "ipython3",
   "version": "3.9.7"
  }
 },
 "nbformat": 4,
 "nbformat_minor": 1
}
